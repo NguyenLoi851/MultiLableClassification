{
  "cells": [
    {
      "cell_type": "markdown",
      "metadata": {
        "id": "view-in-github",
        "colab_type": "text"
      },
      "source": [
        "<a href=\"https://colab.research.google.com/github/NguyenLoi851/MultiLableClassification/blob/main/Naive_Bayes_with_LabelPowerset.ipynb\" target=\"_parent\"><img src=\"https://colab.research.google.com/assets/colab-badge.svg\" alt=\"Open In Colab\"/></a>"
      ]
    },
    {
      "cell_type": "markdown",
      "metadata": {
        "id": "IFMUl99e-knN"
      },
      "source": [
        "#Import library"
      ]
    },
    {
      "cell_type": "code",
      "source": [
        "pip install scikit-multilearn"
      ],
      "metadata": {
        "colab": {
          "base_uri": "https://localhost:8080/"
        },
        "id": "raQbhtB6stq8",
        "outputId": "4ec090da-149a-43f5-cc3d-4a81326018e3"
      },
      "execution_count": null,
      "outputs": [
        {
          "output_type": "stream",
          "name": "stdout",
          "text": [
            "Requirement already satisfied: scikit-multilearn in /usr/local/lib/python3.7/dist-packages (0.2.0)\n"
          ]
        }
      ]
    },
    {
      "cell_type": "code",
      "execution_count": null,
      "metadata": {
        "colab": {
          "base_uri": "https://localhost:8080/"
        },
        "id": "Wv-768E9wj2H",
        "outputId": "caab4214-c013-4933-ff9e-7d8d81e53d40"
      },
      "outputs": [
        {
          "output_type": "stream",
          "name": "stdout",
          "text": [
            "[nltk_data] Downloading package wordnet to /root/nltk_data...\n",
            "[nltk_data]   Package wordnet is already up-to-date!\n",
            "[nltk_data] Downloading package averaged_perceptron_tagger to\n",
            "[nltk_data]     /root/nltk_data...\n",
            "[nltk_data]   Package averaged_perceptron_tagger is already up-to-\n",
            "[nltk_data]       date!\n",
            "[nltk_data] Downloading package punkt to /root/nltk_data...\n",
            "[nltk_data]   Package punkt is already up-to-date!\n",
            "[nltk_data] Downloading package stopwords to /root/nltk_data...\n",
            "[nltk_data]   Package stopwords is already up-to-date!\n"
          ]
        }
      ],
      "source": [
        "# import and read csv\n",
        "import pandas as pd\n",
        "from tensorflow.keras import layers\n",
        "from tensorflow import keras\n",
        "import tensorflow as tf\n",
        "from sklearn.model_selection import train_test_split\n",
        "from ast import literal_eval\n",
        "import numpy as np\n",
        "import string\n",
        "import re\n",
        "import pandas as pd\n",
        "\n",
        "\n",
        "#Pre-processing data\n",
        "import nltk\n",
        "from nltk.stem import WordNetLemmatizer\n",
        "from nltk.corpus import stopwords\n",
        "from nltk.tag import pos_tag\n",
        "from nltk.tokenize import word_tokenize\n",
        "\n",
        "nltk.download('wordnet')\n",
        "nltk.download('averaged_perceptron_tagger')\n",
        "nltk.download('punkt')\n",
        "nltk.download('stopwords')\n",
        "\n",
        "# Visualization data\n",
        "import matplotlib.pyplot as plt \n",
        "import seaborn as sns\n",
        "import itertools\n",
        "\n",
        "#Binarizer labels\n",
        "from sklearn.preprocessing import MultiLabelBinarizer\n",
        "\n",
        "#Split and vectorizer data\n",
        "from sklearn.model_selection import train_test_split\n",
        "from sklearn.feature_extraction.text import TfidfVectorizer\n",
        "from sklearn.feature_extraction.text import CountVectorizer\n",
        "\n",
        "#Train the model\n",
        "from skmultilearn.problem_transform import LabelPowerset\n",
        "from sklearn.naive_bayes import MultinomialNB\n",
        "from sklearn.naive_bayes import BernoulliNB\n",
        "\n",
        "#Model evaluation\n",
        "from sklearn.metrics import classification_report\n",
        "from sklearn.metrics import multilabel_confusion_matrix\n",
        "\n",
        "#Oversampling\n",
        "from imblearn.over_sampling import RandomOverSampler"
      ]
    },
    {
      "cell_type": "markdown",
      "metadata": {
        "id": "usj_PZWH-_vS"
      },
      "source": [
        "#Read and filter data"
      ]
    },
    {
      "cell_type": "code",
      "source": [
        "!pip install -U -q PyDrive\n",
        "from pydrive.auth import GoogleAuth\n",
        "from pydrive.drive import GoogleDrive\n",
        "from google.colab import auth\n",
        "from oauth2client.client import GoogleCredentials\n",
        "  \n",
        "# Authenticate and create the PyDrive client.\n",
        "auth.authenticate_user()\n",
        "gauth = GoogleAuth()\n",
        "gauth.credentials = GoogleCredentials.get_application_default()\n",
        "drive = GoogleDrive(gauth)\n",
        "\n",
        "\n",
        "link = 'https://drive.google.com/file/d/1_Qzhh4ycfWVSu_Umza8vuu92hQQXHkHC/view?usp=sharing'\n",
        "  \n",
        "# to get the id part of the file\n",
        "id = link.split(\"/\")[-2]\n",
        "  \n",
        "downloaded = drive.CreateFile({'id':id}) \n",
        "downloaded.GetContentFile('arxiv.csv')  \n",
        "  \n",
        "arxiv_data = pd.read_csv('arxiv.csv')\n",
        "arxiv_data.head()"
      ],
      "metadata": {
        "colab": {
          "base_uri": "https://localhost:8080/",
          "height": 206
        },
        "id": "MSAZ11NAucDQ",
        "outputId": "4a090cbe-7029-4cb1-8623-e2cb49351c76"
      },
      "execution_count": null,
      "outputs": [
        {
          "output_type": "execute_result",
          "data": {
            "text/html": [
              "\n",
              "  <div id=\"df-996b6cfe-302d-4de2-b9c8-d4865b87d506\">\n",
              "    <div class=\"colab-df-container\">\n",
              "      <div>\n",
              "<style scoped>\n",
              "    .dataframe tbody tr th:only-of-type {\n",
              "        vertical-align: middle;\n",
              "    }\n",
              "\n",
              "    .dataframe tbody tr th {\n",
              "        vertical-align: top;\n",
              "    }\n",
              "\n",
              "    .dataframe thead th {\n",
              "        text-align: right;\n",
              "    }\n",
              "</style>\n",
              "<table border=\"1\" class=\"dataframe\">\n",
              "  <thead>\n",
              "    <tr style=\"text-align: right;\">\n",
              "      <th></th>\n",
              "      <th>titles</th>\n",
              "      <th>summaries</th>\n",
              "      <th>terms</th>\n",
              "    </tr>\n",
              "  </thead>\n",
              "  <tbody>\n",
              "    <tr>\n",
              "      <th>0</th>\n",
              "      <td>Revealing the Field Sub-subgiant Population Us...</td>\n",
              "      <td>Sub-subgiant stars (SSGs) fall below the subgi...</td>\n",
              "      <td>['astro-ph.SR', 'astro-ph.GA']</td>\n",
              "    </tr>\n",
              "    <tr>\n",
              "      <th>1</th>\n",
              "      <td>ALMA detection of ethyl cyanide and methyl for...</td>\n",
              "      <td>In millimeter/submillimeter wavelength, the st...</td>\n",
              "      <td>['astro-ph.GA']</td>\n",
              "    </tr>\n",
              "    <tr>\n",
              "      <th>2</th>\n",
              "      <td>Accretion processes in the galaxy cluster Hydr...</td>\n",
              "      <td>Clusters of galaxies evolve and accrete mass, ...</td>\n",
              "      <td>['astro-ph.CO', 'astro-ph.GA']</td>\n",
              "    </tr>\n",
              "    <tr>\n",
              "      <th>3</th>\n",
              "      <td>Radio astronomy locates the neutrino origin in...</td>\n",
              "      <td>High-energy astrophysical neutrinos have been ...</td>\n",
              "      <td>['astro-ph.HE', 'astro-ph.GA']</td>\n",
              "    </tr>\n",
              "    <tr>\n",
              "      <th>4</th>\n",
              "      <td>The extragalactic $γ$-ray background: imprints...</td>\n",
              "      <td>Star-forming galaxies (SFGs) are expected to h...</td>\n",
              "      <td>['astro-ph.GA', 'astro-ph.HE']</td>\n",
              "    </tr>\n",
              "  </tbody>\n",
              "</table>\n",
              "</div>\n",
              "      <button class=\"colab-df-convert\" onclick=\"convertToInteractive('df-996b6cfe-302d-4de2-b9c8-d4865b87d506')\"\n",
              "              title=\"Convert this dataframe to an interactive table.\"\n",
              "              style=\"display:none;\">\n",
              "        \n",
              "  <svg xmlns=\"http://www.w3.org/2000/svg\" height=\"24px\"viewBox=\"0 0 24 24\"\n",
              "       width=\"24px\">\n",
              "    <path d=\"M0 0h24v24H0V0z\" fill=\"none\"/>\n",
              "    <path d=\"M18.56 5.44l.94 2.06.94-2.06 2.06-.94-2.06-.94-.94-2.06-.94 2.06-2.06.94zm-11 1L8.5 8.5l.94-2.06 2.06-.94-2.06-.94L8.5 2.5l-.94 2.06-2.06.94zm10 10l.94 2.06.94-2.06 2.06-.94-2.06-.94-.94-2.06-.94 2.06-2.06.94z\"/><path d=\"M17.41 7.96l-1.37-1.37c-.4-.4-.92-.59-1.43-.59-.52 0-1.04.2-1.43.59L10.3 9.45l-7.72 7.72c-.78.78-.78 2.05 0 2.83L4 21.41c.39.39.9.59 1.41.59.51 0 1.02-.2 1.41-.59l7.78-7.78 2.81-2.81c.8-.78.8-2.07 0-2.86zM5.41 20L4 18.59l7.72-7.72 1.47 1.35L5.41 20z\"/>\n",
              "  </svg>\n",
              "      </button>\n",
              "      \n",
              "  <style>\n",
              "    .colab-df-container {\n",
              "      display:flex;\n",
              "      flex-wrap:wrap;\n",
              "      gap: 12px;\n",
              "    }\n",
              "\n",
              "    .colab-df-convert {\n",
              "      background-color: #E8F0FE;\n",
              "      border: none;\n",
              "      border-radius: 50%;\n",
              "      cursor: pointer;\n",
              "      display: none;\n",
              "      fill: #1967D2;\n",
              "      height: 32px;\n",
              "      padding: 0 0 0 0;\n",
              "      width: 32px;\n",
              "    }\n",
              "\n",
              "    .colab-df-convert:hover {\n",
              "      background-color: #E2EBFA;\n",
              "      box-shadow: 0px 1px 2px rgba(60, 64, 67, 0.3), 0px 1px 3px 1px rgba(60, 64, 67, 0.15);\n",
              "      fill: #174EA6;\n",
              "    }\n",
              "\n",
              "    [theme=dark] .colab-df-convert {\n",
              "      background-color: #3B4455;\n",
              "      fill: #D2E3FC;\n",
              "    }\n",
              "\n",
              "    [theme=dark] .colab-df-convert:hover {\n",
              "      background-color: #434B5C;\n",
              "      box-shadow: 0px 1px 3px 1px rgba(0, 0, 0, 0.15);\n",
              "      filter: drop-shadow(0px 1px 2px rgba(0, 0, 0, 0.3));\n",
              "      fill: #FFFFFF;\n",
              "    }\n",
              "  </style>\n",
              "\n",
              "      <script>\n",
              "        const buttonEl =\n",
              "          document.querySelector('#df-996b6cfe-302d-4de2-b9c8-d4865b87d506 button.colab-df-convert');\n",
              "        buttonEl.style.display =\n",
              "          google.colab.kernel.accessAllowed ? 'block' : 'none';\n",
              "\n",
              "        async function convertToInteractive(key) {\n",
              "          const element = document.querySelector('#df-996b6cfe-302d-4de2-b9c8-d4865b87d506');\n",
              "          const dataTable =\n",
              "            await google.colab.kernel.invokeFunction('convertToInteractive',\n",
              "                                                     [key], {});\n",
              "          if (!dataTable) return;\n",
              "\n",
              "          const docLinkHtml = 'Like what you see? Visit the ' +\n",
              "            '<a target=\"_blank\" href=https://colab.research.google.com/notebooks/data_table.ipynb>data table notebook</a>'\n",
              "            + ' to learn more about interactive tables.';\n",
              "          element.innerHTML = '';\n",
              "          dataTable['output_type'] = 'display_data';\n",
              "          await google.colab.output.renderOutput(dataTable, element);\n",
              "          const docLink = document.createElement('div');\n",
              "          docLink.innerHTML = docLinkHtml;\n",
              "          element.appendChild(docLink);\n",
              "        }\n",
              "      </script>\n",
              "    </div>\n",
              "  </div>\n",
              "  "
            ],
            "text/plain": [
              "                                              titles  ...                           terms\n",
              "0  Revealing the Field Sub-subgiant Population Us...  ...  ['astro-ph.SR', 'astro-ph.GA']\n",
              "1  ALMA detection of ethyl cyanide and methyl for...  ...                 ['astro-ph.GA']\n",
              "2  Accretion processes in the galaxy cluster Hydr...  ...  ['astro-ph.CO', 'astro-ph.GA']\n",
              "3  Radio astronomy locates the neutrino origin in...  ...  ['astro-ph.HE', 'astro-ph.GA']\n",
              "4  The extragalactic $γ$-ray background: imprints...  ...  ['astro-ph.GA', 'astro-ph.HE']\n",
              "\n",
              "[5 rows x 3 columns]"
            ]
          },
          "metadata": {},
          "execution_count": 33
        }
      ]
    },
    {
      "cell_type": "code",
      "execution_count": null,
      "metadata": {
        "id": "qFTnG0cpa_Bn"
      },
      "outputs": [],
      "source": [
        "arxiv_data_filtered = arxiv_data"
      ]
    },
    {
      "cell_type": "code",
      "execution_count": null,
      "metadata": {
        "id": "2xycg5Px3sCa"
      },
      "outputs": [],
      "source": [
        "# Transform raw string of labels into a list of string\n",
        "arxiv_data_filtered[\"terms\"] = arxiv_data_filtered[\"terms\"].apply(\n",
        "    lambda x: literal_eval(x)\n",
        ")"
      ]
    },
    {
      "cell_type": "code",
      "execution_count": null,
      "metadata": {
        "id": "8CnyVAap65Au",
        "colab": {
          "base_uri": "https://localhost:8080/"
        },
        "outputId": "3513f621-d9c3-4893-eb99-68b027260617"
      },
      "outputs": [
        {
          "output_type": "execute_result",
          "data": {
            "text/plain": [
              "['astro-ph.SR', 'astro-ph.GA']"
            ]
          },
          "metadata": {},
          "execution_count": 36
        }
      ],
      "source": [
        "arxiv_data_filtered[\"terms\"].values[0]"
      ]
    },
    {
      "cell_type": "code",
      "execution_count": null,
      "metadata": {
        "id": "zHhUtX-150nb",
        "colab": {
          "base_uri": "https://localhost:8080/",
          "height": 206
        },
        "outputId": "7eb1753a-e78b-4b90-d808-33a4b7e390a1"
      },
      "outputs": [
        {
          "output_type": "execute_result",
          "data": {
            "text/html": [
              "\n",
              "  <div id=\"df-eed231bb-101f-4870-ad63-11e3596090a5\">\n",
              "    <div class=\"colab-df-container\">\n",
              "      <div>\n",
              "<style scoped>\n",
              "    .dataframe tbody tr th:only-of-type {\n",
              "        vertical-align: middle;\n",
              "    }\n",
              "\n",
              "    .dataframe tbody tr th {\n",
              "        vertical-align: top;\n",
              "    }\n",
              "\n",
              "    .dataframe thead th {\n",
              "        text-align: right;\n",
              "    }\n",
              "</style>\n",
              "<table border=\"1\" class=\"dataframe\">\n",
              "  <thead>\n",
              "    <tr style=\"text-align: right;\">\n",
              "      <th></th>\n",
              "      <th>titles</th>\n",
              "      <th>summaries</th>\n",
              "      <th>terms</th>\n",
              "    </tr>\n",
              "  </thead>\n",
              "  <tbody>\n",
              "    <tr>\n",
              "      <th>0</th>\n",
              "      <td>Revealing the Field Sub-subgiant Population Us...</td>\n",
              "      <td>Sub-subgiant stars (SSGs) fall below the subgi...</td>\n",
              "      <td>[astro-ph.SR, astro-ph.GA]</td>\n",
              "    </tr>\n",
              "    <tr>\n",
              "      <th>1</th>\n",
              "      <td>ALMA detection of ethyl cyanide and methyl for...</td>\n",
              "      <td>In millimeter/submillimeter wavelength, the st...</td>\n",
              "      <td>[astro-ph.GA]</td>\n",
              "    </tr>\n",
              "    <tr>\n",
              "      <th>2</th>\n",
              "      <td>Accretion processes in the galaxy cluster Hydr...</td>\n",
              "      <td>Clusters of galaxies evolve and accrete mass, ...</td>\n",
              "      <td>[astro-ph.CO, astro-ph.GA]</td>\n",
              "    </tr>\n",
              "    <tr>\n",
              "      <th>3</th>\n",
              "      <td>Radio astronomy locates the neutrino origin in...</td>\n",
              "      <td>High-energy astrophysical neutrinos have been ...</td>\n",
              "      <td>[astro-ph.HE, astro-ph.GA]</td>\n",
              "    </tr>\n",
              "    <tr>\n",
              "      <th>4</th>\n",
              "      <td>The extragalactic $γ$-ray background: imprints...</td>\n",
              "      <td>Star-forming galaxies (SFGs) are expected to h...</td>\n",
              "      <td>[astro-ph.GA, astro-ph.HE]</td>\n",
              "    </tr>\n",
              "  </tbody>\n",
              "</table>\n",
              "</div>\n",
              "      <button class=\"colab-df-convert\" onclick=\"convertToInteractive('df-eed231bb-101f-4870-ad63-11e3596090a5')\"\n",
              "              title=\"Convert this dataframe to an interactive table.\"\n",
              "              style=\"display:none;\">\n",
              "        \n",
              "  <svg xmlns=\"http://www.w3.org/2000/svg\" height=\"24px\"viewBox=\"0 0 24 24\"\n",
              "       width=\"24px\">\n",
              "    <path d=\"M0 0h24v24H0V0z\" fill=\"none\"/>\n",
              "    <path d=\"M18.56 5.44l.94 2.06.94-2.06 2.06-.94-2.06-.94-.94-2.06-.94 2.06-2.06.94zm-11 1L8.5 8.5l.94-2.06 2.06-.94-2.06-.94L8.5 2.5l-.94 2.06-2.06.94zm10 10l.94 2.06.94-2.06 2.06-.94-2.06-.94-.94-2.06-.94 2.06-2.06.94z\"/><path d=\"M17.41 7.96l-1.37-1.37c-.4-.4-.92-.59-1.43-.59-.52 0-1.04.2-1.43.59L10.3 9.45l-7.72 7.72c-.78.78-.78 2.05 0 2.83L4 21.41c.39.39.9.59 1.41.59.51 0 1.02-.2 1.41-.59l7.78-7.78 2.81-2.81c.8-.78.8-2.07 0-2.86zM5.41 20L4 18.59l7.72-7.72 1.47 1.35L5.41 20z\"/>\n",
              "  </svg>\n",
              "      </button>\n",
              "      \n",
              "  <style>\n",
              "    .colab-df-container {\n",
              "      display:flex;\n",
              "      flex-wrap:wrap;\n",
              "      gap: 12px;\n",
              "    }\n",
              "\n",
              "    .colab-df-convert {\n",
              "      background-color: #E8F0FE;\n",
              "      border: none;\n",
              "      border-radius: 50%;\n",
              "      cursor: pointer;\n",
              "      display: none;\n",
              "      fill: #1967D2;\n",
              "      height: 32px;\n",
              "      padding: 0 0 0 0;\n",
              "      width: 32px;\n",
              "    }\n",
              "\n",
              "    .colab-df-convert:hover {\n",
              "      background-color: #E2EBFA;\n",
              "      box-shadow: 0px 1px 2px rgba(60, 64, 67, 0.3), 0px 1px 3px 1px rgba(60, 64, 67, 0.15);\n",
              "      fill: #174EA6;\n",
              "    }\n",
              "\n",
              "    [theme=dark] .colab-df-convert {\n",
              "      background-color: #3B4455;\n",
              "      fill: #D2E3FC;\n",
              "    }\n",
              "\n",
              "    [theme=dark] .colab-df-convert:hover {\n",
              "      background-color: #434B5C;\n",
              "      box-shadow: 0px 1px 3px 1px rgba(0, 0, 0, 0.15);\n",
              "      filter: drop-shadow(0px 1px 2px rgba(0, 0, 0, 0.3));\n",
              "      fill: #FFFFFF;\n",
              "    }\n",
              "  </style>\n",
              "\n",
              "      <script>\n",
              "        const buttonEl =\n",
              "          document.querySelector('#df-eed231bb-101f-4870-ad63-11e3596090a5 button.colab-df-convert');\n",
              "        buttonEl.style.display =\n",
              "          google.colab.kernel.accessAllowed ? 'block' : 'none';\n",
              "\n",
              "        async function convertToInteractive(key) {\n",
              "          const element = document.querySelector('#df-eed231bb-101f-4870-ad63-11e3596090a5');\n",
              "          const dataTable =\n",
              "            await google.colab.kernel.invokeFunction('convertToInteractive',\n",
              "                                                     [key], {});\n",
              "          if (!dataTable) return;\n",
              "\n",
              "          const docLinkHtml = 'Like what you see? Visit the ' +\n",
              "            '<a target=\"_blank\" href=https://colab.research.google.com/notebooks/data_table.ipynb>data table notebook</a>'\n",
              "            + ' to learn more about interactive tables.';\n",
              "          element.innerHTML = '';\n",
              "          dataTable['output_type'] = 'display_data';\n",
              "          await google.colab.output.renderOutput(dataTable, element);\n",
              "          const docLink = document.createElement('div');\n",
              "          docLink.innerHTML = docLinkHtml;\n",
              "          element.appendChild(docLink);\n",
              "        }\n",
              "      </script>\n",
              "    </div>\n",
              "  </div>\n",
              "  "
            ],
            "text/plain": [
              "                                              titles  ...                       terms\n",
              "0  Revealing the Field Sub-subgiant Population Us...  ...  [astro-ph.SR, astro-ph.GA]\n",
              "1  ALMA detection of ethyl cyanide and methyl for...  ...               [astro-ph.GA]\n",
              "2  Accretion processes in the galaxy cluster Hydr...  ...  [astro-ph.CO, astro-ph.GA]\n",
              "3  Radio astronomy locates the neutrino origin in...  ...  [astro-ph.HE, astro-ph.GA]\n",
              "4  The extragalactic $γ$-ray background: imprints...  ...  [astro-ph.GA, astro-ph.HE]\n",
              "\n",
              "[5 rows x 3 columns]"
            ]
          },
          "metadata": {},
          "execution_count": 37
        }
      ],
      "source": [
        "arxiv_data_filtered.head()"
      ]
    },
    {
      "cell_type": "code",
      "execution_count": null,
      "metadata": {
        "id": "o0pYq3CAo5VU",
        "colab": {
          "base_uri": "https://localhost:8080/",
          "height": 175
        },
        "outputId": "4d68dd71-6220-4679-efb9-5a27b7df2805"
      },
      "outputs": [
        {
          "output_type": "execute_result",
          "data": {
            "text/html": [
              "\n",
              "  <div id=\"df-3df879a9-879f-4243-9c77-820aa998e6d0\">\n",
              "    <div class=\"colab-df-container\">\n",
              "      <div>\n",
              "<style scoped>\n",
              "    .dataframe tbody tr th:only-of-type {\n",
              "        vertical-align: middle;\n",
              "    }\n",
              "\n",
              "    .dataframe tbody tr th {\n",
              "        vertical-align: top;\n",
              "    }\n",
              "\n",
              "    .dataframe thead th {\n",
              "        text-align: right;\n",
              "    }\n",
              "</style>\n",
              "<table border=\"1\" class=\"dataframe\">\n",
              "  <thead>\n",
              "    <tr style=\"text-align: right;\">\n",
              "      <th></th>\n",
              "      <th>titles</th>\n",
              "      <th>summaries</th>\n",
              "      <th>terms</th>\n",
              "    </tr>\n",
              "  </thead>\n",
              "  <tbody>\n",
              "    <tr>\n",
              "      <th>count</th>\n",
              "      <td>43539</td>\n",
              "      <td>43539</td>\n",
              "      <td>43539</td>\n",
              "    </tr>\n",
              "    <tr>\n",
              "      <th>unique</th>\n",
              "      <td>33062</td>\n",
              "      <td>33077</td>\n",
              "      <td>130</td>\n",
              "    </tr>\n",
              "    <tr>\n",
              "      <th>top</th>\n",
              "      <td>VLBI20-30: a scientific roadmap for the next d...</td>\n",
              "      <td>This white paper describes the science case fo...</td>\n",
              "      <td>[astro-ph.GA]</td>\n",
              "    </tr>\n",
              "    <tr>\n",
              "      <th>freq</th>\n",
              "      <td>6</td>\n",
              "      <td>6</td>\n",
              "      <td>4639</td>\n",
              "    </tr>\n",
              "  </tbody>\n",
              "</table>\n",
              "</div>\n",
              "      <button class=\"colab-df-convert\" onclick=\"convertToInteractive('df-3df879a9-879f-4243-9c77-820aa998e6d0')\"\n",
              "              title=\"Convert this dataframe to an interactive table.\"\n",
              "              style=\"display:none;\">\n",
              "        \n",
              "  <svg xmlns=\"http://www.w3.org/2000/svg\" height=\"24px\"viewBox=\"0 0 24 24\"\n",
              "       width=\"24px\">\n",
              "    <path d=\"M0 0h24v24H0V0z\" fill=\"none\"/>\n",
              "    <path d=\"M18.56 5.44l.94 2.06.94-2.06 2.06-.94-2.06-.94-.94-2.06-.94 2.06-2.06.94zm-11 1L8.5 8.5l.94-2.06 2.06-.94-2.06-.94L8.5 2.5l-.94 2.06-2.06.94zm10 10l.94 2.06.94-2.06 2.06-.94-2.06-.94-.94-2.06-.94 2.06-2.06.94z\"/><path d=\"M17.41 7.96l-1.37-1.37c-.4-.4-.92-.59-1.43-.59-.52 0-1.04.2-1.43.59L10.3 9.45l-7.72 7.72c-.78.78-.78 2.05 0 2.83L4 21.41c.39.39.9.59 1.41.59.51 0 1.02-.2 1.41-.59l7.78-7.78 2.81-2.81c.8-.78.8-2.07 0-2.86zM5.41 20L4 18.59l7.72-7.72 1.47 1.35L5.41 20z\"/>\n",
              "  </svg>\n",
              "      </button>\n",
              "      \n",
              "  <style>\n",
              "    .colab-df-container {\n",
              "      display:flex;\n",
              "      flex-wrap:wrap;\n",
              "      gap: 12px;\n",
              "    }\n",
              "\n",
              "    .colab-df-convert {\n",
              "      background-color: #E8F0FE;\n",
              "      border: none;\n",
              "      border-radius: 50%;\n",
              "      cursor: pointer;\n",
              "      display: none;\n",
              "      fill: #1967D2;\n",
              "      height: 32px;\n",
              "      padding: 0 0 0 0;\n",
              "      width: 32px;\n",
              "    }\n",
              "\n",
              "    .colab-df-convert:hover {\n",
              "      background-color: #E2EBFA;\n",
              "      box-shadow: 0px 1px 2px rgba(60, 64, 67, 0.3), 0px 1px 3px 1px rgba(60, 64, 67, 0.15);\n",
              "      fill: #174EA6;\n",
              "    }\n",
              "\n",
              "    [theme=dark] .colab-df-convert {\n",
              "      background-color: #3B4455;\n",
              "      fill: #D2E3FC;\n",
              "    }\n",
              "\n",
              "    [theme=dark] .colab-df-convert:hover {\n",
              "      background-color: #434B5C;\n",
              "      box-shadow: 0px 1px 3px 1px rgba(0, 0, 0, 0.15);\n",
              "      filter: drop-shadow(0px 1px 2px rgba(0, 0, 0, 0.3));\n",
              "      fill: #FFFFFF;\n",
              "    }\n",
              "  </style>\n",
              "\n",
              "      <script>\n",
              "        const buttonEl =\n",
              "          document.querySelector('#df-3df879a9-879f-4243-9c77-820aa998e6d0 button.colab-df-convert');\n",
              "        buttonEl.style.display =\n",
              "          google.colab.kernel.accessAllowed ? 'block' : 'none';\n",
              "\n",
              "        async function convertToInteractive(key) {\n",
              "          const element = document.querySelector('#df-3df879a9-879f-4243-9c77-820aa998e6d0');\n",
              "          const dataTable =\n",
              "            await google.colab.kernel.invokeFunction('convertToInteractive',\n",
              "                                                     [key], {});\n",
              "          if (!dataTable) return;\n",
              "\n",
              "          const docLinkHtml = 'Like what you see? Visit the ' +\n",
              "            '<a target=\"_blank\" href=https://colab.research.google.com/notebooks/data_table.ipynb>data table notebook</a>'\n",
              "            + ' to learn more about interactive tables.';\n",
              "          element.innerHTML = '';\n",
              "          dataTable['output_type'] = 'display_data';\n",
              "          await google.colab.output.renderOutput(dataTable, element);\n",
              "          const docLink = document.createElement('div');\n",
              "          docLink.innerHTML = docLinkHtml;\n",
              "          element.appendChild(docLink);\n",
              "        }\n",
              "      </script>\n",
              "    </div>\n",
              "  </div>\n",
              "  "
            ],
            "text/plain": [
              "                                                   titles  ...          terms\n",
              "count                                               43539  ...          43539\n",
              "unique                                              33062  ...            130\n",
              "top     VLBI20-30: a scientific roadmap for the next d...  ...  [astro-ph.GA]\n",
              "freq                                                    6  ...           4639\n",
              "\n",
              "[4 rows x 3 columns]"
            ]
          },
          "metadata": {},
          "execution_count": 38
        }
      ],
      "source": [
        "arxiv_data_filtered.describe()"
      ]
    },
    {
      "cell_type": "code",
      "execution_count": null,
      "metadata": {
        "id": "QFlwSZPopHVz",
        "colab": {
          "base_uri": "https://localhost:8080/"
        },
        "outputId": "8a1cb2fc-1251-4fd9-fa45-9a2ffadb8b25"
      },
      "outputs": [
        {
          "output_type": "stream",
          "name": "stdout",
          "text": [
            "Số dữ liệu trùng lặp: 10477\n"
          ]
        }
      ],
      "source": [
        "duplicated_titles = arxiv_data_filtered[\"titles\"].duplicated().sum()\n",
        "print(\"Số dữ liệu trùng lặp:\", duplicated_titles)"
      ]
    },
    {
      "cell_type": "code",
      "execution_count": null,
      "metadata": {
        "id": "qtyOy4cppRkf",
        "colab": {
          "base_uri": "https://localhost:8080/"
        },
        "outputId": "b51a1cf2-f89c-48da-c313-8367226532f9"
      },
      "outputs": [
        {
          "output_type": "stream",
          "name": "stdout",
          "text": [
            "Số dữ liệu sau khi lọc: 33062\n"
          ]
        }
      ],
      "source": [
        "arxiv_data_filtered = arxiv_data_filtered[~arxiv_data_filtered[\"titles\"].duplicated()]\n",
        "data_after_filtered = len(arxiv_data_filtered)\n",
        "print(\"Số dữ liệu sau khi lọc:\", data_after_filtered)"
      ]
    },
    {
      "cell_type": "markdown",
      "metadata": {
        "id": "a5Dw3XM7BciC"
      },
      "source": [
        "#Pre-processing data"
      ]
    },
    {
      "cell_type": "code",
      "execution_count": null,
      "metadata": {
        "id": "W3Vsvfu28OEy"
      },
      "outputs": [],
      "source": [
        "def clean_text(text):\n",
        "  # remove new line characters\n",
        "  text = re.sub(r\"\\n\", \" \", text)\n",
        "  # remove email\n",
        "  text = re.sub(r\"([A-Za-z0-9_.+-]+@[A-Za-z0-9-]+\\.?[A-Za-z0-9-.]+)\", \"\", text)\n",
        "  # remove url\n",
        "  text = re.sub(r\"((http|https)\\:\\/\\/)?[a-zA-Z0-9\\.\\/\\?\\:@\\-_=#]+\\.([a-zA-Z]){2,6}([a-zA-Z0-9\\.\\&\\/\\?\\:@\\-_=#])*\", \"\", text)\n",
        "  # remove punctuation\n",
        "  text = re.sub(f'[{re.escape(string.punctuation)}]', ' ', text)\n",
        "  # remove words including numbers\n",
        "  text = re.sub(r\"\\w*\\d\\w*\", \"\", text)\n",
        "  # replace multiple whitespace by one whitespace\n",
        "  text = re.sub(r\"\\s+\", \" \", text)\n",
        "  # lower all text\n",
        "  text = text.lower()\n",
        "  # strip all text\n",
        "  text = text.strip()\n",
        "  return text"
      ]
    },
    {
      "cell_type": "code",
      "execution_count": null,
      "metadata": {
        "id": "TCeCRZYR8aRU"
      },
      "outputs": [],
      "source": [
        "def remove_stopwords(text):\n",
        "  stop_words = stopwords.words('english')\n",
        "  cleaned_text = []\n",
        "  # turn text to a list of words\n",
        "  word_list = text.split()\n",
        "  for word in word_list:\n",
        "    if word not in stop_words:\n",
        "      cleaned_text.append(word)\n",
        "  return ' '.join(cleaned_text)"
      ]
    },
    {
      "cell_type": "code",
      "execution_count": null,
      "metadata": {
        "id": "_7I8EI_j8b41"
      },
      "outputs": [],
      "source": [
        "def lemmatize_text(text):\n",
        "  wnl = WordNetLemmatizer()\n",
        "  pos_text = pos_tag(word_tokenize(text))\n",
        "  cleaned_text = []\n",
        "  for word, tag in pos_text:\n",
        "    wntag = tag[0].lower()\n",
        "    wntag = wntag if wntag in ['a', 'r', 'n', 'v'] else None\n",
        "    if not wntag:\n",
        "      lem_word = word\n",
        "    else:\n",
        "      lem_word = wnl.lemmatize(word, wntag)\n",
        "    cleaned_text.append(lem_word)\n",
        "  return ' '.join(cleaned_text)"
      ]
    },
    {
      "cell_type": "code",
      "execution_count": null,
      "metadata": {
        "id": "cBZupUfw8fFk",
        "colab": {
          "base_uri": "https://localhost:8080/"
        },
        "outputId": "43139ccf-9509-4af3-aed0-ea3c883599fa"
      },
      "outputs": [
        {
          "output_type": "stream",
          "name": "stderr",
          "text": [
            "/usr/local/lib/python3.7/dist-packages/ipykernel_launcher.py:1: SettingWithCopyWarning: \n",
            "A value is trying to be set on a copy of a slice from a DataFrame.\n",
            "Try using .loc[row_indexer,col_indexer] = value instead\n",
            "\n",
            "See the caveats in the documentation: https://pandas.pydata.org/pandas-docs/stable/user_guide/indexing.html#returning-a-view-versus-a-copy\n",
            "  \"\"\"Entry point for launching an IPython kernel.\n",
            "/usr/local/lib/python3.7/dist-packages/ipykernel_launcher.py:2: SettingWithCopyWarning: \n",
            "A value is trying to be set on a copy of a slice from a DataFrame.\n",
            "Try using .loc[row_indexer,col_indexer] = value instead\n",
            "\n",
            "See the caveats in the documentation: https://pandas.pydata.org/pandas-docs/stable/user_guide/indexing.html#returning-a-view-versus-a-copy\n",
            "  \n",
            "/usr/local/lib/python3.7/dist-packages/ipykernel_launcher.py:3: SettingWithCopyWarning: \n",
            "A value is trying to be set on a copy of a slice from a DataFrame.\n",
            "Try using .loc[row_indexer,col_indexer] = value instead\n",
            "\n",
            "See the caveats in the documentation: https://pandas.pydata.org/pandas-docs/stable/user_guide/indexing.html#returning-a-view-versus-a-copy\n",
            "  This is separate from the ipykernel package so we can avoid doing imports until\n"
          ]
        },
        {
          "output_type": "execute_result",
          "data": {
            "text/plain": [
              "0        sub subgiant star ssgs fall subgiant branch re...\n",
              "1        millimeter submillimeter wavelength study comp...\n",
              "2        cluster galaxy evolve accrete mass mostly smal...\n",
              "3        high energy astrophysical neutrino observe sev...\n",
              "4        star form galaxy sfgs expect harbour abundant ...\n",
              "                               ...                        \n",
              "43532    investigate formation process galactic globula...\n",
              "43535    non local thermodynamic equilibrium nlte level...\n",
              "43536    recent study flare loop oscillation event dece...\n",
              "43537    perform comprehensive study stellar population...\n",
              "43538    study basic property three possible r process ...\n",
              "Name: summaries, Length: 33062, dtype: object"
            ]
          },
          "metadata": {},
          "execution_count": 14
        }
      ],
      "source": [
        "arxiv_data_filtered['summaries'] = arxiv_data_filtered['summaries'].apply(clean_text)\n",
        "arxiv_data_filtered['summaries'] = arxiv_data_filtered['summaries'].apply(remove_stopwords)\n",
        "arxiv_data_filtered['summaries'] = arxiv_data_filtered['summaries'].apply(lemmatize_text)\n",
        "arxiv_data_filtered['summaries']"
      ]
    },
    {
      "cell_type": "code",
      "execution_count": null,
      "metadata": {
        "id": "NKYRTOBmA4rv",
        "colab": {
          "base_uri": "https://localhost:8080/",
          "height": 140
        },
        "outputId": "e63fc0ff-6c63-4f86-c755-b06c6ef0bae5"
      },
      "outputs": [
        {
          "output_type": "execute_result",
          "data": {
            "application/vnd.google.colaboratory.intrinsic+json": {
              "type": "string"
            },
            "text/plain": [
              "'high energy astrophysical neutrino observe several telescope last decade source still remain unknown address problem locate astrophysical neutrino source statistical manner show blazars positionally associate icecube neutrino detection stronger parsec scale radio core rest sample probability chance coincidence correspond significance sigma explicitly list four strong radio blazars highly probable source neutrinos tev nrao pks pks least radio bright blazars emit neutrino lower energy start tevs use continuous ratan monitoring vlbi select blazars find radio flare frequency ghz coincide neutrino arrival date pronounce example behavior pks experience major flare demonstrate majority icecube astrophysical neutrino flux derive muon track analysis may explain blazars agns bright doppler boost jet high energy neutrino produce photohadronic interaction within parsec scale relativistic jet radio bright blazars associate neutrino detection diverse gamma ray property suggest gamma ray neutrino may produce different region blazars directly relate narrow jet view angle however require detect either conclude discussion recent independent test extension finding'"
            ]
          },
          "metadata": {},
          "execution_count": 15
        }
      ],
      "source": [
        "arxiv_data_filtered[\"summaries\"][3]"
      ]
    },
    {
      "cell_type": "markdown",
      "metadata": {
        "id": "1WnF-kacBrNd"
      },
      "source": [
        "#Visualization data"
      ]
    },
    {
      "cell_type": "code",
      "execution_count": null,
      "metadata": {
        "id": "Q4u27uATbO6-"
      },
      "outputs": [],
      "source": [
        "all_terms = sum(arxiv_data_filtered[\"terms\"],[])\n",
        "all_terms = nltk.FreqDist(all_terms) \n",
        "# # create dataframe\n",
        "all_terms_df = pd.DataFrame({'Term': list(all_terms.keys()), \n",
        "                              'Count': list(all_terms.values())})"
      ]
    },
    {
      "cell_type": "code",
      "execution_count": null,
      "metadata": {
        "id": "IYks-JapbQeE",
        "colab": {
          "base_uri": "https://localhost:8080/"
        },
        "outputId": "8055223d-df2b-4c3f-a62d-8d2993930536"
      },
      "outputs": [
        {
          "output_type": "stream",
          "name": "stdout",
          "text": [
            "          Term  Count\n",
            "2  astro-ph.CO   4842\n",
            "4  astro-ph.IM   6782\n",
            "3  astro-ph.HE   6888\n",
            "5  astro-ph.EP   8464\n",
            "0  astro-ph.SR   9443\n",
            "1  astro-ph.GA  10854\n"
          ]
        }
      ],
      "source": [
        "print(all_terms_df.sort_values(by = ['Count']))"
      ]
    },
    {
      "cell_type": "code",
      "execution_count": null,
      "metadata": {
        "id": "nUZoc3HhpyOQ",
        "colab": {
          "base_uri": "https://localhost:8080/",
          "height": 332
        },
        "outputId": "dab86163-17fe-48d0-cff8-98734ae63bf0"
      },
      "outputs": [
        {
          "output_type": "display_data",
          "data": {
            "image/png": "[encoded data removed]",
            "text/plain": [
              "<Figure size 1440x360 with 1 Axes>"
            ]
          },
          "metadata": {
            "needs_background": "light"
          }
        }
      ],
      "source": [
        "g = all_terms_df.sort_values(by = ['Count'])\n",
        "plt.figure(figsize=(20,5)) \n",
        "ax = sns.barplot(data=g, y= \"Count\", x = \"Term\") \n",
        "plt.show()"
      ]
    },
    {
      "cell_type": "code",
      "execution_count": null,
      "metadata": {
        "id": "Q6m08xqIbd0B",
        "colab": {
          "base_uri": "https://localhost:8080/"
        },
        "outputId": "005d20a2-c114-4c0e-a5cf-5d0d214b50f9"
      },
      "outputs": [
        {
          "output_type": "stream",
          "name": "stdout",
          "text": [
            "[astro-ph.EP]                 4571\n",
            "[astro-ph.HE]                 3559\n",
            "[astro-ph.SR]                 3062\n",
            "[astro-ph.IM]                 2832\n",
            "[astro-ph.CO]                 2258\n",
            "[astro-ph.EP, astro-ph.SR]    1241\n",
            "[astro-ph.SR, astro-ph.GA]    1026\n",
            "[astro-ph.GA, astro-ph.CO]     913\n",
            "[astro-ph.GA, astro-ph.SR]     752\n",
            "[astro-ph.SR, astro-ph.EP]     680\n",
            "[astro-ph.HE, astro-ph.GA]     554\n",
            "[astro-ph.CO, astro-ph.GA]     541\n",
            "[astro-ph.EP, astro-ph.IM]     492\n",
            "[astro-ph.HE, astro-ph.SR]     448\n",
            "[astro-ph.GA, astro-ph.HE]     417\n",
            "[astro-ph.IM, astro-ph.HE]     405\n",
            "[astro-ph.IM, astro-ph.EP]     358\n",
            "[astro-ph.SR, astro-ph.HE]     357\n",
            "[astro-ph.HE, astro-ph.IM]     331\n",
            "Name: terms, dtype: int64\n"
          ]
        }
      ],
      "source": [
        "print((arxiv_data_filtered[\"terms\"].value_counts()[1:20]))"
      ]
    },
    {
      "cell_type": "code",
      "source": [
        "# arxiv_data_filtered.to_csv('arxiv_data.csv', index = False)\n",
        "# from google.colab import files\n",
        "# files.download('arxiv_data.csv')"
      ],
      "metadata": {
        "id": "MwMPlffcoFVu"
      },
      "execution_count": null,
      "outputs": []
    },
    {
      "cell_type": "markdown",
      "metadata": {
        "id": "Vz7YPSnuDUo-"
      },
      "source": [
        "#LabelPowerset"
      ]
    },
    {
      "cell_type": "markdown",
      "metadata": {
        "id": "gFSIX7hKEhZm"
      },
      "source": [
        "#Without oversampling\n",
        "\n",
        "\n"
      ]
    },
    {
      "cell_type": "markdown",
      "source": [
        "##Train the model\n",
        "*Vectorizer by TFIDF*"
      ],
      "metadata": {
        "id": "nTWAnsfYhs1-"
      }
    },
    {
      "cell_type": "markdown",
      "source": [
        "###Split and vectorizer by Tfidf"
      ],
      "metadata": {
        "id": "ugVSvd-Whzlu"
      }
    },
    {
      "cell_type": "code",
      "source": [
        "\n",
        "mlb = MultiLabelBinarizer()\n",
        "labels = mlb.fit_transform(arxiv_data_filtered.terms)"
      ],
      "metadata": {
        "id": "LcCP_rG-g8Hs"
      },
      "execution_count": null,
      "outputs": []
    },
    {
      "cell_type": "code",
      "source": [
        "X_train, X_test, y_train, y_test = train_test_split(\n",
        "    arxiv_data_filtered['summaries'],\n",
        "    labels,\n",
        "    test_size = 0.2,\n",
        "    )"
      ],
      "metadata": {
        "id": "8pGsXGZsg-qB"
      },
      "execution_count": null,
      "outputs": []
    },
    {
      "cell_type": "code",
      "source": [
        "vocab = list(mlb.classes_)"
      ],
      "metadata": {
        "id": "yJAfbod3lece"
      },
      "execution_count": null,
      "outputs": []
    },
    {
      "cell_type": "code",
      "source": [
        "vectorizer = TfidfVectorizer()\n",
        "vectorizer.fit(X_train)\n",
        "vectorizer.fit(X_test)\n",
        "X_train_vector = vectorizer.transform(X_train)\n",
        "X_test_vector = vectorizer.transform(X_test)"
      ],
      "metadata": {
        "id": "qurQjJP_grxF"
      },
      "execution_count": null,
      "outputs": []
    },
    {
      "cell_type": "code",
      "source": [
        "print(X_train_vector.shape)\n",
        "print(X_test_vector.shape)"
      ],
      "metadata": {
        "colab": {
          "base_uri": "https://localhost:8080/"
        },
        "id": "a3QiP6z3uipj",
        "outputId": "98557cfd-ba5a-46ba-8e5f-699307b6e10c"
      },
      "execution_count": null,
      "outputs": [
        {
          "output_type": "stream",
          "name": "stdout",
          "text": [
            "(26449, 19076)\n",
            "(6613, 19076)\n"
          ]
        }
      ]
    },
    {
      "cell_type": "markdown",
      "metadata": {
        "id": "9778xsW_JqBY"
      },
      "source": [
        "###Train the model with MultinomialNB and evaluate"
      ]
    },
    {
      "cell_type": "code",
      "execution_count": null,
      "metadata": {
        "colab": {
          "base_uri": "https://localhost:8080/"
        },
        "id": "8nImli_EobQy",
        "outputId": "72d426dd-011d-45bb-e55f-0f0edac6e441"
      },
      "outputs": [
        {
          "output_type": "execute_result",
          "data": {
            "text/plain": [
              "LabelPowerset(classifier=MultinomialNB(), require_dense=[True, True])"
            ]
          },
          "metadata": {},
          "execution_count": 26
        }
      ],
      "source": [
        "# initialize Label Powerset multi-label classifier\n",
        "# with a multinomial naive bayes base classifier\n",
        "model = LabelPowerset(MultinomialNB())\n",
        "\n",
        "model.fit(X_train_vector, y_train)"
      ]
    },
    {
      "cell_type": "code",
      "execution_count": null,
      "metadata": {
        "id": "nKf19tn-oy1W"
      },
      "outputs": [],
      "source": [
        "y_pred_prob = model.predict_proba(X_test_vector)\n",
        "y_pred_prob = y_pred_prob.toarray()"
      ]
    },
    {
      "cell_type": "code",
      "source": [
        "def get_y_pred(y_pred_prob, k=3, threshold=0.5):\n",
        "    y_pred = []\n",
        "    for pred in y_pred_prob:\n",
        "        top_k_labels = [\n",
        "            x\n",
        "            for _,x in sorted(\n",
        "                zip(pred, vocab),\n",
        "                key=lambda pair: pair[0],\n",
        "                reverse=True,\n",
        "            )\n",
        "        ][:k]\n",
        "        y_top_k_labels = np.zeros(y_pred_prob[0].shape[0])\n",
        "        for j in range(len(vocab)):\n",
        "            if(vocab[j] in top_k_labels):\n",
        "                if(pred[j] > threshold):\n",
        "                    y_top_k_labels[j] = 1\n",
        "                else:\n",
        "                    top_k_labels.remove(vocab[j])\n",
        "        y_pred.append(y_top_k_labels)\n",
        "    y_pred = np.array(y_pred)   \n",
        "    return y_pred\n"
      ],
      "metadata": {
        "id": "625_DBSVlSf_"
      },
      "execution_count": null,
      "outputs": []
    },
    {
      "cell_type": "code",
      "execution_count": null,
      "metadata": {
        "colab": {
          "base_uri": "https://localhost:8080/"
        },
        "id": "Mu7Y6-xwpEZL",
        "outputId": "ecd545ca-977d-42e7-db5d-6d81a93af967"
      },
      "outputs": [
        {
          "output_type": "stream",
          "name": "stdout",
          "text": [
            "Exact Match Radio accuracy on the test set: 56.69% - with k = 1 and threshold = 0.1\n",
            "Exact Match Radio accuracy on the test set: 56.69% - with k = 1 and threshold = 0.2\n",
            "Exact Match Radio accuracy on the test set: 56.59% - with k = 1 and threshold = 0.30000000000000004\n",
            "Exact Match Radio accuracy on the test set: 55.95% - with k = 1 and threshold = 0.4\n",
            "Exact Match Radio accuracy on the test set: 54.0% - with k = 1 and threshold = 0.5\n",
            "Exact Match Radio accuracy on the test set: 50.76% - with k = 1 and threshold = 0.6\n",
            "Exact Match Radio accuracy on the test set: 46.76% - with k = 1 and threshold = 0.7000000000000001\n",
            "Exact Match Radio accuracy on the test set: 40.89% - with k = 1 and threshold = 0.8\n",
            "Exact Match Radio accuracy on the test set: 49.51% - with k = 2 and threshold = 0.1\n",
            "Exact Match Radio accuracy on the test set: 56.6% - with k = 2 and threshold = 0.2\n",
            "Exact Match Radio accuracy on the test set: 58.46% - with k = 2 and threshold = 0.30000000000000004\n",
            "Exact Match Radio accuracy on the test set: 57.64% - with k = 2 and threshold = 0.4\n",
            "Exact Match Radio accuracy on the test set: 54.56% - with k = 2 and threshold = 0.5\n",
            "Exact Match Radio accuracy on the test set: 50.96% - with k = 2 and threshold = 0.6\n",
            "Exact Match Radio accuracy on the test set: 46.8% - with k = 2 and threshold = 0.7000000000000001\n",
            "Exact Match Radio accuracy on the test set: 40.9% - with k = 2 and threshold = 0.8\n",
            "Exact Match Radio accuracy on the test set: 46.62% - with k = 3 and threshold = 0.1\n",
            "Exact Match Radio accuracy on the test set: 55.92% - with k = 3 and threshold = 0.2\n",
            "Exact Match Radio accuracy on the test set: 58.43% - with k = 3 and threshold = 0.30000000000000004\n",
            "Exact Match Radio accuracy on the test set: 57.64% - with k = 3 and threshold = 0.4\n",
            "Exact Match Radio accuracy on the test set: 54.56% - with k = 3 and threshold = 0.5\n",
            "Exact Match Radio accuracy on the test set: 50.96% - with k = 3 and threshold = 0.6\n",
            "Exact Match Radio accuracy on the test set: 46.8% - with k = 3 and threshold = 0.7000000000000001\n",
            "Exact Match Radio accuracy on the test set: 40.9% - with k = 3 and threshold = 0.8\n",
            "Exact Match Radio accuracy on the test set: 46.36% - with k = 4 and threshold = 0.1\n",
            "Exact Match Radio accuracy on the test set: 55.89% - with k = 4 and threshold = 0.2\n",
            "Exact Match Radio accuracy on the test set: 58.43% - with k = 4 and threshold = 0.30000000000000004\n",
            "Exact Match Radio accuracy on the test set: 57.64% - with k = 4 and threshold = 0.4\n",
            "Exact Match Radio accuracy on the test set: 54.56% - with k = 4 and threshold = 0.5\n",
            "Exact Match Radio accuracy on the test set: 50.96% - with k = 4 and threshold = 0.6\n",
            "Exact Match Radio accuracy on the test set: 46.8% - with k = 4 and threshold = 0.7000000000000001\n",
            "Exact Match Radio accuracy on the test set: 40.9% - with k = 4 and threshold = 0.8\n",
            "Exact Match Radio accuracy on the test set: 46.38% - with k = 5 and threshold = 0.1\n",
            "Exact Match Radio accuracy on the test set: 55.89% - with k = 5 and threshold = 0.2\n",
            "Exact Match Radio accuracy on the test set: 58.43% - with k = 5 and threshold = 0.30000000000000004\n",
            "Exact Match Radio accuracy on the test set: 57.64% - with k = 5 and threshold = 0.4\n",
            "Exact Match Radio accuracy on the test set: 54.56% - with k = 5 and threshold = 0.5\n",
            "Exact Match Radio accuracy on the test set: 50.96% - with k = 5 and threshold = 0.6\n",
            "Exact Match Radio accuracy on the test set: 46.8% - with k = 5 and threshold = 0.7000000000000001\n",
            "Exact Match Radio accuracy on the test set: 40.9% - with k = 5 and threshold = 0.8\n",
            "Exact Match Radio accuracy on the test set: 46.38% - with k = 6 and threshold = 0.1\n",
            "Exact Match Radio accuracy on the test set: 55.89% - with k = 6 and threshold = 0.2\n",
            "Exact Match Radio accuracy on the test set: 58.43% - with k = 6 and threshold = 0.30000000000000004\n",
            "Exact Match Radio accuracy on the test set: 57.64% - with k = 6 and threshold = 0.4\n",
            "Exact Match Radio accuracy on the test set: 54.56% - with k = 6 and threshold = 0.5\n",
            "Exact Match Radio accuracy on the test set: 50.96% - with k = 6 and threshold = 0.6\n",
            "Exact Match Radio accuracy on the test set: 46.8% - with k = 6 and threshold = 0.7000000000000001\n",
            "Exact Match Radio accuracy on the test set: 40.9% - with k = 6 and threshold = 0.8\n"
          ]
        }
      ],
      "source": [
        "for k in range(1,7):\n",
        "    for threshold in np.arange(0.1,0.9,0.1):\n",
        "        y_pred = get_y_pred(y_pred_prob, k, threshold)\n",
        "        from sklearn.metrics import accuracy_score\n",
        "        acc = accuracy_score(y_test, y_pred)\n",
        "        print(f\"Exact Match Radio accuracy on the test set: {round(acc * 100, 2)}% - with k = {k} and threshold = {threshold}\")"
      ]
    },
    {
      "cell_type": "code",
      "execution_count": null,
      "metadata": {
        "colab": {
          "base_uri": "https://localhost:8080/"
        },
        "id": "KovKvuAopHPj",
        "outputId": "acbc67a0-d31b-406a-bc24-07f540478a4d"
      },
      "outputs": [
        {
          "output_type": "stream",
          "name": "stdout",
          "text": [
            "multilabel_confusion_matrix_of: astro-ph.CO\n",
            "[[5656    8]\n",
            " [ 555  394]]\n",
            "\n",
            "multilabel_confusion_matrix_of: astro-ph.EP\n",
            "[[4878   64]\n",
            " [ 259 1412]]\n",
            "\n",
            "multilabel_confusion_matrix_of: astro-ph.GA\n",
            "[[4236  197]\n",
            " [ 534 1646]]\n",
            "\n",
            "multilabel_confusion_matrix_of: astro-ph.HE\n",
            "[[5154   49]\n",
            " [ 474  936]]\n",
            "\n",
            "multilabel_confusion_matrix_of: astro-ph.IM\n",
            "[[5213   18]\n",
            " [ 711  671]]\n",
            "\n",
            "multilabel_confusion_matrix_of: astro-ph.SR\n",
            "[[4728    7]\n",
            " [1273  605]]\n",
            "\n"
          ]
        }
      ],
      "source": [
        "y_pred = get_y_pred(y_pred_prob, k=2, threshold=0.5)\n",
        "from sklearn.metrics import multilabel_confusion_matrix\n",
        "m = multilabel_confusion_matrix(y_test, y_pred)\n",
        "\n",
        "for i in range(0,len(m)):\n",
        "    print(\"multilabel_confusion_matrix_of: \"+vocab[i])\n",
        "    print(m[i])\n",
        "    print()"
      ]
    },
    {
      "cell_type": "code",
      "execution_count": null,
      "metadata": {
        "colab": {
          "base_uri": "https://localhost:8080/"
        },
        "id": "s2LsHuhQpK4u",
        "outputId": "e119c102-9447-40f7-f507-710928042fa4"
      },
      "outputs": [
        {
          "output_type": "stream",
          "name": "stdout",
          "text": [
            "              precision    recall  f1-score   support\n",
            "\n",
            " astro-ph.CO       0.98      0.42      0.58       949\n",
            " astro-ph.EP       0.96      0.85      0.90      1671\n",
            " astro-ph.GA       0.89      0.76      0.82      2180\n",
            " astro-ph.HE       0.95      0.66      0.78      1410\n",
            " astro-ph.IM       0.97      0.49      0.65      1382\n",
            " astro-ph.SR       0.99      0.32      0.49      1878\n",
            "\n",
            "   micro avg       0.94      0.60      0.73      9470\n",
            "   macro avg       0.96      0.58      0.70      9470\n",
            "weighted avg       0.95      0.60      0.71      9470\n",
            " samples avg       0.85      0.69      0.74      9470\n",
            "\n"
          ]
        },
        {
          "output_type": "stream",
          "name": "stderr",
          "text": [
            "/usr/local/lib/python3.7/dist-packages/sklearn/metrics/_classification.py:1308: UndefinedMetricWarning: Precision and F-score are ill-defined and being set to 0.0 in samples with no predicted labels. Use `zero_division` parameter to control this behavior.\n",
            "  _warn_prf(average, modifier, msg_start, len(result))\n"
          ]
        }
      ],
      "source": [
        "print(classification_report(y_test, y_pred,target_names=vocab))"
      ]
    },
    {
      "cell_type": "markdown",
      "metadata": {
        "id": "mDpzRWqVFYa5"
      },
      "source": [
        "###Train the model with BernoulliNB and evaluate"
      ]
    },
    {
      "cell_type": "code",
      "execution_count": null,
      "metadata": {
        "colab": {
          "base_uri": "https://localhost:8080/"
        },
        "id": "RCKvtQUj99He",
        "outputId": "0ff67dcd-6eee-42be-f608-c08fc09e75eb"
      },
      "outputs": [
        {
          "output_type": "execute_result",
          "data": {
            "text/plain": [
              "LabelPowerset(classifier=BernoulliNB(), require_dense=[True, True])"
            ]
          },
          "metadata": {},
          "execution_count": 32
        }
      ],
      "source": [
        "# initialize Label Powerset multi-label classifier\n",
        "# with a bernoulli naive bayes base classifier\n",
        "model = LabelPowerset(BernoulliNB())\n",
        "\n",
        "model.fit(X_train_vector, y_train)"
      ]
    },
    {
      "cell_type": "code",
      "execution_count": null,
      "metadata": {
        "id": "ZY6-nB4l-Nnu"
      },
      "outputs": [],
      "source": [
        "y_pred_prob = model.predict_proba(X_test_vector)\n",
        "y_pred_prob = y_pred_prob.toarray()"
      ]
    },
    {
      "cell_type": "code",
      "execution_count": null,
      "metadata": {
        "id": "Rtkdukwx-Qnm",
        "colab": {
          "base_uri": "https://localhost:8080/"
        },
        "outputId": "e4b50436-5763-4a8d-b8d2-794df69dc83c"
      },
      "outputs": [
        {
          "output_type": "stream",
          "name": "stdout",
          "text": [
            "Exact Match Radio accuracy on the test set: 57.89% - with k = 1 and threshold = 0.1\n",
            "Exact Match Radio accuracy on the test set: 57.89% - with k = 1 and threshold = 0.2\n",
            "Exact Match Radio accuracy on the test set: 57.89% - with k = 1 and threshold = 0.30000000000000004\n",
            "Exact Match Radio accuracy on the test set: 57.89% - with k = 1 and threshold = 0.4\n",
            "Exact Match Radio accuracy on the test set: 57.87% - with k = 1 and threshold = 0.5\n",
            "Exact Match Radio accuracy on the test set: 57.8% - with k = 1 and threshold = 0.6\n",
            "Exact Match Radio accuracy on the test set: 57.6% - with k = 1 and threshold = 0.7000000000000001\n",
            "Exact Match Radio accuracy on the test set: 57.42% - with k = 1 and threshold = 0.8\n",
            "Exact Match Radio accuracy on the test set: 60.28% - with k = 2 and threshold = 0.1\n",
            "Exact Match Radio accuracy on the test set: 60.4% - with k = 2 and threshold = 0.2\n",
            "Exact Match Radio accuracy on the test set: 60.61% - with k = 2 and threshold = 0.30000000000000004\n",
            "Exact Match Radio accuracy on the test set: 60.9% - with k = 2 and threshold = 0.4\n",
            "Exact Match Radio accuracy on the test set: 60.77% - with k = 2 and threshold = 0.5\n",
            "Exact Match Radio accuracy on the test set: 60.82% - with k = 2 and threshold = 0.6\n",
            "Exact Match Radio accuracy on the test set: 60.65% - with k = 2 and threshold = 0.7000000000000001\n",
            "Exact Match Radio accuracy on the test set: 60.29% - with k = 2 and threshold = 0.8\n",
            "Exact Match Radio accuracy on the test set: 60.4% - with k = 3 and threshold = 0.1\n",
            "Exact Match Radio accuracy on the test set: 60.56% - with k = 3 and threshold = 0.2\n",
            "Exact Match Radio accuracy on the test set: 60.71% - with k = 3 and threshold = 0.30000000000000004\n",
            "Exact Match Radio accuracy on the test set: 60.99% - with k = 3 and threshold = 0.4\n",
            "Exact Match Radio accuracy on the test set: 60.79% - with k = 3 and threshold = 0.5\n",
            "Exact Match Radio accuracy on the test set: 60.83% - with k = 3 and threshold = 0.6\n",
            "Exact Match Radio accuracy on the test set: 60.68% - with k = 3 and threshold = 0.7000000000000001\n",
            "Exact Match Radio accuracy on the test set: 60.35% - with k = 3 and threshold = 0.8\n",
            "Exact Match Radio accuracy on the test set: 60.4% - with k = 4 and threshold = 0.1\n",
            "Exact Match Radio accuracy on the test set: 60.56% - with k = 4 and threshold = 0.2\n",
            "Exact Match Radio accuracy on the test set: 60.71% - with k = 4 and threshold = 0.30000000000000004\n",
            "Exact Match Radio accuracy on the test set: 60.99% - with k = 4 and threshold = 0.4\n",
            "Exact Match Radio accuracy on the test set: 60.79% - with k = 4 and threshold = 0.5\n",
            "Exact Match Radio accuracy on the test set: 60.83% - with k = 4 and threshold = 0.6\n",
            "Exact Match Radio accuracy on the test set: 60.68% - with k = 4 and threshold = 0.7000000000000001\n",
            "Exact Match Radio accuracy on the test set: 60.35% - with k = 4 and threshold = 0.8\n",
            "Exact Match Radio accuracy on the test set: 60.4% - with k = 5 and threshold = 0.1\n",
            "Exact Match Radio accuracy on the test set: 60.56% - with k = 5 and threshold = 0.2\n",
            "Exact Match Radio accuracy on the test set: 60.71% - with k = 5 and threshold = 0.30000000000000004\n",
            "Exact Match Radio accuracy on the test set: 60.99% - with k = 5 and threshold = 0.4\n",
            "Exact Match Radio accuracy on the test set: 60.79% - with k = 5 and threshold = 0.5\n",
            "Exact Match Radio accuracy on the test set: 60.83% - with k = 5 and threshold = 0.6\n",
            "Exact Match Radio accuracy on the test set: 60.68% - with k = 5 and threshold = 0.7000000000000001\n",
            "Exact Match Radio accuracy on the test set: 60.35% - with k = 5 and threshold = 0.8\n",
            "Exact Match Radio accuracy on the test set: 60.4% - with k = 6 and threshold = 0.1\n",
            "Exact Match Radio accuracy on the test set: 60.56% - with k = 6 and threshold = 0.2\n",
            "Exact Match Radio accuracy on the test set: 60.71% - with k = 6 and threshold = 0.30000000000000004\n",
            "Exact Match Radio accuracy on the test set: 60.99% - with k = 6 and threshold = 0.4\n",
            "Exact Match Radio accuracy on the test set: 60.79% - with k = 6 and threshold = 0.5\n",
            "Exact Match Radio accuracy on the test set: 60.83% - with k = 6 and threshold = 0.6\n",
            "Exact Match Radio accuracy on the test set: 60.68% - with k = 6 and threshold = 0.7000000000000001\n",
            "Exact Match Radio accuracy on the test set: 60.35% - with k = 6 and threshold = 0.8\n"
          ]
        }
      ],
      "source": [
        "for k in range(1,7):\n",
        "    for threshold in np.arange(0.1,0.9,0.1):\n",
        "        y_pred = get_y_pred(y_pred_prob, k, threshold)\n",
        "        from sklearn.metrics import accuracy_score\n",
        "        acc = accuracy_score(y_test, y_pred)\n",
        "        print(f\"Exact Match Radio accuracy on the test set: {round(acc * 100, 2)}% - with k = {k} and threshold = {threshold}\")"
      ]
    },
    {
      "cell_type": "code",
      "execution_count": null,
      "metadata": {
        "id": "B8gKd8dX-TYG",
        "colab": {
          "base_uri": "https://localhost:8080/"
        },
        "outputId": "ee3c73e7-3a87-4e7a-8c25-217b2174ce76"
      },
      "outputs": [
        {
          "output_type": "stream",
          "name": "stdout",
          "text": [
            "multilabel_confusion_matrix_of: astro-ph.CO\n",
            "[[5542  122]\n",
            " [ 318  631]]\n",
            "\n",
            "multilabel_confusion_matrix_of: astro-ph.EP\n",
            "[[4839  103]\n",
            " [ 214 1457]]\n",
            "\n",
            "multilabel_confusion_matrix_of: astro-ph.GA\n",
            "[[4217  216]\n",
            " [ 566 1614]]\n",
            "\n",
            "multilabel_confusion_matrix_of: astro-ph.HE\n",
            "[[5050  153]\n",
            " [ 295 1115]]\n",
            "\n",
            "multilabel_confusion_matrix_of: astro-ph.IM\n",
            "[[5081  150]\n",
            " [ 410  972]]\n",
            "\n",
            "multilabel_confusion_matrix_of: astro-ph.SR\n",
            "[[4418  317]\n",
            " [ 522 1356]]\n",
            "\n"
          ]
        }
      ],
      "source": [
        "y_pred = get_y_pred(y_pred_prob, k=2, threshold=0.5)\n",
        "from sklearn.metrics import multilabel_confusion_matrix\n",
        "m = multilabel_confusion_matrix(y_test, y_pred)\n",
        "\n",
        "for i in range(0,len(m)):\n",
        "    print(\"multilabel_confusion_matrix_of: \"+vocab[i])\n",
        "    print(m[i])\n",
        "    print()"
      ]
    },
    {
      "cell_type": "code",
      "execution_count": null,
      "metadata": {
        "id": "HatU0rVJ-Wsd",
        "colab": {
          "base_uri": "https://localhost:8080/"
        },
        "outputId": "63fffd94-5363-4ec7-a59b-82728088ec57"
      },
      "outputs": [
        {
          "output_type": "stream",
          "name": "stdout",
          "text": [
            "              precision    recall  f1-score   support\n",
            "\n",
            " astro-ph.CO       0.84      0.66      0.74       949\n",
            " astro-ph.EP       0.93      0.87      0.90      1671\n",
            " astro-ph.GA       0.88      0.74      0.80      2180\n",
            " astro-ph.HE       0.88      0.79      0.83      1410\n",
            " astro-ph.IM       0.87      0.70      0.78      1382\n",
            " astro-ph.SR       0.81      0.72      0.76      1878\n",
            "\n",
            "   micro avg       0.87      0.75      0.81      9470\n",
            "   macro avg       0.87      0.75      0.80      9470\n",
            "weighted avg       0.87      0.75      0.81      9470\n",
            " samples avg       0.90      0.82      0.83      9470\n",
            "\n"
          ]
        },
        {
          "output_type": "stream",
          "name": "stderr",
          "text": [
            "/usr/local/lib/python3.7/dist-packages/sklearn/metrics/_classification.py:1308: UndefinedMetricWarning: Precision and F-score are ill-defined and being set to 0.0 in samples with no predicted labels. Use `zero_division` parameter to control this behavior.\n",
            "  _warn_prf(average, modifier, msg_start, len(result))\n"
          ]
        }
      ],
      "source": [
        "print(classification_report(y_test, y_pred,target_names=vocab))"
      ]
    },
    {
      "cell_type": "markdown",
      "source": [
        "##Train the model\n",
        "*Vectorizer by CountVectorizer*"
      ],
      "metadata": {
        "id": "z6MqAx2AiYIt"
      }
    },
    {
      "cell_type": "markdown",
      "source": [
        "###Vectorizer by CountVectorizer"
      ],
      "metadata": {
        "id": "CYRGhSipisXP"
      }
    },
    {
      "cell_type": "code",
      "source": [
        "vectorizer = CountVectorizer()\n",
        "vectorizer.fit(X_train)\n",
        "vectorizer.fit(X_test)\n",
        "X_train_vector = vectorizer.transform(X_train)\n",
        "X_test_vector = vectorizer.transform(X_test)"
      ],
      "metadata": {
        "id": "3zpLJPoliXUj"
      },
      "execution_count": null,
      "outputs": []
    },
    {
      "cell_type": "markdown",
      "source": [
        "###Train the model with MultinomialNB and evaluate\n"
      ],
      "metadata": {
        "id": "J9chIpNSivhA"
      }
    },
    {
      "cell_type": "code",
      "source": [
        "# initialize Label Powerset multi-label classifier\n",
        "# with a multinomial naive bayes base classifier\n",
        "model = LabelPowerset(MultinomialNB())\n",
        "\n",
        "model.fit(X_train_vector, y_train)"
      ],
      "metadata": {
        "id": "pJ-TzVauKtXr",
        "colab": {
          "base_uri": "https://localhost:8080/"
        },
        "outputId": "6c700449-d650-49c5-9a60-b0a3d8ac7d54"
      },
      "execution_count": null,
      "outputs": [
        {
          "output_type": "execute_result",
          "data": {
            "text/plain": [
              "LabelPowerset(classifier=MultinomialNB(), require_dense=[True, True])"
            ]
          },
          "metadata": {},
          "execution_count": 39
        }
      ]
    },
    {
      "cell_type": "code",
      "execution_count": null,
      "metadata": {
        "id": "ypbj5rZfi34R"
      },
      "outputs": [],
      "source": [
        "y_pred_prob = model.predict_proba(X_test_vector)\n",
        "y_pred_prob = y_pred_prob.toarray()"
      ]
    },
    {
      "cell_type": "code",
      "execution_count": null,
      "metadata": {
        "id": "i0NfODa5i34R",
        "colab": {
          "base_uri": "https://localhost:8080/"
        },
        "outputId": "d5564d42-f333-4ce0-bc20-3e7cd8c02870"
      },
      "outputs": [
        {
          "output_type": "stream",
          "name": "stdout",
          "text": [
            "Exact Match Radio accuracy on the test set: 58.49% - with k = 1 and threshold = 0.1\n",
            "Exact Match Radio accuracy on the test set: 58.49% - with k = 1 and threshold = 0.2\n",
            "Exact Match Radio accuracy on the test set: 58.49% - with k = 1 and threshold = 0.30000000000000004\n",
            "Exact Match Radio accuracy on the test set: 58.49% - with k = 1 and threshold = 0.4\n",
            "Exact Match Radio accuracy on the test set: 58.48% - with k = 1 and threshold = 0.5\n",
            "Exact Match Radio accuracy on the test set: 58.43% - with k = 1 and threshold = 0.6\n",
            "Exact Match Radio accuracy on the test set: 58.42% - with k = 1 and threshold = 0.7000000000000001\n",
            "Exact Match Radio accuracy on the test set: 58.35% - with k = 1 and threshold = 0.8\n",
            "Exact Match Radio accuracy on the test set: 58.88% - with k = 2 and threshold = 0.1\n",
            "Exact Match Radio accuracy on the test set: 59.67% - with k = 2 and threshold = 0.2\n",
            "Exact Match Radio accuracy on the test set: 59.99% - with k = 2 and threshold = 0.30000000000000004\n",
            "Exact Match Radio accuracy on the test set: 60.2% - with k = 2 and threshold = 0.4\n",
            "Exact Match Radio accuracy on the test set: 60.17% - with k = 2 and threshold = 0.5\n",
            "Exact Match Radio accuracy on the test set: 60.31% - with k = 2 and threshold = 0.6\n",
            "Exact Match Radio accuracy on the test set: 60.52% - with k = 2 and threshold = 0.7000000000000001\n",
            "Exact Match Radio accuracy on the test set: 60.85% - with k = 2 and threshold = 0.8\n",
            "Exact Match Radio accuracy on the test set: 59.2% - with k = 3 and threshold = 0.1\n",
            "Exact Match Radio accuracy on the test set: 60.05% - with k = 3 and threshold = 0.2\n",
            "Exact Match Radio accuracy on the test set: 60.43% - with k = 3 and threshold = 0.30000000000000004\n",
            "Exact Match Radio accuracy on the test set: 60.71% - with k = 3 and threshold = 0.4\n",
            "Exact Match Radio accuracy on the test set: 60.68% - with k = 3 and threshold = 0.5\n",
            "Exact Match Radio accuracy on the test set: 60.82% - with k = 3 and threshold = 0.6\n",
            "Exact Match Radio accuracy on the test set: 61.0% - with k = 3 and threshold = 0.7000000000000001\n",
            "Exact Match Radio accuracy on the test set: 61.3% - with k = 3 and threshold = 0.8\n",
            "Exact Match Radio accuracy on the test set: 59.2% - with k = 4 and threshold = 0.1\n",
            "Exact Match Radio accuracy on the test set: 60.05% - with k = 4 and threshold = 0.2\n",
            "Exact Match Radio accuracy on the test set: 60.43% - with k = 4 and threshold = 0.30000000000000004\n",
            "Exact Match Radio accuracy on the test set: 60.71% - with k = 4 and threshold = 0.4\n",
            "Exact Match Radio accuracy on the test set: 60.68% - with k = 4 and threshold = 0.5\n",
            "Exact Match Radio accuracy on the test set: 60.82% - with k = 4 and threshold = 0.6\n",
            "Exact Match Radio accuracy on the test set: 61.0% - with k = 4 and threshold = 0.7000000000000001\n",
            "Exact Match Radio accuracy on the test set: 61.3% - with k = 4 and threshold = 0.8\n",
            "Exact Match Radio accuracy on the test set: 59.2% - with k = 5 and threshold = 0.1\n",
            "Exact Match Radio accuracy on the test set: 60.05% - with k = 5 and threshold = 0.2\n",
            "Exact Match Radio accuracy on the test set: 60.43% - with k = 5 and threshold = 0.30000000000000004\n",
            "Exact Match Radio accuracy on the test set: 60.71% - with k = 5 and threshold = 0.4\n",
            "Exact Match Radio accuracy on the test set: 60.68% - with k = 5 and threshold = 0.5\n",
            "Exact Match Radio accuracy on the test set: 60.82% - with k = 5 and threshold = 0.6\n",
            "Exact Match Radio accuracy on the test set: 61.0% - with k = 5 and threshold = 0.7000000000000001\n",
            "Exact Match Radio accuracy on the test set: 61.3% - with k = 5 and threshold = 0.8\n",
            "Exact Match Radio accuracy on the test set: 59.2% - with k = 6 and threshold = 0.1\n",
            "Exact Match Radio accuracy on the test set: 60.05% - with k = 6 and threshold = 0.2\n",
            "Exact Match Radio accuracy on the test set: 60.43% - with k = 6 and threshold = 0.30000000000000004\n",
            "Exact Match Radio accuracy on the test set: 60.71% - with k = 6 and threshold = 0.4\n",
            "Exact Match Radio accuracy on the test set: 60.68% - with k = 6 and threshold = 0.5\n",
            "Exact Match Radio accuracy on the test set: 60.82% - with k = 6 and threshold = 0.6\n",
            "Exact Match Radio accuracy on the test set: 61.0% - with k = 6 and threshold = 0.7000000000000001\n",
            "Exact Match Radio accuracy on the test set: 61.3% - with k = 6 and threshold = 0.8\n"
          ]
        }
      ],
      "source": [
        "for k in range(1,7):\n",
        "    for threshold in np.arange(0.1,0.9,0.1):\n",
        "        y_pred = get_y_pred(y_pred_prob, k, threshold)\n",
        "        from sklearn.metrics import accuracy_score\n",
        "        acc = accuracy_score(y_test, y_pred)\n",
        "        print(f\"Exact Match Radio accuracy on the test set: {round(acc * 100, 2)}% - with k = {k} and threshold = {threshold}\")"
      ]
    },
    {
      "cell_type": "code",
      "execution_count": null,
      "metadata": {
        "id": "nDs_t-e1i34S",
        "colab": {
          "base_uri": "https://localhost:8080/"
        },
        "outputId": "cd48214a-ee52-4eb0-8ed7-cb4952d9abb4"
      },
      "outputs": [
        {
          "output_type": "stream",
          "name": "stdout",
          "text": [
            "multilabel_confusion_matrix_of: astro-ph.CO\n",
            "[[5489  175]\n",
            " [ 260  689]]\n",
            "\n",
            "multilabel_confusion_matrix_of: astro-ph.EP\n",
            "[[4826  116]\n",
            " [ 149 1522]]\n",
            "\n",
            "multilabel_confusion_matrix_of: astro-ph.GA\n",
            "[[4137  296]\n",
            " [ 450 1730]]\n",
            "\n",
            "multilabel_confusion_matrix_of: astro-ph.HE\n",
            "[[4953  250]\n",
            " [ 191 1219]]\n",
            "\n",
            "multilabel_confusion_matrix_of: astro-ph.IM\n",
            "[[4991  240]\n",
            " [ 320 1062]]\n",
            "\n",
            "multilabel_confusion_matrix_of: astro-ph.SR\n",
            "[[4266  469]\n",
            " [ 372 1506]]\n",
            "\n"
          ]
        }
      ],
      "source": [
        "y_pred = get_y_pred(y_pred_prob, k=2, threshold=0.5)\n",
        "from sklearn.metrics import multilabel_confusion_matrix\n",
        "m = multilabel_confusion_matrix(y_test, y_pred)\n",
        "\n",
        "for i in range(0,len(m)):\n",
        "    print(\"multilabel_confusion_matrix_of: \"+vocab[i])\n",
        "    print(m[i])\n",
        "    print()"
      ]
    },
    {
      "cell_type": "code",
      "execution_count": null,
      "metadata": {
        "id": "sOXD0zkHi34S",
        "colab": {
          "base_uri": "https://localhost:8080/"
        },
        "outputId": "2c3df903-d804-444c-c20c-54e8294287a8"
      },
      "outputs": [
        {
          "output_type": "stream",
          "name": "stdout",
          "text": [
            "              precision    recall  f1-score   support\n",
            "\n",
            " astro-ph.CO       0.80      0.73      0.76       949\n",
            " astro-ph.EP       0.93      0.91      0.92      1671\n",
            " astro-ph.GA       0.85      0.79      0.82      2180\n",
            " astro-ph.HE       0.83      0.86      0.85      1410\n",
            " astro-ph.IM       0.82      0.77      0.79      1382\n",
            " astro-ph.SR       0.76      0.80      0.78      1878\n",
            "\n",
            "   micro avg       0.83      0.82      0.82      9470\n",
            "   macro avg       0.83      0.81      0.82      9470\n",
            "weighted avg       0.83      0.82      0.82      9470\n",
            " samples avg       0.87      0.87      0.84      9470\n",
            "\n"
          ]
        },
        {
          "output_type": "stream",
          "name": "stderr",
          "text": [
            "/usr/local/lib/python3.7/dist-packages/sklearn/metrics/_classification.py:1308: UndefinedMetricWarning: Precision and F-score are ill-defined and being set to 0.0 in samples with no predicted labels. Use `zero_division` parameter to control this behavior.\n",
            "  _warn_prf(average, modifier, msg_start, len(result))\n"
          ]
        }
      ],
      "source": [
        "print(classification_report(y_test, y_pred,target_names=vocab))"
      ]
    },
    {
      "cell_type": "markdown",
      "metadata": {
        "id": "F3UitqIni34T"
      },
      "source": [
        "###Train the model with BernoulliNB and evaluate"
      ]
    },
    {
      "cell_type": "code",
      "execution_count": null,
      "metadata": {
        "id": "sE5YVpXSi34T",
        "colab": {
          "base_uri": "https://localhost:8080/"
        },
        "outputId": "8dadefef-c3ae-4dfd-ca94-8878e49db6aa"
      },
      "outputs": [
        {
          "output_type": "execute_result",
          "data": {
            "text/plain": [
              "LabelPowerset(classifier=BernoulliNB(), require_dense=[True, True])"
            ]
          },
          "metadata": {},
          "execution_count": 44
        }
      ],
      "source": [
        "# initialize Label Powerset multi-label classifier\n",
        "# with a bernoulli naive bayes base classifier\n",
        "model = LabelPowerset(BernoulliNB())\n",
        "\n",
        "model.fit(X_train_vector, y_train)"
      ]
    },
    {
      "cell_type": "code",
      "execution_count": null,
      "metadata": {
        "id": "AQ8_QJPpi34U"
      },
      "outputs": [],
      "source": [
        "y_pred_prob = model.predict_proba(X_test_vector)\n",
        "y_pred_prob = y_pred_prob.toarray()"
      ]
    },
    {
      "cell_type": "code",
      "execution_count": null,
      "metadata": {
        "id": "XiDUMzD6i34U",
        "colab": {
          "base_uri": "https://localhost:8080/"
        },
        "outputId": "cb79eb71-59b3-49a1-d719-37ca44d8012d"
      },
      "outputs": [
        {
          "output_type": "stream",
          "name": "stdout",
          "text": [
            "Exact Match Radio accuracy on the test set: 57.89% - with k = 1 and threshold = 0.1\n",
            "Exact Match Radio accuracy on the test set: 57.89% - with k = 1 and threshold = 0.2\n",
            "Exact Match Radio accuracy on the test set: 57.89% - with k = 1 and threshold = 0.30000000000000004\n",
            "Exact Match Radio accuracy on the test set: 57.89% - with k = 1 and threshold = 0.4\n",
            "Exact Match Radio accuracy on the test set: 57.87% - with k = 1 and threshold = 0.5\n",
            "Exact Match Radio accuracy on the test set: 57.8% - with k = 1 and threshold = 0.6\n",
            "Exact Match Radio accuracy on the test set: 57.6% - with k = 1 and threshold = 0.7000000000000001\n",
            "Exact Match Radio accuracy on the test set: 57.42% - with k = 1 and threshold = 0.8\n",
            "Exact Match Radio accuracy on the test set: 60.28% - with k = 2 and threshold = 0.1\n",
            "Exact Match Radio accuracy on the test set: 60.4% - with k = 2 and threshold = 0.2\n",
            "Exact Match Radio accuracy on the test set: 60.61% - with k = 2 and threshold = 0.30000000000000004\n",
            "Exact Match Radio accuracy on the test set: 60.9% - with k = 2 and threshold = 0.4\n",
            "Exact Match Radio accuracy on the test set: 60.77% - with k = 2 and threshold = 0.5\n",
            "Exact Match Radio accuracy on the test set: 60.82% - with k = 2 and threshold = 0.6\n",
            "Exact Match Radio accuracy on the test set: 60.65% - with k = 2 and threshold = 0.7000000000000001\n",
            "Exact Match Radio accuracy on the test set: 60.29% - with k = 2 and threshold = 0.8\n",
            "Exact Match Radio accuracy on the test set: 60.4% - with k = 3 and threshold = 0.1\n",
            "Exact Match Radio accuracy on the test set: 60.56% - with k = 3 and threshold = 0.2\n",
            "Exact Match Radio accuracy on the test set: 60.71% - with k = 3 and threshold = 0.30000000000000004\n",
            "Exact Match Radio accuracy on the test set: 60.99% - with k = 3 and threshold = 0.4\n",
            "Exact Match Radio accuracy on the test set: 60.79% - with k = 3 and threshold = 0.5\n",
            "Exact Match Radio accuracy on the test set: 60.83% - with k = 3 and threshold = 0.6\n",
            "Exact Match Radio accuracy on the test set: 60.68% - with k = 3 and threshold = 0.7000000000000001\n",
            "Exact Match Radio accuracy on the test set: 60.35% - with k = 3 and threshold = 0.8\n",
            "Exact Match Radio accuracy on the test set: 60.4% - with k = 4 and threshold = 0.1\n",
            "Exact Match Radio accuracy on the test set: 60.56% - with k = 4 and threshold = 0.2\n",
            "Exact Match Radio accuracy on the test set: 60.71% - with k = 4 and threshold = 0.30000000000000004\n",
            "Exact Match Radio accuracy on the test set: 60.99% - with k = 4 and threshold = 0.4\n",
            "Exact Match Radio accuracy on the test set: 60.79% - with k = 4 and threshold = 0.5\n",
            "Exact Match Radio accuracy on the test set: 60.83% - with k = 4 and threshold = 0.6\n",
            "Exact Match Radio accuracy on the test set: 60.68% - with k = 4 and threshold = 0.7000000000000001\n",
            "Exact Match Radio accuracy on the test set: 60.35% - with k = 4 and threshold = 0.8\n",
            "Exact Match Radio accuracy on the test set: 60.4% - with k = 5 and threshold = 0.1\n",
            "Exact Match Radio accuracy on the test set: 60.56% - with k = 5 and threshold = 0.2\n",
            "Exact Match Radio accuracy on the test set: 60.71% - with k = 5 and threshold = 0.30000000000000004\n",
            "Exact Match Radio accuracy on the test set: 60.99% - with k = 5 and threshold = 0.4\n",
            "Exact Match Radio accuracy on the test set: 60.79% - with k = 5 and threshold = 0.5\n",
            "Exact Match Radio accuracy on the test set: 60.83% - with k = 5 and threshold = 0.6\n",
            "Exact Match Radio accuracy on the test set: 60.68% - with k = 5 and threshold = 0.7000000000000001\n",
            "Exact Match Radio accuracy on the test set: 60.35% - with k = 5 and threshold = 0.8\n",
            "Exact Match Radio accuracy on the test set: 60.4% - with k = 6 and threshold = 0.1\n",
            "Exact Match Radio accuracy on the test set: 60.56% - with k = 6 and threshold = 0.2\n",
            "Exact Match Radio accuracy on the test set: 60.71% - with k = 6 and threshold = 0.30000000000000004\n",
            "Exact Match Radio accuracy on the test set: 60.99% - with k = 6 and threshold = 0.4\n",
            "Exact Match Radio accuracy on the test set: 60.79% - with k = 6 and threshold = 0.5\n",
            "Exact Match Radio accuracy on the test set: 60.83% - with k = 6 and threshold = 0.6\n",
            "Exact Match Radio accuracy on the test set: 60.68% - with k = 6 and threshold = 0.7000000000000001\n",
            "Exact Match Radio accuracy on the test set: 60.35% - with k = 6 and threshold = 0.8\n"
          ]
        }
      ],
      "source": [
        "for k in range(1,7):\n",
        "    for threshold in np.arange(0.1,0.9,0.1):\n",
        "        y_pred = get_y_pred(y_pred_prob, k, threshold)\n",
        "        from sklearn.metrics import accuracy_score\n",
        "        acc = accuracy_score(y_test, y_pred)\n",
        "        print(f\"Exact Match Radio accuracy on the test set: {round(acc * 100, 2)}% - with k = {k} and threshold = {threshold}\")"
      ]
    },
    {
      "cell_type": "code",
      "execution_count": null,
      "metadata": {
        "id": "hQpnQ52qi34U",
        "colab": {
          "base_uri": "https://localhost:8080/"
        },
        "outputId": "ee4be634-3973-41e7-b089-fef2f247d6a0"
      },
      "outputs": [
        {
          "output_type": "stream",
          "name": "stdout",
          "text": [
            "multilabel_confusion_matrix_of: astro-ph.CO\n",
            "[[5542  122]\n",
            " [ 318  631]]\n",
            "\n",
            "multilabel_confusion_matrix_of: astro-ph.EP\n",
            "[[4839  103]\n",
            " [ 214 1457]]\n",
            "\n",
            "multilabel_confusion_matrix_of: astro-ph.GA\n",
            "[[4217  216]\n",
            " [ 566 1614]]\n",
            "\n",
            "multilabel_confusion_matrix_of: astro-ph.HE\n",
            "[[5050  153]\n",
            " [ 295 1115]]\n",
            "\n",
            "multilabel_confusion_matrix_of: astro-ph.IM\n",
            "[[5081  150]\n",
            " [ 410  972]]\n",
            "\n",
            "multilabel_confusion_matrix_of: astro-ph.SR\n",
            "[[4418  317]\n",
            " [ 522 1356]]\n",
            "\n"
          ]
        }
      ],
      "source": [
        "y_pred = get_y_pred(y_pred_prob, k=2, threshold=0.5)\n",
        "from sklearn.metrics import multilabel_confusion_matrix\n",
        "m = multilabel_confusion_matrix(y_test, y_pred)\n",
        "\n",
        "for i in range(0,len(m)):\n",
        "    print(\"multilabel_confusion_matrix_of: \"+vocab[i])\n",
        "    print(m[i])\n",
        "    print()"
      ]
    },
    {
      "cell_type": "code",
      "execution_count": null,
      "metadata": {
        "id": "HY7QG10oi34V",
        "colab": {
          "base_uri": "https://localhost:8080/"
        },
        "outputId": "e0bb1952-4eec-4730-b936-aa1a561b6407"
      },
      "outputs": [
        {
          "output_type": "stream",
          "name": "stdout",
          "text": [
            "              precision    recall  f1-score   support\n",
            "\n",
            " astro-ph.CO       0.84      0.66      0.74       949\n",
            " astro-ph.EP       0.93      0.87      0.90      1671\n",
            " astro-ph.GA       0.88      0.74      0.80      2180\n",
            " astro-ph.HE       0.88      0.79      0.83      1410\n",
            " astro-ph.IM       0.87      0.70      0.78      1382\n",
            " astro-ph.SR       0.81      0.72      0.76      1878\n",
            "\n",
            "   micro avg       0.87      0.75      0.81      9470\n",
            "   macro avg       0.87      0.75      0.80      9470\n",
            "weighted avg       0.87      0.75      0.81      9470\n",
            " samples avg       0.90      0.82      0.83      9470\n",
            "\n"
          ]
        },
        {
          "output_type": "stream",
          "name": "stderr",
          "text": [
            "/usr/local/lib/python3.7/dist-packages/sklearn/metrics/_classification.py:1308: UndefinedMetricWarning: Precision and F-score are ill-defined and being set to 0.0 in samples with no predicted labels. Use `zero_division` parameter to control this behavior.\n",
            "  _warn_prf(average, modifier, msg_start, len(result))\n"
          ]
        }
      ],
      "source": [
        "print(classification_report(y_test, y_pred,target_names=vocab))"
      ]
    },
    {
      "cell_type": "markdown",
      "metadata": {
        "id": "r4Y1uysaDlJ8"
      },
      "source": [
        "#Oversampling (RAM OVERFLOW)"
      ]
    },
    {
      "cell_type": "markdown",
      "metadata": {
        "id": "FWrLNcX9EseU"
      },
      "source": [
        "####Random oversampling"
      ]
    },
    {
      "cell_type": "code",
      "execution_count": null,
      "metadata": {
        "id": "Dt41O81XDkHg",
        "colab": {
          "base_uri": "https://localhost:8080/"
        },
        "outputId": "2a5b525b-9b5c-4c53-ecfc-c6b81e1ade60"
      },
      "outputs": [
        {
          "output_type": "stream",
          "name": "stderr",
          "text": [
            "/usr/local/lib/python3.7/dist-packages/ipykernel_launcher.py:2: SettingWithCopyWarning: \n",
            "A value is trying to be set on a copy of a slice from a DataFrame.\n",
            "Try using .loc[row_indexer,col_indexer] = value instead\n",
            "\n",
            "See the caveats in the documentation: https://pandas.pydata.org/pandas-docs/stable/user_guide/indexing.html#returning-a-view-versus-a-copy\n",
            "  \n",
            "/usr/local/lib/python3.7/dist-packages/ipykernel_launcher.py:8: SettingWithCopyWarning: \n",
            "A value is trying to be set on a copy of a slice from a DataFrame\n",
            "\n",
            "See the caveats in the documentation: https://pandas.pydata.org/pandas-docs/stable/user_guide/indexing.html#returning-a-view-versus-a-copy\n",
            "  \n"
          ]
        }
      ],
      "source": [
        "#Convert to powerlabel\n",
        "arxiv_data_filtered['powerlabel'] = arxiv_data_filtered['terms']\n",
        "for i in range(len(arxiv_data_filtered)):\n",
        "  pwl = 0\n",
        "  for index in range(len(all_terms_df)):\n",
        "    if all_terms_df['Term'].iloc[index] in (arxiv_data_filtered['terms'].iloc[i]):\n",
        "      pwl += (2**index)\n",
        "  arxiv_data_filtered['powerlabel'].iloc[i] = pwl"
      ]
    },
    {
      "cell_type": "code",
      "execution_count": null,
      "metadata": {
        "id": "sX9dNtwgDowM",
        "colab": {
          "base_uri": "https://localhost:8080/"
        },
        "outputId": "91e4c2e3-f1ba-4e88-9d51-fdd1790996ee"
      },
      "outputs": [
        {
          "output_type": "stream",
          "name": "stdout",
          "text": [
            "                                                  titles  ... powerlabel\n",
            "38517  Classical Novae Masquerading as Dwarf Novae? O...  ...          1\n",
            "38638  Review of the classification and properties of...  ...          1\n",
            "36936  The Detailed Light Curve Evolution of V1674 He...  ...          1\n",
            "41926  Magnetic connectivity between the light bridge...  ...          1\n",
            "36947  Observational and Theoretical Studies of 27 $δ...  ...          1\n",
            "...                                                  ...  ...        ...\n",
            "18958  The Social Sciences Interdisciplinarity for As...  ...         62\n",
            "628    Faint objects in motion: the new frontier of h...  ...         62\n",
            "8047   The imperative to reduce carbon emissions in a...  ...         62\n",
            "13476                   Astronomy in a Low-Carbon Future  ...         62\n",
            "7798   VLBI20-30: a scientific roadmap for the next d...  ...         63\n",
            "\n",
            "[33062 rows x 4 columns]\n"
          ]
        }
      ],
      "source": [
        "print(arxiv_data_filtered.sort_values(by = ['powerlabel']))"
      ]
    },
    {
      "cell_type": "code",
      "execution_count": null,
      "metadata": {
        "id": "5pVRDPlmWEdR",
        "colab": {
          "base_uri": "https://localhost:8080/"
        },
        "outputId": "f54a6f78-42b2-4d27-f500-0e560cbcf29b"
      },
      "outputs": [
        {
          "output_type": "execute_result",
          "data": {
            "text/plain": [
              "2     4639\n",
              "32    4571\n",
              "8     3559\n",
              "1     3062\n",
              "16    2832\n",
              "4     2258\n",
              "33    1921\n",
              "3     1778\n",
              "6     1454\n",
              "10     971\n",
              "48     850\n",
              "9      805\n",
              "24     736\n",
              "18     497\n",
              "20     487\n",
              "35     478\n",
              "17     395\n",
              "49     303\n",
              "19     209\n",
              "12     196\n",
              "11     189\n",
              "22     164\n",
              "14     109\n",
              "34     105\n",
              "25      69\n",
              "51      51\n",
              "26      46\n",
              "41      45\n",
              "40      36\n",
              "7       35\n",
              "28      29\n",
              "50      27\n",
              "23      14\n",
              "13      12\n",
              "27      12\n",
              "15      12\n",
              "30      11\n",
              "42      11\n",
              "43      10\n",
              "55       9\n",
              "36       8\n",
              "52       7\n",
              "31       6\n",
              "5        6\n",
              "56       5\n",
              "59       4\n",
              "62       4\n",
              "21       4\n",
              "57       4\n",
              "37       3\n",
              "54       3\n",
              "39       2\n",
              "44       2\n",
              "29       2\n",
              "46       1\n",
              "53       1\n",
              "47       1\n",
              "38       1\n",
              "63       1\n",
              "Name: powerlabel, dtype: int64"
            ]
          },
          "metadata": {},
          "execution_count": 51
        }
      ],
      "source": [
        "arxiv_data_filtered[\"powerlabel\"].value_counts()"
      ]
    },
    {
      "cell_type": "code",
      "execution_count": null,
      "metadata": {
        "id": "_byiN1V-bcrb",
        "colab": {
          "base_uri": "https://localhost:8080/",
          "height": 504
        },
        "outputId": "de30ed40-4623-4dc9-aba4-db2c2c69ace4"
      },
      "outputs": [
        {
          "output_type": "execute_result",
          "data": {
            "text/plain": [
              "<matplotlib.axes._subplots.AxesSubplot at 0x7fea258d6290>"
            ]
          },
          "metadata": {},
          "execution_count": 52
        },
        {
          "output_type": "display_data",
          "data": {
            "image/png": "[encoded data removed]",
            "text/plain": [
              "<Figure size 2160x864 with 1 Axes>"
            ]
          },
          "metadata": {
            "needs_background": "light"
          }
        }
      ],
      "source": [
        "(arxiv_data_filtered[\"powerlabel\"].value_counts()).plot(kind='bar', figsize = (30, 12))"
      ]
    },
    {
      "cell_type": "code",
      "execution_count": null,
      "metadata": {
        "id": "ZWo-55wx1M4_"
      },
      "outputs": [],
      "source": [
        "vectorizer = CountVectorizer()\n",
        "vectorizer.fit(arxiv_data_filtered.summaries)\n",
        "X_vector = vectorizer.transform(arxiv_data_filtered.summaries)"
      ]
    },
    {
      "cell_type": "code",
      "execution_count": null,
      "metadata": {
        "id": "X1tn3cnF1Y6u",
        "colab": {
          "base_uri": "https://localhost:8080/"
        },
        "outputId": "67f0a20c-1691-4c1e-86af-39fd7f5a3899"
      },
      "outputs": [
        {
          "output_type": "execute_result",
          "data": {
            "text/plain": [
              "array([ 3,  2,  6, ...,  1,  3, 11])"
            ]
          },
          "metadata": {},
          "execution_count": 54
        }
      ],
      "source": [
        "y = np.array(arxiv_data_filtered['powerlabel']).astype('int')\n",
        "y"
      ]
    },
    {
      "cell_type": "code",
      "execution_count": null,
      "metadata": {
        "id": "79Yz-2ii1dt7"
      },
      "outputs": [],
      "source": [
        "#Random oversampling\n",
        "ros = RandomOverSampler(random_state=0)\n",
        "X_resampled, y_resampled = ros.fit_resample(X_vector,y)"
      ]
    },
    {
      "cell_type": "code",
      "execution_count": null,
      "metadata": {
        "id": "GcLR6XARaAid",
        "colab": {
          "base_uri": "https://localhost:8080/",
          "height": 504
        },
        "outputId": "75682a82-901d-48db-d400-cdb1672c197f"
      },
      "outputs": [
        {
          "output_type": "execute_result",
          "data": {
            "text/plain": [
              "<matplotlib.axes._subplots.AxesSubplot at 0x7fea1c96ec10>"
            ]
          },
          "metadata": {},
          "execution_count": 58
        },
        {
          "output_type": "display_data",
          "data": {
            "image/png": "[encoded data removed]",
            "text/plain": [
              "<Figure size 2160x864 with 1 Axes>"
            ]
          },
          "metadata": {
            "needs_background": "light"
          }
        }
      ],
      "source": [
        "#After oversampling\n",
        "(pd.Series(y_resampled).value_counts()).plot(kind='bar', figsize = (30, 12))"
      ]
    },
    {
      "cell_type": "code",
      "execution_count": null,
      "metadata": {
        "id": "KMRnu8TL9wvO"
      },
      "outputs": [],
      "source": [
        "y_resampled_binary = (((y_resampled[:,None] & (1 << np.arange(len(all_terms_df))))) > 0).astype(int)"
      ]
    },
    {
      "cell_type": "markdown",
      "metadata": {
        "id": "qYTnEDiXERR7"
      },
      "source": [
        "####Train the model (RAM OVERFLOW)"
      ]
    },
    {
      "cell_type": "code",
      "execution_count": null,
      "metadata": {
        "id": "dn9L7J9r1qIz"
      },
      "outputs": [],
      "source": [
        "X_train, X_test, y_train, y_test = train_test_split(X_resampled, y_resampled_binary, test_size = 0.2)"
      ]
    },
    {
      "cell_type": "code",
      "execution_count": null,
      "metadata": {
        "id": "ubzULa8V-VGI"
      },
      "outputs": [],
      "source": [
        "# initialize label powerset multi-label classifier\n",
        "# with a multinomial naive bayes base classifier\n",
        "model = LabelPowerset(MultinomialNB())\n",
        "\n",
        "model.fit(X_train, y_train)\n",
        "# RAM OVERFLOW"
      ]
    }
  ],
  "metadata": {
    "colab": {
      "collapsed_sections": [],
      "name": "Naive Bayes with LabelPowerset.ipynb",
      "provenance": [],
      "include_colab_link": true
    },
    "kernelspec": {
      "display_name": "Python 3",
      "name": "python3"
    },
    "language_info": {
      "name": "python"
    }
  },
  "nbformat": 4,
  "nbformat_minor": 0
}