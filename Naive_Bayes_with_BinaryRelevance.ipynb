{
  "cells": [
    {
      "cell_type": "markdown",
      "metadata": {
        "id": "view-in-github",
        "colab_type": "text"
      },
      "source": [
        "<a href=\"https://colab.research.google.com/github/NguyenLoi851/MultiLableClassification/blob/main/Naive_Bayes_with_BinaryRelevance.ipynb\" target=\"_parent\"><img src=\"https://colab.research.google.com/assets/colab-badge.svg\" alt=\"Open In Colab\"/></a>"
      ]
    },
    {
      "cell_type": "markdown",
      "metadata": {
        "id": "IFMUl99e-knN"
      },
      "source": [
        "#Import library"
      ]
    },
    {
      "cell_type": "code",
      "execution_count": null,
      "metadata": {
        "colab": {
          "base_uri": "https://localhost:8080/"
        },
        "id": "hwySX3-ubh_o",
        "outputId": "5f625846-f5b0-42a8-882e-6a4fdf6c3aa9"
      },
      "outputs": [
        {
          "output_type": "stream",
          "name": "stdout",
          "text": [
            "Requirement already satisfied: scikit-multilearn in /usr/local/lib/python3.7/dist-packages (0.2.0)\n"
          ]
        }
      ],
      "source": [
        "pip install scikit-multilearn"
      ]
    },
    {
      "cell_type": "code",
      "execution_count": null,
      "metadata": {
        "colab": {
          "base_uri": "https://localhost:8080/"
        },
        "id": "Wv-768E9wj2H",
        "outputId": "1d4c05e5-71f4-42a1-8ef1-7a6aada1c286"
      },
      "outputs": [
        {
          "output_type": "stream",
          "name": "stdout",
          "text": [
            "[nltk_data] Downloading package wordnet to /root/nltk_data...\n",
            "[nltk_data]   Package wordnet is already up-to-date!\n",
            "[nltk_data] Downloading package averaged_perceptron_tagger to\n",
            "[nltk_data]     /root/nltk_data...\n",
            "[nltk_data]   Package averaged_perceptron_tagger is already up-to-\n",
            "[nltk_data]       date!\n",
            "[nltk_data] Downloading package punkt to /root/nltk_data...\n",
            "[nltk_data]   Package punkt is already up-to-date!\n",
            "[nltk_data] Downloading package stopwords to /root/nltk_data...\n",
            "[nltk_data]   Package stopwords is already up-to-date!\n"
          ]
        }
      ],
      "source": [
        "# import and read csv\n",
        "import pandas as pd\n",
        "from tensorflow.keras import layers\n",
        "from tensorflow import keras\n",
        "import tensorflow as tf\n",
        "from sklearn.model_selection import train_test_split\n",
        "from ast import literal_eval\n",
        "import numpy as np\n",
        "import string\n",
        "import re\n",
        "import pandas as pd\n",
        "\n",
        "\n",
        "#Pre-processing data\n",
        "import nltk\n",
        "from nltk.stem import WordNetLemmatizer\n",
        "from nltk.corpus import stopwords\n",
        "from nltk.tag import pos_tag\n",
        "from nltk.tokenize import word_tokenize\n",
        "\n",
        "nltk.download('wordnet')\n",
        "nltk.download('averaged_perceptron_tagger')\n",
        "nltk.download('punkt')\n",
        "nltk.download('stopwords')\n",
        "\n",
        "# Visualization data\n",
        "import matplotlib.pyplot as plt \n",
        "import seaborn as sns\n",
        "import itertools\n",
        "\n",
        "#Binarizer labels\n",
        "from sklearn.preprocessing import MultiLabelBinarizer\n",
        "\n",
        "#Split and vectorizer data\n",
        "from sklearn.model_selection import train_test_split\n",
        "from sklearn.feature_extraction.text import TfidfVectorizer\n",
        "from sklearn.feature_extraction.text import CountVectorizer\n",
        "\n",
        "#Train the model\n",
        "from skmultilearn.problem_transform import BinaryRelevance\n",
        "from sklearn.naive_bayes import MultinomialNB\n",
        "from sklearn.naive_bayes import BernoulliNB\n",
        "\n",
        "#Model evaluation\n",
        "from sklearn.metrics import classification_report\n",
        "from sklearn.metrics import multilabel_confusion_matrix\n"
      ]
    },
    {
      "cell_type": "markdown",
      "metadata": {
        "id": "usj_PZWH-_vS"
      },
      "source": [
        "#Read and filter data"
      ]
    },
    {
      "cell_type": "code",
      "execution_count": null,
      "metadata": {
        "colab": {
          "base_uri": "https://localhost:8080/",
          "height": 206
        },
        "id": "FL3OZiPT-xz2",
        "outputId": "8d0cd4cd-77fd-4e29-b9ac-a25cfc852d2d"
      },
      "outputs": [
        {
          "output_type": "execute_result",
          "data": {
            "text/html": [
              "\n",
              "  <div id=\"df-d5163d9a-06f5-4fce-b22d-08ec6527bb52\">\n",
              "    <div class=\"colab-df-container\">\n",
              "      <div>\n",
              "<style scoped>\n",
              "    .dataframe tbody tr th:only-of-type {\n",
              "        vertical-align: middle;\n",
              "    }\n",
              "\n",
              "    .dataframe tbody tr th {\n",
              "        vertical-align: top;\n",
              "    }\n",
              "\n",
              "    .dataframe thead th {\n",
              "        text-align: right;\n",
              "    }\n",
              "</style>\n",
              "<table border=\"1\" class=\"dataframe\">\n",
              "  <thead>\n",
              "    <tr style=\"text-align: right;\">\n",
              "      <th></th>\n",
              "      <th>titles</th>\n",
              "      <th>summaries</th>\n",
              "      <th>terms</th>\n",
              "    </tr>\n",
              "  </thead>\n",
              "  <tbody>\n",
              "    <tr>\n",
              "      <th>0</th>\n",
              "      <td>Revealing the Field Sub-subgiant Population Us...</td>\n",
              "      <td>Sub-subgiant stars (SSGs) fall below the subgi...</td>\n",
              "      <td>['astro-ph.SR', 'astro-ph.GA']</td>\n",
              "    </tr>\n",
              "    <tr>\n",
              "      <th>1</th>\n",
              "      <td>ALMA detection of ethyl cyanide and methyl for...</td>\n",
              "      <td>In millimeter/submillimeter wavelength, the st...</td>\n",
              "      <td>['astro-ph.GA']</td>\n",
              "    </tr>\n",
              "    <tr>\n",
              "      <th>2</th>\n",
              "      <td>Accretion processes in the galaxy cluster Hydr...</td>\n",
              "      <td>Clusters of galaxies evolve and accrete mass, ...</td>\n",
              "      <td>['astro-ph.CO', 'astro-ph.GA']</td>\n",
              "    </tr>\n",
              "    <tr>\n",
              "      <th>3</th>\n",
              "      <td>Radio astronomy locates the neutrino origin in...</td>\n",
              "      <td>High-energy astrophysical neutrinos have been ...</td>\n",
              "      <td>['astro-ph.HE', 'astro-ph.GA']</td>\n",
              "    </tr>\n",
              "    <tr>\n",
              "      <th>4</th>\n",
              "      <td>The extragalactic $γ$-ray background: imprints...</td>\n",
              "      <td>Star-forming galaxies (SFGs) are expected to h...</td>\n",
              "      <td>['astro-ph.GA', 'astro-ph.HE']</td>\n",
              "    </tr>\n",
              "  </tbody>\n",
              "</table>\n",
              "</div>\n",
              "      <button class=\"colab-df-convert\" onclick=\"convertToInteractive('df-d5163d9a-06f5-4fce-b22d-08ec6527bb52')\"\n",
              "              title=\"Convert this dataframe to an interactive table.\"\n",
              "              style=\"display:none;\">\n",
              "        \n",
              "  <svg xmlns=\"http://www.w3.org/2000/svg\" height=\"24px\"viewBox=\"0 0 24 24\"\n",
              "       width=\"24px\">\n",
              "    <path d=\"M0 0h24v24H0V0z\" fill=\"none\"/>\n",
              "    <path d=\"M18.56 5.44l.94 2.06.94-2.06 2.06-.94-2.06-.94-.94-2.06-.94 2.06-2.06.94zm-11 1L8.5 8.5l.94-2.06 2.06-.94-2.06-.94L8.5 2.5l-.94 2.06-2.06.94zm10 10l.94 2.06.94-2.06 2.06-.94-2.06-.94-.94-2.06-.94 2.06-2.06.94z\"/><path d=\"M17.41 7.96l-1.37-1.37c-.4-.4-.92-.59-1.43-.59-.52 0-1.04.2-1.43.59L10.3 9.45l-7.72 7.72c-.78.78-.78 2.05 0 2.83L4 21.41c.39.39.9.59 1.41.59.51 0 1.02-.2 1.41-.59l7.78-7.78 2.81-2.81c.8-.78.8-2.07 0-2.86zM5.41 20L4 18.59l7.72-7.72 1.47 1.35L5.41 20z\"/>\n",
              "  </svg>\n",
              "      </button>\n",
              "      \n",
              "  <style>\n",
              "    .colab-df-container {\n",
              "      display:flex;\n",
              "      flex-wrap:wrap;\n",
              "      gap: 12px;\n",
              "    }\n",
              "\n",
              "    .colab-df-convert {\n",
              "      background-color: #E8F0FE;\n",
              "      border: none;\n",
              "      border-radius: 50%;\n",
              "      cursor: pointer;\n",
              "      display: none;\n",
              "      fill: #1967D2;\n",
              "      height: 32px;\n",
              "      padding: 0 0 0 0;\n",
              "      width: 32px;\n",
              "    }\n",
              "\n",
              "    .colab-df-convert:hover {\n",
              "      background-color: #E2EBFA;\n",
              "      box-shadow: 0px 1px 2px rgba(60, 64, 67, 0.3), 0px 1px 3px 1px rgba(60, 64, 67, 0.15);\n",
              "      fill: #174EA6;\n",
              "    }\n",
              "\n",
              "    [theme=dark] .colab-df-convert {\n",
              "      background-color: #3B4455;\n",
              "      fill: #D2E3FC;\n",
              "    }\n",
              "\n",
              "    [theme=dark] .colab-df-convert:hover {\n",
              "      background-color: #434B5C;\n",
              "      box-shadow: 0px 1px 3px 1px rgba(0, 0, 0, 0.15);\n",
              "      filter: drop-shadow(0px 1px 2px rgba(0, 0, 0, 0.3));\n",
              "      fill: #FFFFFF;\n",
              "    }\n",
              "  </style>\n",
              "\n",
              "      <script>\n",
              "        const buttonEl =\n",
              "          document.querySelector('#df-d5163d9a-06f5-4fce-b22d-08ec6527bb52 button.colab-df-convert');\n",
              "        buttonEl.style.display =\n",
              "          google.colab.kernel.accessAllowed ? 'block' : 'none';\n",
              "\n",
              "        async function convertToInteractive(key) {\n",
              "          const element = document.querySelector('#df-d5163d9a-06f5-4fce-b22d-08ec6527bb52');\n",
              "          const dataTable =\n",
              "            await google.colab.kernel.invokeFunction('convertToInteractive',\n",
              "                                                     [key], {});\n",
              "          if (!dataTable) return;\n",
              "\n",
              "          const docLinkHtml = 'Like what you see? Visit the ' +\n",
              "            '<a target=\"_blank\" href=https://colab.research.google.com/notebooks/data_table.ipynb>data table notebook</a>'\n",
              "            + ' to learn more about interactive tables.';\n",
              "          element.innerHTML = '';\n",
              "          dataTable['output_type'] = 'display_data';\n",
              "          await google.colab.output.renderOutput(dataTable, element);\n",
              "          const docLink = document.createElement('div');\n",
              "          docLink.innerHTML = docLinkHtml;\n",
              "          element.appendChild(docLink);\n",
              "        }\n",
              "      </script>\n",
              "    </div>\n",
              "  </div>\n",
              "  "
            ],
            "text/plain": [
              "                                              titles  ...                           terms\n",
              "0  Revealing the Field Sub-subgiant Population Us...  ...  ['astro-ph.SR', 'astro-ph.GA']\n",
              "1  ALMA detection of ethyl cyanide and methyl for...  ...                 ['astro-ph.GA']\n",
              "2  Accretion processes in the galaxy cluster Hydr...  ...  ['astro-ph.CO', 'astro-ph.GA']\n",
              "3  Radio astronomy locates the neutrino origin in...  ...  ['astro-ph.HE', 'astro-ph.GA']\n",
              "4  The extragalactic $γ$-ray background: imprints...  ...  ['astro-ph.GA', 'astro-ph.HE']\n",
              "\n",
              "[5 rows x 3 columns]"
            ]
          },
          "metadata": {},
          "execution_count": 34
        }
      ],
      "source": [
        "!pip install -U -q PyDrive\n",
        "from pydrive.auth import GoogleAuth\n",
        "from pydrive.drive import GoogleDrive\n",
        "from google.colab import auth\n",
        "from oauth2client.client import GoogleCredentials\n",
        "  \n",
        "# Authenticate and create the PyDrive client.\n",
        "auth.authenticate_user()\n",
        "gauth = GoogleAuth()\n",
        "gauth.credentials = GoogleCredentials.get_application_default()\n",
        "drive = GoogleDrive(gauth)\n",
        "\n",
        "\n",
        "link = 'https://drive.google.com/file/d/1_Qzhh4ycfWVSu_Umza8vuu92hQQXHkHC/view?usp=sharing'\n",
        "  \n",
        "# to get the id part of the file\n",
        "id = link.split(\"/\")[-2]\n",
        "  \n",
        "downloaded = drive.CreateFile({'id':id}) \n",
        "downloaded.GetContentFile('arxiv.csv')  \n",
        "  \n",
        "arxiv_data = pd.read_csv('arxiv.csv')\n",
        "arxiv_data.head()"
      ]
    },
    {
      "cell_type": "code",
      "execution_count": null,
      "metadata": {
        "id": "qFTnG0cpa_Bn"
      },
      "outputs": [],
      "source": [
        "arxiv_data_filtered = arxiv_data"
      ]
    },
    {
      "cell_type": "code",
      "execution_count": null,
      "metadata": {
        "id": "2xycg5Px3sCa"
      },
      "outputs": [],
      "source": [
        "# Transform raw string of labels into a list of string\n",
        "arxiv_data_filtered[\"terms\"] = arxiv_data_filtered[\"terms\"].apply(\n",
        "    lambda x: literal_eval(x)\n",
        ")"
      ]
    },
    {
      "cell_type": "code",
      "execution_count": null,
      "metadata": {
        "colab": {
          "base_uri": "https://localhost:8080/"
        },
        "id": "8CnyVAap65Au",
        "outputId": "9c00aa0d-6730-44c7-fd1d-c92dcfe17045"
      },
      "outputs": [
        {
          "output_type": "execute_result",
          "data": {
            "text/plain": [
              "['astro-ph.SR', 'astro-ph.GA']"
            ]
          },
          "metadata": {},
          "execution_count": 37
        }
      ],
      "source": [
        "arxiv_data_filtered[\"terms\"].values[0]"
      ]
    },
    {
      "cell_type": "code",
      "execution_count": null,
      "metadata": {
        "colab": {
          "base_uri": "https://localhost:8080/",
          "height": 206
        },
        "id": "zHhUtX-150nb",
        "outputId": "24f2b425-960c-4fc1-91e4-a95f9dab7075"
      },
      "outputs": [
        {
          "output_type": "execute_result",
          "data": {
            "text/html": [
              "\n",
              "  <div id=\"df-cbec181a-13b2-49ae-bfb8-5cffc633547c\">\n",
              "    <div class=\"colab-df-container\">\n",
              "      <div>\n",
              "<style scoped>\n",
              "    .dataframe tbody tr th:only-of-type {\n",
              "        vertical-align: middle;\n",
              "    }\n",
              "\n",
              "    .dataframe tbody tr th {\n",
              "        vertical-align: top;\n",
              "    }\n",
              "\n",
              "    .dataframe thead th {\n",
              "        text-align: right;\n",
              "    }\n",
              "</style>\n",
              "<table border=\"1\" class=\"dataframe\">\n",
              "  <thead>\n",
              "    <tr style=\"text-align: right;\">\n",
              "      <th></th>\n",
              "      <th>titles</th>\n",
              "      <th>summaries</th>\n",
              "      <th>terms</th>\n",
              "    </tr>\n",
              "  </thead>\n",
              "  <tbody>\n",
              "    <tr>\n",
              "      <th>0</th>\n",
              "      <td>Revealing the Field Sub-subgiant Population Us...</td>\n",
              "      <td>Sub-subgiant stars (SSGs) fall below the subgi...</td>\n",
              "      <td>[astro-ph.SR, astro-ph.GA]</td>\n",
              "    </tr>\n",
              "    <tr>\n",
              "      <th>1</th>\n",
              "      <td>ALMA detection of ethyl cyanide and methyl for...</td>\n",
              "      <td>In millimeter/submillimeter wavelength, the st...</td>\n",
              "      <td>[astro-ph.GA]</td>\n",
              "    </tr>\n",
              "    <tr>\n",
              "      <th>2</th>\n",
              "      <td>Accretion processes in the galaxy cluster Hydr...</td>\n",
              "      <td>Clusters of galaxies evolve and accrete mass, ...</td>\n",
              "      <td>[astro-ph.CO, astro-ph.GA]</td>\n",
              "    </tr>\n",
              "    <tr>\n",
              "      <th>3</th>\n",
              "      <td>Radio astronomy locates the neutrino origin in...</td>\n",
              "      <td>High-energy astrophysical neutrinos have been ...</td>\n",
              "      <td>[astro-ph.HE, astro-ph.GA]</td>\n",
              "    </tr>\n",
              "    <tr>\n",
              "      <th>4</th>\n",
              "      <td>The extragalactic $γ$-ray background: imprints...</td>\n",
              "      <td>Star-forming galaxies (SFGs) are expected to h...</td>\n",
              "      <td>[astro-ph.GA, astro-ph.HE]</td>\n",
              "    </tr>\n",
              "  </tbody>\n",
              "</table>\n",
              "</div>\n",
              "      <button class=\"colab-df-convert\" onclick=\"convertToInteractive('df-cbec181a-13b2-49ae-bfb8-5cffc633547c')\"\n",
              "              title=\"Convert this dataframe to an interactive table.\"\n",
              "              style=\"display:none;\">\n",
              "        \n",
              "  <svg xmlns=\"http://www.w3.org/2000/svg\" height=\"24px\"viewBox=\"0 0 24 24\"\n",
              "       width=\"24px\">\n",
              "    <path d=\"M0 0h24v24H0V0z\" fill=\"none\"/>\n",
              "    <path d=\"M18.56 5.44l.94 2.06.94-2.06 2.06-.94-2.06-.94-.94-2.06-.94 2.06-2.06.94zm-11 1L8.5 8.5l.94-2.06 2.06-.94-2.06-.94L8.5 2.5l-.94 2.06-2.06.94zm10 10l.94 2.06.94-2.06 2.06-.94-2.06-.94-.94-2.06-.94 2.06-2.06.94z\"/><path d=\"M17.41 7.96l-1.37-1.37c-.4-.4-.92-.59-1.43-.59-.52 0-1.04.2-1.43.59L10.3 9.45l-7.72 7.72c-.78.78-.78 2.05 0 2.83L4 21.41c.39.39.9.59 1.41.59.51 0 1.02-.2 1.41-.59l7.78-7.78 2.81-2.81c.8-.78.8-2.07 0-2.86zM5.41 20L4 18.59l7.72-7.72 1.47 1.35L5.41 20z\"/>\n",
              "  </svg>\n",
              "      </button>\n",
              "      \n",
              "  <style>\n",
              "    .colab-df-container {\n",
              "      display:flex;\n",
              "      flex-wrap:wrap;\n",
              "      gap: 12px;\n",
              "    }\n",
              "\n",
              "    .colab-df-convert {\n",
              "      background-color: #E8F0FE;\n",
              "      border: none;\n",
              "      border-radius: 50%;\n",
              "      cursor: pointer;\n",
              "      display: none;\n",
              "      fill: #1967D2;\n",
              "      height: 32px;\n",
              "      padding: 0 0 0 0;\n",
              "      width: 32px;\n",
              "    }\n",
              "\n",
              "    .colab-df-convert:hover {\n",
              "      background-color: #E2EBFA;\n",
              "      box-shadow: 0px 1px 2px rgba(60, 64, 67, 0.3), 0px 1px 3px 1px rgba(60, 64, 67, 0.15);\n",
              "      fill: #174EA6;\n",
              "    }\n",
              "\n",
              "    [theme=dark] .colab-df-convert {\n",
              "      background-color: #3B4455;\n",
              "      fill: #D2E3FC;\n",
              "    }\n",
              "\n",
              "    [theme=dark] .colab-df-convert:hover {\n",
              "      background-color: #434B5C;\n",
              "      box-shadow: 0px 1px 3px 1px rgba(0, 0, 0, 0.15);\n",
              "      filter: drop-shadow(0px 1px 2px rgba(0, 0, 0, 0.3));\n",
              "      fill: #FFFFFF;\n",
              "    }\n",
              "  </style>\n",
              "\n",
              "      <script>\n",
              "        const buttonEl =\n",
              "          document.querySelector('#df-cbec181a-13b2-49ae-bfb8-5cffc633547c button.colab-df-convert');\n",
              "        buttonEl.style.display =\n",
              "          google.colab.kernel.accessAllowed ? 'block' : 'none';\n",
              "\n",
              "        async function convertToInteractive(key) {\n",
              "          const element = document.querySelector('#df-cbec181a-13b2-49ae-bfb8-5cffc633547c');\n",
              "          const dataTable =\n",
              "            await google.colab.kernel.invokeFunction('convertToInteractive',\n",
              "                                                     [key], {});\n",
              "          if (!dataTable) return;\n",
              "\n",
              "          const docLinkHtml = 'Like what you see? Visit the ' +\n",
              "            '<a target=\"_blank\" href=https://colab.research.google.com/notebooks/data_table.ipynb>data table notebook</a>'\n",
              "            + ' to learn more about interactive tables.';\n",
              "          element.innerHTML = '';\n",
              "          dataTable['output_type'] = 'display_data';\n",
              "          await google.colab.output.renderOutput(dataTable, element);\n",
              "          const docLink = document.createElement('div');\n",
              "          docLink.innerHTML = docLinkHtml;\n",
              "          element.appendChild(docLink);\n",
              "        }\n",
              "      </script>\n",
              "    </div>\n",
              "  </div>\n",
              "  "
            ],
            "text/plain": [
              "                                              titles  ...                       terms\n",
              "0  Revealing the Field Sub-subgiant Population Us...  ...  [astro-ph.SR, astro-ph.GA]\n",
              "1  ALMA detection of ethyl cyanide and methyl for...  ...               [astro-ph.GA]\n",
              "2  Accretion processes in the galaxy cluster Hydr...  ...  [astro-ph.CO, astro-ph.GA]\n",
              "3  Radio astronomy locates the neutrino origin in...  ...  [astro-ph.HE, astro-ph.GA]\n",
              "4  The extragalactic $γ$-ray background: imprints...  ...  [astro-ph.GA, astro-ph.HE]\n",
              "\n",
              "[5 rows x 3 columns]"
            ]
          },
          "metadata": {},
          "execution_count": 38
        }
      ],
      "source": [
        "arxiv_data_filtered.head()"
      ]
    },
    {
      "cell_type": "code",
      "execution_count": null,
      "metadata": {
        "colab": {
          "base_uri": "https://localhost:8080/",
          "height": 175
        },
        "id": "o0pYq3CAo5VU",
        "outputId": "f25371dd-ca21-4e35-8bc8-b95d6854cbc6"
      },
      "outputs": [
        {
          "output_type": "execute_result",
          "data": {
            "text/html": [
              "\n",
              "  <div id=\"df-2819277d-4ae2-424f-9aa9-170a69c1c0d7\">\n",
              "    <div class=\"colab-df-container\">\n",
              "      <div>\n",
              "<style scoped>\n",
              "    .dataframe tbody tr th:only-of-type {\n",
              "        vertical-align: middle;\n",
              "    }\n",
              "\n",
              "    .dataframe tbody tr th {\n",
              "        vertical-align: top;\n",
              "    }\n",
              "\n",
              "    .dataframe thead th {\n",
              "        text-align: right;\n",
              "    }\n",
              "</style>\n",
              "<table border=\"1\" class=\"dataframe\">\n",
              "  <thead>\n",
              "    <tr style=\"text-align: right;\">\n",
              "      <th></th>\n",
              "      <th>titles</th>\n",
              "      <th>summaries</th>\n",
              "      <th>terms</th>\n",
              "    </tr>\n",
              "  </thead>\n",
              "  <tbody>\n",
              "    <tr>\n",
              "      <th>count</th>\n",
              "      <td>43539</td>\n",
              "      <td>43539</td>\n",
              "      <td>43539</td>\n",
              "    </tr>\n",
              "    <tr>\n",
              "      <th>unique</th>\n",
              "      <td>33062</td>\n",
              "      <td>33077</td>\n",
              "      <td>130</td>\n",
              "    </tr>\n",
              "    <tr>\n",
              "      <th>top</th>\n",
              "      <td>VLBI20-30: a scientific roadmap for the next d...</td>\n",
              "      <td>This white paper describes the science case fo...</td>\n",
              "      <td>[astro-ph.GA]</td>\n",
              "    </tr>\n",
              "    <tr>\n",
              "      <th>freq</th>\n",
              "      <td>6</td>\n",
              "      <td>6</td>\n",
              "      <td>4639</td>\n",
              "    </tr>\n",
              "  </tbody>\n",
              "</table>\n",
              "</div>\n",
              "      <button class=\"colab-df-convert\" onclick=\"convertToInteractive('df-2819277d-4ae2-424f-9aa9-170a69c1c0d7')\"\n",
              "              title=\"Convert this dataframe to an interactive table.\"\n",
              "              style=\"display:none;\">\n",
              "        \n",
              "  <svg xmlns=\"http://www.w3.org/2000/svg\" height=\"24px\"viewBox=\"0 0 24 24\"\n",
              "       width=\"24px\">\n",
              "    <path d=\"M0 0h24v24H0V0z\" fill=\"none\"/>\n",
              "    <path d=\"M18.56 5.44l.94 2.06.94-2.06 2.06-.94-2.06-.94-.94-2.06-.94 2.06-2.06.94zm-11 1L8.5 8.5l.94-2.06 2.06-.94-2.06-.94L8.5 2.5l-.94 2.06-2.06.94zm10 10l.94 2.06.94-2.06 2.06-.94-2.06-.94-.94-2.06-.94 2.06-2.06.94z\"/><path d=\"M17.41 7.96l-1.37-1.37c-.4-.4-.92-.59-1.43-.59-.52 0-1.04.2-1.43.59L10.3 9.45l-7.72 7.72c-.78.78-.78 2.05 0 2.83L4 21.41c.39.39.9.59 1.41.59.51 0 1.02-.2 1.41-.59l7.78-7.78 2.81-2.81c.8-.78.8-2.07 0-2.86zM5.41 20L4 18.59l7.72-7.72 1.47 1.35L5.41 20z\"/>\n",
              "  </svg>\n",
              "      </button>\n",
              "      \n",
              "  <style>\n",
              "    .colab-df-container {\n",
              "      display:flex;\n",
              "      flex-wrap:wrap;\n",
              "      gap: 12px;\n",
              "    }\n",
              "\n",
              "    .colab-df-convert {\n",
              "      background-color: #E8F0FE;\n",
              "      border: none;\n",
              "      border-radius: 50%;\n",
              "      cursor: pointer;\n",
              "      display: none;\n",
              "      fill: #1967D2;\n",
              "      height: 32px;\n",
              "      padding: 0 0 0 0;\n",
              "      width: 32px;\n",
              "    }\n",
              "\n",
              "    .colab-df-convert:hover {\n",
              "      background-color: #E2EBFA;\n",
              "      box-shadow: 0px 1px 2px rgba(60, 64, 67, 0.3), 0px 1px 3px 1px rgba(60, 64, 67, 0.15);\n",
              "      fill: #174EA6;\n",
              "    }\n",
              "\n",
              "    [theme=dark] .colab-df-convert {\n",
              "      background-color: #3B4455;\n",
              "      fill: #D2E3FC;\n",
              "    }\n",
              "\n",
              "    [theme=dark] .colab-df-convert:hover {\n",
              "      background-color: #434B5C;\n",
              "      box-shadow: 0px 1px 3px 1px rgba(0, 0, 0, 0.15);\n",
              "      filter: drop-shadow(0px 1px 2px rgba(0, 0, 0, 0.3));\n",
              "      fill: #FFFFFF;\n",
              "    }\n",
              "  </style>\n",
              "\n",
              "      <script>\n",
              "        const buttonEl =\n",
              "          document.querySelector('#df-2819277d-4ae2-424f-9aa9-170a69c1c0d7 button.colab-df-convert');\n",
              "        buttonEl.style.display =\n",
              "          google.colab.kernel.accessAllowed ? 'block' : 'none';\n",
              "\n",
              "        async function convertToInteractive(key) {\n",
              "          const element = document.querySelector('#df-2819277d-4ae2-424f-9aa9-170a69c1c0d7');\n",
              "          const dataTable =\n",
              "            await google.colab.kernel.invokeFunction('convertToInteractive',\n",
              "                                                     [key], {});\n",
              "          if (!dataTable) return;\n",
              "\n",
              "          const docLinkHtml = 'Like what you see? Visit the ' +\n",
              "            '<a target=\"_blank\" href=https://colab.research.google.com/notebooks/data_table.ipynb>data table notebook</a>'\n",
              "            + ' to learn more about interactive tables.';\n",
              "          element.innerHTML = '';\n",
              "          dataTable['output_type'] = 'display_data';\n",
              "          await google.colab.output.renderOutput(dataTable, element);\n",
              "          const docLink = document.createElement('div');\n",
              "          docLink.innerHTML = docLinkHtml;\n",
              "          element.appendChild(docLink);\n",
              "        }\n",
              "      </script>\n",
              "    </div>\n",
              "  </div>\n",
              "  "
            ],
            "text/plain": [
              "                                                   titles  ...          terms\n",
              "count                                               43539  ...          43539\n",
              "unique                                              33062  ...            130\n",
              "top     VLBI20-30: a scientific roadmap for the next d...  ...  [astro-ph.GA]\n",
              "freq                                                    6  ...           4639\n",
              "\n",
              "[4 rows x 3 columns]"
            ]
          },
          "metadata": {},
          "execution_count": 39
        }
      ],
      "source": [
        "arxiv_data_filtered.describe()"
      ]
    },
    {
      "cell_type": "code",
      "execution_count": null,
      "metadata": {
        "colab": {
          "base_uri": "https://localhost:8080/"
        },
        "id": "QFlwSZPopHVz",
        "outputId": "7f5de7e2-0e17-443f-a342-267dcf6a84a0"
      },
      "outputs": [
        {
          "output_type": "stream",
          "name": "stdout",
          "text": [
            "Số dữ liệu trùng lặp: 10477\n"
          ]
        }
      ],
      "source": [
        "duplicated_titles = arxiv_data_filtered[\"titles\"].duplicated().sum()\n",
        "print(\"Số dữ liệu trùng lặp:\", duplicated_titles)"
      ]
    },
    {
      "cell_type": "code",
      "execution_count": null,
      "metadata": {
        "colab": {
          "base_uri": "https://localhost:8080/"
        },
        "id": "qtyOy4cppRkf",
        "outputId": "a69aa691-0205-429c-82e3-c88386028ee5"
      },
      "outputs": [
        {
          "output_type": "stream",
          "name": "stdout",
          "text": [
            "Số dữ liệu sau khi lọc: 33062\n"
          ]
        }
      ],
      "source": [
        "arxiv_data_filtered = arxiv_data_filtered[~arxiv_data_filtered[\"titles\"].duplicated()]\n",
        "data_after_filtered = len(arxiv_data_filtered)\n",
        "print(\"Số dữ liệu sau khi lọc:\", data_after_filtered)"
      ]
    },
    {
      "cell_type": "markdown",
      "metadata": {
        "id": "a5Dw3XM7BciC"
      },
      "source": [
        "#Pre-processing data"
      ]
    },
    {
      "cell_type": "code",
      "execution_count": null,
      "metadata": {
        "id": "W3Vsvfu28OEy"
      },
      "outputs": [],
      "source": [
        "def clean_text(text):\n",
        "  # remove new line characters\n",
        "  text = re.sub(r\"\\n\", \" \", text)\n",
        "  # remove email\n",
        "  text = re.sub(r\"([A-Za-z0-9_.+-]+@[A-Za-z0-9-]+\\.?[A-Za-z0-9-.]+)\", \"\", text)\n",
        "  # remove url\n",
        "  text = re.sub(r\"((http|https)\\:\\/\\/)?[a-zA-Z0-9\\.\\/\\?\\:@\\-_=#]+\\.([a-zA-Z]){2,6}([a-zA-Z0-9\\.\\&\\/\\?\\:@\\-_=#])*\", \"\", text)\n",
        "  # remove punctuation\n",
        "  text = re.sub(f'[{re.escape(string.punctuation)}]', ' ', text)\n",
        "  # remove words including numbers\n",
        "  text = re.sub(r\"\\w*\\d\\w*\", \"\", text)\n",
        "  # replace multiple whitespace by one whitespace\n",
        "  text = re.sub(r\"\\s+\", \" \", text)\n",
        "  # lower all text\n",
        "  text = text.lower()\n",
        "  # strip all text\n",
        "  text = text.strip()\n",
        "  return text"
      ]
    },
    {
      "cell_type": "code",
      "execution_count": null,
      "metadata": {
        "id": "TCeCRZYR8aRU"
      },
      "outputs": [],
      "source": [
        "def remove_stopwords(text):\n",
        "  stop_words = stopwords.words('english')\n",
        "  cleaned_text = []\n",
        "  # turn text to a list of words\n",
        "  word_list = text.split()\n",
        "  for word in word_list:\n",
        "    if word not in stop_words:\n",
        "      cleaned_text.append(word)\n",
        "  return ' '.join(cleaned_text)"
      ]
    },
    {
      "cell_type": "code",
      "execution_count": null,
      "metadata": {
        "id": "_7I8EI_j8b41"
      },
      "outputs": [],
      "source": [
        "def lemmatize_text(text):\n",
        "  wnl = WordNetLemmatizer()\n",
        "  pos_text = pos_tag(word_tokenize(text))\n",
        "  cleaned_text = []\n",
        "  for word, tag in pos_text:\n",
        "    wntag = tag[0].lower()\n",
        "    wntag = wntag if wntag in ['a', 'r', 'n', 'v'] else None\n",
        "    if not wntag:\n",
        "      lem_word = word\n",
        "    else:\n",
        "      lem_word = wnl.lemmatize(word, wntag)\n",
        "    cleaned_text.append(lem_word)\n",
        "  return ' '.join(cleaned_text)"
      ]
    },
    {
      "cell_type": "code",
      "execution_count": null,
      "metadata": {
        "id": "cBZupUfw8fFk",
        "colab": {
          "base_uri": "https://localhost:8080/"
        },
        "outputId": "21f20012-10f2-482a-bf48-4e9f19866ac0"
      },
      "outputs": [
        {
          "output_type": "stream",
          "name": "stderr",
          "text": [
            "/usr/local/lib/python3.7/dist-packages/ipykernel_launcher.py:1: SettingWithCopyWarning: \n",
            "A value is trying to be set on a copy of a slice from a DataFrame.\n",
            "Try using .loc[row_indexer,col_indexer] = value instead\n",
            "\n",
            "See the caveats in the documentation: https://pandas.pydata.org/pandas-docs/stable/user_guide/indexing.html#returning-a-view-versus-a-copy\n",
            "  \"\"\"Entry point for launching an IPython kernel.\n",
            "/usr/local/lib/python3.7/dist-packages/ipykernel_launcher.py:2: SettingWithCopyWarning: \n",
            "A value is trying to be set on a copy of a slice from a DataFrame.\n",
            "Try using .loc[row_indexer,col_indexer] = value instead\n",
            "\n",
            "See the caveats in the documentation: https://pandas.pydata.org/pandas-docs/stable/user_guide/indexing.html#returning-a-view-versus-a-copy\n",
            "  \n",
            "/usr/local/lib/python3.7/dist-packages/ipykernel_launcher.py:3: SettingWithCopyWarning: \n",
            "A value is trying to be set on a copy of a slice from a DataFrame.\n",
            "Try using .loc[row_indexer,col_indexer] = value instead\n",
            "\n",
            "See the caveats in the documentation: https://pandas.pydata.org/pandas-docs/stable/user_guide/indexing.html#returning-a-view-versus-a-copy\n",
            "  This is separate from the ipykernel package so we can avoid doing imports until\n"
          ]
        },
        {
          "output_type": "execute_result",
          "data": {
            "text/plain": [
              "0        sub subgiant star ssgs fall subgiant branch re...\n",
              "1        millimeter submillimeter wavelength study comp...\n",
              "2        cluster galaxy evolve accrete mass mostly smal...\n",
              "3        high energy astrophysical neutrino observe sev...\n",
              "4        star form galaxy sfgs expect harbour abundant ...\n",
              "                               ...                        \n",
              "43532    investigate formation process galactic globula...\n",
              "43535    non local thermodynamic equilibrium nlte level...\n",
              "43536    recent study flare loop oscillation event dece...\n",
              "43537    perform comprehensive study stellar population...\n",
              "43538    study basic property three possible r process ...\n",
              "Name: summaries, Length: 33062, dtype: object"
            ]
          },
          "metadata": {},
          "execution_count": 14
        }
      ],
      "source": [
        "arxiv_data_filtered['summaries'] = arxiv_data_filtered['summaries'].apply(clean_text)\n",
        "arxiv_data_filtered['summaries'] = arxiv_data_filtered['summaries'].apply(remove_stopwords)\n",
        "arxiv_data_filtered['summaries'] = arxiv_data_filtered['summaries'].apply(lemmatize_text)\n",
        "arxiv_data_filtered['summaries']"
      ]
    },
    {
      "cell_type": "code",
      "execution_count": null,
      "metadata": {
        "id": "NKYRTOBmA4rv",
        "colab": {
          "base_uri": "https://localhost:8080/",
          "height": 140
        },
        "outputId": "a10e2a43-3393-4a77-8ca8-21a87e176b06"
      },
      "outputs": [
        {
          "output_type": "execute_result",
          "data": {
            "application/vnd.google.colaboratory.intrinsic+json": {
              "type": "string"
            },
            "text/plain": [
              "'high energy astrophysical neutrino observe several telescope last decade source still remain unknown address problem locate astrophysical neutrino source statistical manner show blazars positionally associate icecube neutrino detection stronger parsec scale radio core rest sample probability chance coincidence correspond significance sigma explicitly list four strong radio blazars highly probable source neutrinos tev nrao pks pks least radio bright blazars emit neutrino lower energy start tevs use continuous ratan monitoring vlbi select blazars find radio flare frequency ghz coincide neutrino arrival date pronounce example behavior pks experience major flare demonstrate majority icecube astrophysical neutrino flux derive muon track analysis may explain blazars agns bright doppler boost jet high energy neutrino produce photohadronic interaction within parsec scale relativistic jet radio bright blazars associate neutrino detection diverse gamma ray property suggest gamma ray neutrino may produce different region blazars directly relate narrow jet view angle however require detect either conclude discussion recent independent test extension finding'"
            ]
          },
          "metadata": {},
          "execution_count": 15
        }
      ],
      "source": [
        "arxiv_data_filtered[\"summaries\"][3]"
      ]
    },
    {
      "cell_type": "markdown",
      "metadata": {
        "id": "1WnF-kacBrNd"
      },
      "source": [
        "#Visualization data"
      ]
    },
    {
      "cell_type": "code",
      "execution_count": null,
      "metadata": {
        "id": "Q4u27uATbO6-"
      },
      "outputs": [],
      "source": [
        "all_terms = sum(arxiv_data_filtered[\"terms\"],[])\n",
        "all_terms = nltk.FreqDist(all_terms) \n",
        "# # create dataframe\n",
        "all_terms_df = pd.DataFrame({'Term': list(all_terms.keys()), \n",
        "                              'Count': list(all_terms.values())})"
      ]
    },
    {
      "cell_type": "code",
      "execution_count": null,
      "metadata": {
        "id": "IYks-JapbQeE",
        "colab": {
          "base_uri": "https://localhost:8080/"
        },
        "outputId": "49c9a999-d61c-4f1a-f0dc-64151dd5aa74"
      },
      "outputs": [
        {
          "output_type": "stream",
          "name": "stdout",
          "text": [
            "          Term  Count\n",
            "2  astro-ph.CO   4842\n",
            "4  astro-ph.IM   6782\n",
            "3  astro-ph.HE   6888\n",
            "5  astro-ph.EP   8464\n",
            "0  astro-ph.SR   9443\n",
            "1  astro-ph.GA  10854\n"
          ]
        }
      ],
      "source": [
        "print(all_terms_df.sort_values(by = ['Count']))"
      ]
    },
    {
      "cell_type": "code",
      "execution_count": null,
      "metadata": {
        "id": "nUZoc3HhpyOQ",
        "colab": {
          "base_uri": "https://localhost:8080/",
          "height": 332
        },
        "outputId": "a237b931-3324-4f10-c8ca-8faf932fc045"
      },
      "outputs": [
        {
          "output_type": "display_data",
          "data": {
            "image/png": "[encoded data removed]",
            "text/plain": [
              "<Figure size 1440x360 with 1 Axes>"
            ]
          },
          "metadata": {
            "needs_background": "light"
          }
        }
      ],
      "source": [
        "g = all_terms_df.sort_values(by = ['Count'])\n",
        "plt.figure(figsize=(20,5)) \n",
        "ax = sns.barplot(data=g, y= \"Count\", x = \"Term\") \n",
        "plt.show()"
      ]
    },
    {
      "cell_type": "code",
      "execution_count": null,
      "metadata": {
        "id": "Q6m08xqIbd0B",
        "colab": {
          "base_uri": "https://localhost:8080/"
        },
        "outputId": "82fa6358-8f9c-4208-c7e6-1bf1e2ed3fe2"
      },
      "outputs": [
        {
          "output_type": "stream",
          "name": "stdout",
          "text": [
            "[astro-ph.EP]                 4571\n",
            "[astro-ph.HE]                 3559\n",
            "[astro-ph.SR]                 3062\n",
            "[astro-ph.IM]                 2832\n",
            "[astro-ph.CO]                 2258\n",
            "[astro-ph.EP, astro-ph.SR]    1241\n",
            "[astro-ph.SR, astro-ph.GA]    1026\n",
            "[astro-ph.GA, astro-ph.CO]     913\n",
            "[astro-ph.GA, astro-ph.SR]     752\n",
            "[astro-ph.SR, astro-ph.EP]     680\n",
            "[astro-ph.HE, astro-ph.GA]     554\n",
            "[astro-ph.CO, astro-ph.GA]     541\n",
            "[astro-ph.EP, astro-ph.IM]     492\n",
            "[astro-ph.HE, astro-ph.SR]     448\n",
            "[astro-ph.GA, astro-ph.HE]     417\n",
            "[astro-ph.IM, astro-ph.HE]     405\n",
            "[astro-ph.IM, astro-ph.EP]     358\n",
            "[astro-ph.SR, astro-ph.HE]     357\n",
            "[astro-ph.HE, astro-ph.IM]     331\n",
            "Name: terms, dtype: int64\n"
          ]
        }
      ],
      "source": [
        "print((arxiv_data_filtered[\"terms\"].value_counts()[1:20]))"
      ]
    },
    {
      "cell_type": "markdown",
      "metadata": {
        "id": "rRgbs3xjIHqy"
      },
      "source": [
        "#Binary Relevance"
      ]
    },
    {
      "cell_type": "markdown",
      "metadata": {
        "id": "nA5E3oZqI3LU"
      },
      "source": [
        "##Train the model\n",
        "*Vectorizer by TFIDF*"
      ]
    },
    {
      "cell_type": "markdown",
      "source": [
        "###Split and vectorizer by Tfidf"
      ],
      "metadata": {
        "id": "hxhIpHExKYIQ"
      }
    },
    {
      "cell_type": "code",
      "execution_count": null,
      "metadata": {
        "id": "ggAleqD6bf5J"
      },
      "outputs": [],
      "source": [
        "mlb = MultiLabelBinarizer()\n",
        "labels = mlb.fit_transform(arxiv_data_filtered.terms)"
      ]
    },
    {
      "cell_type": "code",
      "execution_count": null,
      "metadata": {
        "id": "A1qNbLcpnZHJ"
      },
      "outputs": [],
      "source": [
        "vocab = list(mlb.classes_)"
      ]
    },
    {
      "cell_type": "code",
      "execution_count": null,
      "metadata": {
        "id": "S5_w4xbHGN14"
      },
      "outputs": [],
      "source": [
        "X_train, X_test, y_train, y_test = train_test_split(\n",
        "    arxiv_data_filtered['summaries'],\n",
        "    labels,\n",
        "    test_size = 0.2,\n",
        "    )"
      ]
    },
    {
      "cell_type": "code",
      "execution_count": null,
      "metadata": {
        "id": "sIdkHzCmmjTT",
        "colab": {
          "base_uri": "https://localhost:8080/"
        },
        "outputId": "ee64ed43-3865-4d6c-bdec-0b2816733b07"
      },
      "outputs": [
        {
          "output_type": "stream",
          "name": "stdout",
          "text": [
            "(26449,)\n",
            "(6613,)\n",
            "(26449, 6)\n",
            "(6613, 6)\n"
          ]
        }
      ],
      "source": [
        "print(X_train.shape)\n",
        "print(X_test.shape)\n",
        "print(y_train.shape)\n",
        "print(y_test.shape)"
      ]
    },
    {
      "cell_type": "code",
      "execution_count": null,
      "metadata": {
        "id": "DWeK7Dmkml9o"
      },
      "outputs": [],
      "source": [
        "vectorizer = TfidfVectorizer()\n",
        "vectorizer.fit(X_train)\n",
        "vectorizer.fit(X_test)\n",
        "X_train_vector = vectorizer.transform(X_train)\n",
        "X_test_vector = vectorizer.transform(X_test)"
      ]
    },
    {
      "cell_type": "markdown",
      "metadata": {
        "id": "UQvcdGumAFxh"
      },
      "source": [
        "###Train the model with MultinomialNB and evaluate "
      ]
    },
    {
      "cell_type": "code",
      "execution_count": null,
      "metadata": {
        "id": "U7ioM9YwtLqO",
        "colab": {
          "base_uri": "https://localhost:8080/"
        },
        "outputId": "aa5b7062-6868-459f-aa84-dab0d94f7210"
      },
      "outputs": [
        {
          "output_type": "execute_result",
          "data": {
            "text/plain": [
              "BinaryRelevance(classifier=MultinomialNB(), require_dense=[True, True])"
            ]
          },
          "metadata": {},
          "execution_count": 25
        }
      ],
      "source": [
        "# initialize binary relevance multi-label classifier\n",
        "# with a multinomial naive bayes base classifier\n",
        "model = BinaryRelevance(MultinomialNB())\n",
        "\n",
        "model.fit(X_train_vector, y_train)"
      ]
    },
    {
      "cell_type": "code",
      "execution_count": null,
      "metadata": {
        "id": "k-M24UfwnHSt"
      },
      "outputs": [],
      "source": [
        "y_pred_prob = model.predict_proba(X_test_vector)\n",
        "y_pred_prob = y_pred_prob.toarray()"
      ]
    },
    {
      "cell_type": "code",
      "source": [
        "print(y_pred_prob.shape)"
      ],
      "metadata": {
        "id": "YN0tzMYC2tgz",
        "colab": {
          "base_uri": "https://localhost:8080/"
        },
        "outputId": "3ef3fc2f-cf81-4f77-c6b9-44d05dc3ff14"
      },
      "execution_count": null,
      "outputs": [
        {
          "output_type": "stream",
          "name": "stdout",
          "text": [
            "(6613, 6)\n"
          ]
        }
      ]
    },
    {
      "cell_type": "code",
      "execution_count": null,
      "metadata": {
        "id": "31-EZu--necO"
      },
      "outputs": [],
      "source": [
        "def get_y_pred(y_pred_prob, k=3, threshold=0.5):\n",
        "    y_pred = []\n",
        "    for pred in y_pred_prob:\n",
        "        top_k_labels = [\n",
        "            x\n",
        "            for _,x in sorted(\n",
        "                zip(pred, vocab),\n",
        "                key=lambda pair: pair[0],\n",
        "                reverse=True,\n",
        "            )\n",
        "        ][:k]\n",
        "        y_top_k_labels = np.zeros(y_pred_prob[0].shape[0])\n",
        "        for j in range(len(vocab)):\n",
        "            if(vocab[j] in top_k_labels):\n",
        "                if(pred[j] > threshold):\n",
        "                    y_top_k_labels[j] = 1\n",
        "                else:\n",
        "                    top_k_labels.remove(vocab[j])\n",
        "        y_pred.append(y_top_k_labels)\n",
        "    y_pred = np.array(y_pred)   \n",
        "    return y_pred\n"
      ]
    },
    {
      "cell_type": "code",
      "execution_count": null,
      "metadata": {
        "id": "hVhsN7Z_nhUo",
        "colab": {
          "base_uri": "https://localhost:8080/"
        },
        "outputId": "5f380304-9768-4514-e812-c9b2ad56f4c9"
      },
      "outputs": [
        {
          "output_type": "stream",
          "name": "stdout",
          "text": [
            "Exact Match Radio accuracy on the test set: 57.33% - with k = 1 and threshold = 0.1\n",
            "Exact Match Radio accuracy on the test set: 57.16% - with k = 1 and threshold = 0.2\n",
            "Exact Match Radio accuracy on the test set: 56.74% - with k = 1 and threshold = 0.30000000000000004\n",
            "Exact Match Radio accuracy on the test set: 55.33% - with k = 1 and threshold = 0.4\n",
            "Exact Match Radio accuracy on the test set: 53.46% - with k = 1 and threshold = 0.5\n",
            "Exact Match Radio accuracy on the test set: 50.6% - with k = 1 and threshold = 0.6\n",
            "Exact Match Radio accuracy on the test set: 46.29% - with k = 1 and threshold = 0.7000000000000001\n",
            "Exact Match Radio accuracy on the test set: 40.12% - with k = 1 and threshold = 0.8\n",
            "Exact Match Radio accuracy on the test set: 37.88% - with k = 2 and threshold = 0.1\n",
            "Exact Match Radio accuracy on the test set: 51.75% - with k = 2 and threshold = 0.2\n",
            "Exact Match Radio accuracy on the test set: 57.86% - with k = 2 and threshold = 0.30000000000000004\n",
            "Exact Match Radio accuracy on the test set: 59.17% - with k = 2 and threshold = 0.4\n",
            "Exact Match Radio accuracy on the test set: 57.54% - with k = 2 and threshold = 0.5\n",
            "Exact Match Radio accuracy on the test set: 54.21% - with k = 2 and threshold = 0.6\n",
            "Exact Match Radio accuracy on the test set: 48.57% - with k = 2 and threshold = 0.7000000000000001\n",
            "Exact Match Radio accuracy on the test set: 41.04% - with k = 2 and threshold = 0.8\n",
            "Exact Match Radio accuracy on the test set: 33.22% - with k = 3 and threshold = 0.1\n",
            "Exact Match Radio accuracy on the test set: 50.75% - with k = 3 and threshold = 0.2\n",
            "Exact Match Radio accuracy on the test set: 57.72% - with k = 3 and threshold = 0.30000000000000004\n",
            "Exact Match Radio accuracy on the test set: 59.4% - with k = 3 and threshold = 0.4\n",
            "Exact Match Radio accuracy on the test set: 57.6% - with k = 3 and threshold = 0.5\n",
            "Exact Match Radio accuracy on the test set: 54.27% - with k = 3 and threshold = 0.6\n",
            "Exact Match Radio accuracy on the test set: 48.59% - with k = 3 and threshold = 0.7000000000000001\n",
            "Exact Match Radio accuracy on the test set: 41.04% - with k = 3 and threshold = 0.8\n",
            "Exact Match Radio accuracy on the test set: 33.09% - with k = 4 and threshold = 0.1\n",
            "Exact Match Radio accuracy on the test set: 50.75% - with k = 4 and threshold = 0.2\n",
            "Exact Match Radio accuracy on the test set: 57.72% - with k = 4 and threshold = 0.30000000000000004\n",
            "Exact Match Radio accuracy on the test set: 59.4% - with k = 4 and threshold = 0.4\n",
            "Exact Match Radio accuracy on the test set: 57.6% - with k = 4 and threshold = 0.5\n",
            "Exact Match Radio accuracy on the test set: 54.27% - with k = 4 and threshold = 0.6\n",
            "Exact Match Radio accuracy on the test set: 48.59% - with k = 4 and threshold = 0.7000000000000001\n",
            "Exact Match Radio accuracy on the test set: 41.04% - with k = 4 and threshold = 0.8\n",
            "Exact Match Radio accuracy on the test set: 33.09% - with k = 5 and threshold = 0.1\n",
            "Exact Match Radio accuracy on the test set: 50.75% - with k = 5 and threshold = 0.2\n",
            "Exact Match Radio accuracy on the test set: 57.72% - with k = 5 and threshold = 0.30000000000000004\n",
            "Exact Match Radio accuracy on the test set: 59.4% - with k = 5 and threshold = 0.4\n",
            "Exact Match Radio accuracy on the test set: 57.6% - with k = 5 and threshold = 0.5\n",
            "Exact Match Radio accuracy on the test set: 54.27% - with k = 5 and threshold = 0.6\n",
            "Exact Match Radio accuracy on the test set: 48.59% - with k = 5 and threshold = 0.7000000000000001\n",
            "Exact Match Radio accuracy on the test set: 41.04% - with k = 5 and threshold = 0.8\n",
            "Exact Match Radio accuracy on the test set: 33.09% - with k = 6 and threshold = 0.1\n",
            "Exact Match Radio accuracy on the test set: 50.75% - with k = 6 and threshold = 0.2\n",
            "Exact Match Radio accuracy on the test set: 57.72% - with k = 6 and threshold = 0.30000000000000004\n",
            "Exact Match Radio accuracy on the test set: 59.4% - with k = 6 and threshold = 0.4\n",
            "Exact Match Radio accuracy on the test set: 57.6% - with k = 6 and threshold = 0.5\n",
            "Exact Match Radio accuracy on the test set: 54.27% - with k = 6 and threshold = 0.6\n",
            "Exact Match Radio accuracy on the test set: 48.59% - with k = 6 and threshold = 0.7000000000000001\n",
            "Exact Match Radio accuracy on the test set: 41.04% - with k = 6 and threshold = 0.8\n"
          ]
        }
      ],
      "source": [
        "for k in range(1,7):\n",
        "    for threshold in np.arange(0.1,0.9,0.1):\n",
        "        y_pred = get_y_pred(y_pred_prob, k, threshold)\n",
        "        from sklearn.metrics import accuracy_score\n",
        "        acc = accuracy_score(y_test, y_pred)\n",
        "        print(f\"Exact Match Radio accuracy on the test set: {round(acc * 100, 2)}% - with k = {k} and threshold = {threshold}\")"
      ]
    },
    {
      "cell_type": "code",
      "execution_count": null,
      "metadata": {
        "id": "fhoQ_C8_y50-",
        "colab": {
          "base_uri": "https://localhost:8080/"
        },
        "outputId": "c1d5346f-2570-4dc0-89ae-b3c4f4a69034"
      },
      "outputs": [
        {
          "output_type": "stream",
          "name": "stdout",
          "text": [
            "multilabel_confusion_matrix_of: astro-ph.CO\n",
            "[[5676    8]\n",
            " [ 578  351]]\n",
            "\n",
            "multilabel_confusion_matrix_of: astro-ph.EP\n",
            "[[4848   18]\n",
            " [ 503 1244]]\n",
            "\n",
            "multilabel_confusion_matrix_of: astro-ph.GA\n",
            "[[4426   49]\n",
            " [ 918 1220]]\n",
            "\n",
            "multilabel_confusion_matrix_of: astro-ph.HE\n",
            "[[5191   13]\n",
            " [ 741  668]]\n",
            "\n",
            "multilabel_confusion_matrix_of: astro-ph.IM\n",
            "[[5206   55]\n",
            " [ 612  740]]\n",
            "\n",
            "multilabel_confusion_matrix_of: astro-ph.SR\n",
            "[[4636   37]\n",
            " [1234  706]]\n",
            "\n"
          ]
        }
      ],
      "source": [
        "y_pred = get_y_pred(y_pred_prob, k=2, threshold=0.7)\n",
        "m = multilabel_confusion_matrix(y_test, y_pred)\n",
        "\n",
        "for i in range(0,len(m)):\n",
        "    print(\"multilabel_confusion_matrix_of: \"+vocab[i])\n",
        "    print(m[i])\n",
        "    print()"
      ]
    },
    {
      "cell_type": "code",
      "execution_count": null,
      "metadata": {
        "id": "1O9lcc9XEuom",
        "colab": {
          "base_uri": "https://localhost:8080/"
        },
        "outputId": "cbc3a514-617a-428b-d833-7e4c89a268b8"
      },
      "outputs": [
        {
          "output_type": "stream",
          "name": "stdout",
          "text": [
            "              precision    recall  f1-score   support\n",
            "\n",
            " astro-ph.CO       0.98      0.38      0.55       929\n",
            " astro-ph.EP       0.99      0.71      0.83      1747\n",
            " astro-ph.GA       0.96      0.57      0.72      2138\n",
            " astro-ph.HE       0.98      0.47      0.64      1409\n",
            " astro-ph.IM       0.93      0.55      0.69      1352\n",
            " astro-ph.SR       0.95      0.36      0.53      1940\n",
            "\n",
            "   micro avg       0.96      0.52      0.67      9515\n",
            "   macro avg       0.96      0.51      0.66      9515\n",
            "weighted avg       0.96      0.52      0.67      9515\n",
            " samples avg       0.70      0.60      0.63      9515\n",
            "\n"
          ]
        },
        {
          "output_type": "stream",
          "name": "stderr",
          "text": [
            "/usr/local/lib/python3.7/dist-packages/sklearn/metrics/_classification.py:1308: UndefinedMetricWarning: Precision and F-score are ill-defined and being set to 0.0 in samples with no predicted labels. Use `zero_division` parameter to control this behavior.\n",
            "  _warn_prf(average, modifier, msg_start, len(result))\n"
          ]
        }
      ],
      "source": [
        "print(classification_report(y_test, y_pred,target_names=vocab))"
      ]
    },
    {
      "cell_type": "markdown",
      "metadata": {
        "id": "EA8EiAlBNYjQ"
      },
      "source": [
        "###Train the model with BernoulliNB and evaluate"
      ]
    },
    {
      "cell_type": "code",
      "execution_count": null,
      "metadata": {
        "id": "LwTECcHIyDlq",
        "colab": {
          "base_uri": "https://localhost:8080/"
        },
        "outputId": "7b759068-ae96-47fd-8ddd-4956c59c597e"
      },
      "outputs": [
        {
          "output_type": "execute_result",
          "data": {
            "text/plain": [
              "BinaryRelevance(classifier=BernoulliNB(), require_dense=[True, True])"
            ]
          },
          "metadata": {},
          "execution_count": 32
        }
      ],
      "source": [
        "# initialize binary relevance multi-label classifier\n",
        "# with a bernoulli naive bayes base classifier\n",
        "model = BinaryRelevance(BernoulliNB())\n",
        "\n",
        "model.fit(X_train_vector, y_train)"
      ]
    },
    {
      "cell_type": "code",
      "execution_count": null,
      "metadata": {
        "id": "QNFu0p5ByfC0"
      },
      "outputs": [],
      "source": [
        "y_pred_prob = model.predict_proba(X_test_vector)\n",
        "y_pred_prob = y_pred_prob.toarray()"
      ]
    },
    {
      "cell_type": "code",
      "execution_count": null,
      "metadata": {
        "id": "22CcOEekykX3",
        "colab": {
          "base_uri": "https://localhost:8080/"
        },
        "outputId": "fd2168dc-e462-48be-f744-ffce0443a7f7"
      },
      "outputs": [
        {
          "output_type": "stream",
          "name": "stdout",
          "text": [
            "Exact Match Radio accuracy on the test set: 57.01% - with k = 1 and threshold = 0.1\n",
            "Exact Match Radio accuracy on the test set: 56.99% - with k = 1 and threshold = 0.2\n",
            "Exact Match Radio accuracy on the test set: 56.95% - with k = 1 and threshold = 0.30000000000000004\n",
            "Exact Match Radio accuracy on the test set: 56.95% - with k = 1 and threshold = 0.4\n",
            "Exact Match Radio accuracy on the test set: 56.93% - with k = 1 and threshold = 0.5\n",
            "Exact Match Radio accuracy on the test set: 56.89% - with k = 1 and threshold = 0.6\n",
            "Exact Match Radio accuracy on the test set: 56.84% - with k = 1 and threshold = 0.7000000000000001\n",
            "Exact Match Radio accuracy on the test set: 56.77% - with k = 1 and threshold = 0.8\n",
            "Exact Match Radio accuracy on the test set: 45.65% - with k = 2 and threshold = 0.1\n",
            "Exact Match Radio accuracy on the test set: 47.33% - with k = 2 and threshold = 0.2\n",
            "Exact Match Radio accuracy on the test set: 48.33% - with k = 2 and threshold = 0.30000000000000004\n",
            "Exact Match Radio accuracy on the test set: 49.25% - with k = 2 and threshold = 0.4\n",
            "Exact Match Radio accuracy on the test set: 50.05% - with k = 2 and threshold = 0.5\n",
            "Exact Match Radio accuracy on the test set: 50.63% - with k = 2 and threshold = 0.6\n",
            "Exact Match Radio accuracy on the test set: 51.61% - with k = 2 and threshold = 0.7000000000000001\n",
            "Exact Match Radio accuracy on the test set: 52.47% - with k = 2 and threshold = 0.8\n",
            "Exact Match Radio accuracy on the test set: 44.37% - with k = 3 and threshold = 0.1\n",
            "Exact Match Radio accuracy on the test set: 46.38% - with k = 3 and threshold = 0.2\n",
            "Exact Match Radio accuracy on the test set: 47.39% - with k = 3 and threshold = 0.30000000000000004\n",
            "Exact Match Radio accuracy on the test set: 48.42% - with k = 3 and threshold = 0.4\n",
            "Exact Match Radio accuracy on the test set: 49.39% - with k = 3 and threshold = 0.5\n",
            "Exact Match Radio accuracy on the test set: 50.08% - with k = 3 and threshold = 0.6\n",
            "Exact Match Radio accuracy on the test set: 51.2% - with k = 3 and threshold = 0.7000000000000001\n",
            "Exact Match Radio accuracy on the test set: 52.06% - with k = 3 and threshold = 0.8\n",
            "Exact Match Radio accuracy on the test set: 44.35% - with k = 4 and threshold = 0.1\n",
            "Exact Match Radio accuracy on the test set: 46.36% - with k = 4 and threshold = 0.2\n",
            "Exact Match Radio accuracy on the test set: 47.36% - with k = 4 and threshold = 0.30000000000000004\n",
            "Exact Match Radio accuracy on the test set: 48.39% - with k = 4 and threshold = 0.4\n",
            "Exact Match Radio accuracy on the test set: 49.36% - with k = 4 and threshold = 0.5\n",
            "Exact Match Radio accuracy on the test set: 50.07% - with k = 4 and threshold = 0.6\n",
            "Exact Match Radio accuracy on the test set: 51.19% - with k = 4 and threshold = 0.7000000000000001\n",
            "Exact Match Radio accuracy on the test set: 52.05% - with k = 4 and threshold = 0.8\n",
            "Exact Match Radio accuracy on the test set: 44.35% - with k = 5 and threshold = 0.1\n",
            "Exact Match Radio accuracy on the test set: 46.36% - with k = 5 and threshold = 0.2\n",
            "Exact Match Radio accuracy on the test set: 47.36% - with k = 5 and threshold = 0.30000000000000004\n",
            "Exact Match Radio accuracy on the test set: 48.39% - with k = 5 and threshold = 0.4\n",
            "Exact Match Radio accuracy on the test set: 49.36% - with k = 5 and threshold = 0.5\n",
            "Exact Match Radio accuracy on the test set: 50.07% - with k = 5 and threshold = 0.6\n",
            "Exact Match Radio accuracy on the test set: 51.19% - with k = 5 and threshold = 0.7000000000000001\n",
            "Exact Match Radio accuracy on the test set: 52.05% - with k = 5 and threshold = 0.8\n",
            "Exact Match Radio accuracy on the test set: 44.35% - with k = 6 and threshold = 0.1\n",
            "Exact Match Radio accuracy on the test set: 46.36% - with k = 6 and threshold = 0.2\n",
            "Exact Match Radio accuracy on the test set: 47.36% - with k = 6 and threshold = 0.30000000000000004\n",
            "Exact Match Radio accuracy on the test set: 48.39% - with k = 6 and threshold = 0.4\n",
            "Exact Match Radio accuracy on the test set: 49.36% - with k = 6 and threshold = 0.5\n",
            "Exact Match Radio accuracy on the test set: 50.07% - with k = 6 and threshold = 0.6\n",
            "Exact Match Radio accuracy on the test set: 51.19% - with k = 6 and threshold = 0.7000000000000001\n",
            "Exact Match Radio accuracy on the test set: 52.05% - with k = 6 and threshold = 0.8\n"
          ]
        }
      ],
      "source": [
        "for k in range(1,7):\n",
        "    for threshold in np.arange(0.1,0.9,0.1):\n",
        "        y_pred = get_y_pred(y_pred_prob, k, threshold)\n",
        "        from sklearn.metrics import accuracy_score\n",
        "        acc = accuracy_score(y_test, y_pred)\n",
        "        print(f\"Exact Match Radio accuracy on the test set: {round(acc * 100, 2)}% - with k = {k} and threshold = {threshold}\")"
      ]
    },
    {
      "cell_type": "code",
      "execution_count": null,
      "metadata": {
        "id": "DtCR_PEzE5ib",
        "colab": {
          "base_uri": "https://localhost:8080/"
        },
        "outputId": "0e9982de-cf57-49be-bab6-641104ceaa08"
      },
      "outputs": [
        {
          "output_type": "stream",
          "name": "stdout",
          "text": [
            "multilabel_confusion_matrix_of: astro-ph.CO\n",
            "[[5256  428]\n",
            " [ 160  769]]\n",
            "\n",
            "multilabel_confusion_matrix_of: astro-ph.EP\n",
            "[[4689  177]\n",
            " [ 127 1620]]\n",
            "\n",
            "multilabel_confusion_matrix_of: astro-ph.GA\n",
            "[[4131  344]\n",
            " [ 446 1692]]\n",
            "\n",
            "multilabel_confusion_matrix_of: astro-ph.HE\n",
            "[[4886  318]\n",
            " [ 176 1233]]\n",
            "\n",
            "multilabel_confusion_matrix_of: astro-ph.IM\n",
            "[[4824  437]\n",
            " [ 210 1142]]\n",
            "\n",
            "multilabel_confusion_matrix_of: astro-ph.SR\n",
            "[[4001  672]\n",
            " [ 353 1587]]\n",
            "\n"
          ]
        }
      ],
      "source": [
        "y_pred = get_y_pred(y_pred_prob, k=2, threshold=0.7)\n",
        "m = multilabel_confusion_matrix(y_test, y_pred)\n",
        "\n",
        "for i in range(0,len(m)):\n",
        "    print(\"multilabel_confusion_matrix_of: \"+vocab[i])\n",
        "    print(m[i])\n",
        "    print()"
      ]
    },
    {
      "cell_type": "code",
      "execution_count": null,
      "metadata": {
        "id": "j74cKYbMzlKz",
        "colab": {
          "base_uri": "https://localhost:8080/"
        },
        "outputId": "ace47ba5-c6cc-403e-f2b8-ef54aa28ee2f"
      },
      "outputs": [
        {
          "output_type": "stream",
          "name": "stdout",
          "text": [
            "              precision    recall  f1-score   support\n",
            "\n",
            " astro-ph.CO       0.64      0.83      0.72       929\n",
            " astro-ph.EP       0.90      0.93      0.91      1747\n",
            " astro-ph.GA       0.83      0.79      0.81      2138\n",
            " astro-ph.HE       0.79      0.88      0.83      1409\n",
            " astro-ph.IM       0.72      0.84      0.78      1352\n",
            " astro-ph.SR       0.70      0.82      0.76      1940\n",
            "\n",
            "   micro avg       0.77      0.85      0.81      9515\n",
            "   macro avg       0.77      0.85      0.80      9515\n",
            "weighted avg       0.78      0.85      0.81      9515\n",
            " samples avg       0.81      0.89      0.82      9515\n",
            "\n"
          ]
        },
        {
          "output_type": "stream",
          "name": "stderr",
          "text": [
            "/usr/local/lib/python3.7/dist-packages/sklearn/metrics/_classification.py:1308: UndefinedMetricWarning: Precision and F-score are ill-defined and being set to 0.0 in samples with no predicted labels. Use `zero_division` parameter to control this behavior.\n",
            "  _warn_prf(average, modifier, msg_start, len(result))\n"
          ]
        }
      ],
      "source": [
        "print(classification_report(y_test, y_pred,target_names=vocab))"
      ]
    },
    {
      "cell_type": "markdown",
      "source": [
        "##Tran the model\n",
        "*Vectorizer by CountVectorizer*"
      ],
      "metadata": {
        "id": "JLECn4tkGcMq"
      }
    },
    {
      "cell_type": "markdown",
      "source": [
        "###Vectorizer by CountVectorizer"
      ],
      "metadata": {
        "id": "1NEETeVRKtTS"
      }
    },
    {
      "cell_type": "code",
      "source": [
        "vectorizer = CountVectorizer()\n",
        "vectorizer.fit(X_train)\n",
        "vectorizer.fit(X_test)\n",
        "X_train_vector = vectorizer.transform(X_train)\n",
        "X_test_vector = vectorizer.transform(X_test)"
      ],
      "metadata": {
        "id": "P8NFyqutGXCR"
      },
      "execution_count": null,
      "outputs": []
    },
    {
      "cell_type": "markdown",
      "source": [
        "###Train the model with MultinomialNB and evaluate"
      ],
      "metadata": {
        "id": "unxWeIo4K2IV"
      }
    },
    {
      "cell_type": "code",
      "source": [
        "# initialize binary relevance multi-label classifier\n",
        "# with a multinomial naive bayes base classifier\n",
        "model = BinaryRelevance(MultinomialNB())\n",
        "\n",
        "model.fit(X_train_vector, y_train)"
      ],
      "metadata": {
        "id": "3H9B9PsBGoOw",
        "colab": {
          "base_uri": "https://localhost:8080/"
        },
        "outputId": "ec2fd702-74ed-4335-cae7-9b25978df11e"
      },
      "execution_count": null,
      "outputs": [
        {
          "output_type": "execute_result",
          "data": {
            "text/plain": [
              "BinaryRelevance(classifier=MultinomialNB(), require_dense=[True, True])"
            ]
          },
          "metadata": {},
          "execution_count": 38
        }
      ]
    },
    {
      "cell_type": "code",
      "source": [
        "y_pred_prob = model.predict_proba(X_test_vector)\n",
        "y_pred_prob = y_pred_prob.toarray()"
      ],
      "metadata": {
        "id": "dW8OojzzIGaP"
      },
      "execution_count": null,
      "outputs": []
    },
    {
      "cell_type": "code",
      "source": [
        "for k in range(1,7):\n",
        "    for threshold in np.arange(0.1,0.9,0.1):\n",
        "        y_pred = get_y_pred(y_pred_prob, k, threshold)\n",
        "        from sklearn.metrics import accuracy_score\n",
        "        acc = accuracy_score(y_test, y_pred)\n",
        "        print(f\"Exact Match Radio accuracy on the test set: {round(acc * 100, 2)}% - with k = {k} and threshold = {threshold}\")"
      ],
      "metadata": {
        "id": "YcgJgRAiIngC",
        "colab": {
          "base_uri": "https://localhost:8080/"
        },
        "outputId": "7acfeb49-25ea-4aba-89cb-e17b3babb864"
      },
      "execution_count": null,
      "outputs": [
        {
          "output_type": "stream",
          "name": "stdout",
          "text": [
            "Exact Match Radio accuracy on the test set: 56.54% - with k = 1 and threshold = 0.1\n",
            "Exact Match Radio accuracy on the test set: 56.54% - with k = 1 and threshold = 0.2\n",
            "Exact Match Radio accuracy on the test set: 56.53% - with k = 1 and threshold = 0.30000000000000004\n",
            "Exact Match Radio accuracy on the test set: 56.51% - with k = 1 and threshold = 0.4\n",
            "Exact Match Radio accuracy on the test set: 56.51% - with k = 1 and threshold = 0.5\n",
            "Exact Match Radio accuracy on the test set: 56.49% - with k = 1 and threshold = 0.6\n",
            "Exact Match Radio accuracy on the test set: 56.49% - with k = 1 and threshold = 0.7000000000000001\n",
            "Exact Match Radio accuracy on the test set: 56.46% - with k = 1 and threshold = 0.8\n",
            "Exact Match Radio accuracy on the test set: 48.04% - with k = 2 and threshold = 0.1\n",
            "Exact Match Radio accuracy on the test set: 48.86% - with k = 2 and threshold = 0.2\n",
            "Exact Match Radio accuracy on the test set: 49.36% - with k = 2 and threshold = 0.30000000000000004\n",
            "Exact Match Radio accuracy on the test set: 49.78% - with k = 2 and threshold = 0.4\n",
            "Exact Match Radio accuracy on the test set: 50.08% - with k = 2 and threshold = 0.5\n",
            "Exact Match Radio accuracy on the test set: 50.34% - with k = 2 and threshold = 0.6\n",
            "Exact Match Radio accuracy on the test set: 50.85% - with k = 2 and threshold = 0.7000000000000001\n",
            "Exact Match Radio accuracy on the test set: 51.43% - with k = 2 and threshold = 0.8\n",
            "Exact Match Radio accuracy on the test set: 47.0% - with k = 3 and threshold = 0.1\n",
            "Exact Match Radio accuracy on the test set: 47.97% - with k = 3 and threshold = 0.2\n",
            "Exact Match Radio accuracy on the test set: 48.6% - with k = 3 and threshold = 0.30000000000000004\n",
            "Exact Match Radio accuracy on the test set: 49.04% - with k = 3 and threshold = 0.4\n",
            "Exact Match Radio accuracy on the test set: 49.42% - with k = 3 and threshold = 0.5\n",
            "Exact Match Radio accuracy on the test set: 49.74% - with k = 3 and threshold = 0.6\n",
            "Exact Match Radio accuracy on the test set: 50.29% - with k = 3 and threshold = 0.7000000000000001\n",
            "Exact Match Radio accuracy on the test set: 51.08% - with k = 3 and threshold = 0.8\n",
            "Exact Match Radio accuracy on the test set: 47.01% - with k = 4 and threshold = 0.1\n",
            "Exact Match Radio accuracy on the test set: 47.98% - with k = 4 and threshold = 0.2\n",
            "Exact Match Radio accuracy on the test set: 48.62% - with k = 4 and threshold = 0.30000000000000004\n",
            "Exact Match Radio accuracy on the test set: 49.04% - with k = 4 and threshold = 0.4\n",
            "Exact Match Radio accuracy on the test set: 49.42% - with k = 4 and threshold = 0.5\n",
            "Exact Match Radio accuracy on the test set: 49.74% - with k = 4 and threshold = 0.6\n",
            "Exact Match Radio accuracy on the test set: 50.29% - with k = 4 and threshold = 0.7000000000000001\n",
            "Exact Match Radio accuracy on the test set: 51.08% - with k = 4 and threshold = 0.8\n",
            "Exact Match Radio accuracy on the test set: 47.01% - with k = 5 and threshold = 0.1\n",
            "Exact Match Radio accuracy on the test set: 47.98% - with k = 5 and threshold = 0.2\n",
            "Exact Match Radio accuracy on the test set: 48.62% - with k = 5 and threshold = 0.30000000000000004\n",
            "Exact Match Radio accuracy on the test set: 49.04% - with k = 5 and threshold = 0.4\n",
            "Exact Match Radio accuracy on the test set: 49.42% - with k = 5 and threshold = 0.5\n",
            "Exact Match Radio accuracy on the test set: 49.74% - with k = 5 and threshold = 0.6\n",
            "Exact Match Radio accuracy on the test set: 50.29% - with k = 5 and threshold = 0.7000000000000001\n",
            "Exact Match Radio accuracy on the test set: 51.08% - with k = 5 and threshold = 0.8\n",
            "Exact Match Radio accuracy on the test set: 47.01% - with k = 6 and threshold = 0.1\n",
            "Exact Match Radio accuracy on the test set: 47.98% - with k = 6 and threshold = 0.2\n",
            "Exact Match Radio accuracy on the test set: 48.62% - with k = 6 and threshold = 0.30000000000000004\n",
            "Exact Match Radio accuracy on the test set: 49.04% - with k = 6 and threshold = 0.4\n",
            "Exact Match Radio accuracy on the test set: 49.42% - with k = 6 and threshold = 0.5\n",
            "Exact Match Radio accuracy on the test set: 49.74% - with k = 6 and threshold = 0.6\n",
            "Exact Match Radio accuracy on the test set: 50.29% - with k = 6 and threshold = 0.7000000000000001\n",
            "Exact Match Radio accuracy on the test set: 51.08% - with k = 6 and threshold = 0.8\n"
          ]
        }
      ]
    },
    {
      "cell_type": "code",
      "source": [
        "y_pred = get_y_pred(y_pred_prob, k=2, threshold=0.5)\n",
        "from sklearn.metrics import multilabel_confusion_matrix\n",
        "m = multilabel_confusion_matrix(y_test, y_pred)\n",
        "\n",
        "for i in range(0,len(m)):\n",
        "    print(\"multilabel_confusion_matrix_of: \"+vocab[i])\n",
        "    print(m[i])\n",
        "    print()"
      ],
      "metadata": {
        "id": "miMC57QwIsfK",
        "colab": {
          "base_uri": "https://localhost:8080/"
        },
        "outputId": "f882d9d8-0206-4c56-d0f7-29a37b8d3ebe"
      },
      "execution_count": null,
      "outputs": [
        {
          "output_type": "stream",
          "name": "stdout",
          "text": [
            "multilabel_confusion_matrix_of: astro-ph.CO\n",
            "[[5169  515]\n",
            " [ 127  802]]\n",
            "\n",
            "multilabel_confusion_matrix_of: astro-ph.EP\n",
            "[[4665  201]\n",
            " [ 109 1638]]\n",
            "\n",
            "multilabel_confusion_matrix_of: astro-ph.GA\n",
            "[[4106  369]\n",
            " [ 405 1733]]\n",
            "\n",
            "multilabel_confusion_matrix_of: astro-ph.HE\n",
            "[[4841  363]\n",
            " [ 160 1249]]\n",
            "\n",
            "multilabel_confusion_matrix_of: astro-ph.IM\n",
            "[[4796  465]\n",
            " [ 194 1158]]\n",
            "\n",
            "multilabel_confusion_matrix_of: astro-ph.SR\n",
            "[[3963  710]\n",
            " [ 313 1627]]\n",
            "\n"
          ]
        }
      ]
    },
    {
      "cell_type": "code",
      "source": [
        "from sklearn.metrics import classification_report\n",
        "\n",
        "print(classification_report(y_test, y_pred,target_names=vocab))"
      ],
      "metadata": {
        "id": "lQhW5cRPIz0e",
        "colab": {
          "base_uri": "https://localhost:8080/"
        },
        "outputId": "839b36d0-6fea-4916-d0bb-268d39247d1c"
      },
      "execution_count": null,
      "outputs": [
        {
          "output_type": "stream",
          "name": "stdout",
          "text": [
            "              precision    recall  f1-score   support\n",
            "\n",
            " astro-ph.CO       0.61      0.86      0.71       929\n",
            " astro-ph.EP       0.89      0.94      0.91      1747\n",
            " astro-ph.GA       0.82      0.81      0.82      2138\n",
            " astro-ph.HE       0.77      0.89      0.83      1409\n",
            " astro-ph.IM       0.71      0.86      0.78      1352\n",
            " astro-ph.SR       0.70      0.84      0.76      1940\n",
            "\n",
            "   micro avg       0.76      0.86      0.81      9515\n",
            "   macro avg       0.75      0.87      0.80      9515\n",
            "weighted avg       0.77      0.86      0.81      9515\n",
            " samples avg       0.80      0.91      0.82      9515\n",
            "\n"
          ]
        },
        {
          "output_type": "stream",
          "name": "stderr",
          "text": [
            "/usr/local/lib/python3.7/dist-packages/sklearn/metrics/_classification.py:1308: UndefinedMetricWarning: Precision and F-score are ill-defined and being set to 0.0 in samples with no predicted labels. Use `zero_division` parameter to control this behavior.\n",
            "  _warn_prf(average, modifier, msg_start, len(result))\n"
          ]
        }
      ]
    },
    {
      "cell_type": "markdown",
      "source": [
        "###Train the model with BernoulliNB and valuate"
      ],
      "metadata": {
        "id": "i7Kxc1wHK8nE"
      }
    },
    {
      "cell_type": "code",
      "source": [
        "# initialize binary relevance multi-label classifier\n",
        "# with a bernoulli naive bayes base classifier\n",
        "model = BinaryRelevance(BernoulliNB())\n",
        "\n",
        "model.fit(X_train_vector, y_train)"
      ],
      "metadata": {
        "id": "qPD9eb_7I7XG",
        "colab": {
          "base_uri": "https://localhost:8080/"
        },
        "outputId": "a83b0f91-b2af-44d2-8b3a-b7dece9d71e7"
      },
      "execution_count": null,
      "outputs": [
        {
          "output_type": "execute_result",
          "data": {
            "text/plain": [
              "BinaryRelevance(classifier=BernoulliNB(), require_dense=[True, True])"
            ]
          },
          "metadata": {},
          "execution_count": 43
        }
      ]
    },
    {
      "cell_type": "code",
      "source": [
        "y_pred_prob = model.predict_proba(X_test_vector)\n",
        "y_pred_prob = y_pred_prob.toarray()"
      ],
      "metadata": {
        "id": "UqXhU-X-JDf-"
      },
      "execution_count": null,
      "outputs": []
    },
    {
      "cell_type": "code",
      "source": [
        "print(y_pred_prob)"
      ],
      "metadata": {
        "colab": {
          "base_uri": "https://localhost:8080/"
        },
        "id": "TXRwh7RTQn5c",
        "outputId": "cc2875f6-fa42-4ad2-9bd8-7c8286be0748"
      },
      "execution_count": null,
      "outputs": [
        {
          "output_type": "stream",
          "name": "stdout",
          "text": [
            "[[5.94779776e-08 2.00789238e-10 2.84601649e-10 9.99999998e-01\n",
            "  1.57095093e-02 6.52265540e-09]\n",
            " [5.27019123e-08 1.68842311e-10 9.99999999e-01 3.51484116e-01\n",
            "  1.57162075e-15 1.64169496e-01]\n",
            " [1.63491403e-14 5.44798337e-24 1.00000000e+00 9.99991630e-01\n",
            "  2.85831328e-28 1.64292443e-04]\n",
            " ...\n",
            " [1.16449509e-21 4.29659714e-01 1.00000000e+00 1.20984713e-16\n",
            "  2.12397269e-18 1.00000000e+00]\n",
            " [1.31557640e-11 2.34518937e-26 1.00000000e+00 7.58544630e-05\n",
            "  1.57374233e-32 2.26635909e-12]\n",
            " [7.03501656e-22 2.43844850e-20 6.97459503e-03 1.00000000e+00\n",
            "  6.97970343e-25 1.00000000e+00]]\n"
          ]
        }
      ]
    },
    {
      "cell_type": "code",
      "source": [
        "for k in range(1,7):\n",
        "    for threshold in np.arange(0.1,0.9,0.1):\n",
        "        y_pred = get_y_pred(y_pred_prob, k, threshold)\n",
        "        from sklearn.metrics import accuracy_score\n",
        "        acc = accuracy_score(y_test, y_pred)\n",
        "        print(f\"Exact Match Radio accuracy on the test set: {round(acc * 100, 2)}% - with k = {k} and threshold = {threshold}\")"
      ],
      "metadata": {
        "colab": {
          "base_uri": "https://localhost:8080/"
        },
        "id": "tXsvXYkjJFmC",
        "outputId": "d8b2ed03-f476-4940-b622-d77a7051b233"
      },
      "execution_count": null,
      "outputs": [
        {
          "output_type": "stream",
          "name": "stdout",
          "text": [
            "Exact Match Radio accuracy on the test set: 57.01% - with k = 1 and threshold = 0.1\n",
            "Exact Match Radio accuracy on the test set: 56.99% - with k = 1 and threshold = 0.2\n",
            "Exact Match Radio accuracy on the test set: 56.95% - with k = 1 and threshold = 0.30000000000000004\n",
            "Exact Match Radio accuracy on the test set: 56.95% - with k = 1 and threshold = 0.4\n",
            "Exact Match Radio accuracy on the test set: 56.93% - with k = 1 and threshold = 0.5\n",
            "Exact Match Radio accuracy on the test set: 56.89% - with k = 1 and threshold = 0.6\n",
            "Exact Match Radio accuracy on the test set: 56.84% - with k = 1 and threshold = 0.7000000000000001\n",
            "Exact Match Radio accuracy on the test set: 56.77% - with k = 1 and threshold = 0.8\n",
            "Exact Match Radio accuracy on the test set: 45.65% - with k = 2 and threshold = 0.1\n",
            "Exact Match Radio accuracy on the test set: 47.33% - with k = 2 and threshold = 0.2\n",
            "Exact Match Radio accuracy on the test set: 48.33% - with k = 2 and threshold = 0.30000000000000004\n",
            "Exact Match Radio accuracy on the test set: 49.25% - with k = 2 and threshold = 0.4\n",
            "Exact Match Radio accuracy on the test set: 50.05% - with k = 2 and threshold = 0.5\n",
            "Exact Match Radio accuracy on the test set: 50.63% - with k = 2 and threshold = 0.6\n",
            "Exact Match Radio accuracy on the test set: 51.61% - with k = 2 and threshold = 0.7000000000000001\n",
            "Exact Match Radio accuracy on the test set: 52.47% - with k = 2 and threshold = 0.8\n",
            "Exact Match Radio accuracy on the test set: 44.37% - with k = 3 and threshold = 0.1\n",
            "Exact Match Radio accuracy on the test set: 46.38% - with k = 3 and threshold = 0.2\n",
            "Exact Match Radio accuracy on the test set: 47.39% - with k = 3 and threshold = 0.30000000000000004\n",
            "Exact Match Radio accuracy on the test set: 48.42% - with k = 3 and threshold = 0.4\n",
            "Exact Match Radio accuracy on the test set: 49.39% - with k = 3 and threshold = 0.5\n",
            "Exact Match Radio accuracy on the test set: 50.08% - with k = 3 and threshold = 0.6\n",
            "Exact Match Radio accuracy on the test set: 51.2% - with k = 3 and threshold = 0.7000000000000001\n",
            "Exact Match Radio accuracy on the test set: 52.06% - with k = 3 and threshold = 0.8\n",
            "Exact Match Radio accuracy on the test set: 44.35% - with k = 4 and threshold = 0.1\n",
            "Exact Match Radio accuracy on the test set: 46.36% - with k = 4 and threshold = 0.2\n",
            "Exact Match Radio accuracy on the test set: 47.36% - with k = 4 and threshold = 0.30000000000000004\n",
            "Exact Match Radio accuracy on the test set: 48.39% - with k = 4 and threshold = 0.4\n",
            "Exact Match Radio accuracy on the test set: 49.36% - with k = 4 and threshold = 0.5\n",
            "Exact Match Radio accuracy on the test set: 50.07% - with k = 4 and threshold = 0.6\n",
            "Exact Match Radio accuracy on the test set: 51.19% - with k = 4 and threshold = 0.7000000000000001\n",
            "Exact Match Radio accuracy on the test set: 52.05% - with k = 4 and threshold = 0.8\n",
            "Exact Match Radio accuracy on the test set: 44.35% - with k = 5 and threshold = 0.1\n",
            "Exact Match Radio accuracy on the test set: 46.36% - with k = 5 and threshold = 0.2\n",
            "Exact Match Radio accuracy on the test set: 47.36% - with k = 5 and threshold = 0.30000000000000004\n",
            "Exact Match Radio accuracy on the test set: 48.39% - with k = 5 and threshold = 0.4\n",
            "Exact Match Radio accuracy on the test set: 49.36% - with k = 5 and threshold = 0.5\n",
            "Exact Match Radio accuracy on the test set: 50.07% - with k = 5 and threshold = 0.6\n",
            "Exact Match Radio accuracy on the test set: 51.19% - with k = 5 and threshold = 0.7000000000000001\n",
            "Exact Match Radio accuracy on the test set: 52.05% - with k = 5 and threshold = 0.8\n",
            "Exact Match Radio accuracy on the test set: 44.35% - with k = 6 and threshold = 0.1\n",
            "Exact Match Radio accuracy on the test set: 46.36% - with k = 6 and threshold = 0.2\n",
            "Exact Match Radio accuracy on the test set: 47.36% - with k = 6 and threshold = 0.30000000000000004\n",
            "Exact Match Radio accuracy on the test set: 48.39% - with k = 6 and threshold = 0.4\n",
            "Exact Match Radio accuracy on the test set: 49.36% - with k = 6 and threshold = 0.5\n",
            "Exact Match Radio accuracy on the test set: 50.07% - with k = 6 and threshold = 0.6\n",
            "Exact Match Radio accuracy on the test set: 51.19% - with k = 6 and threshold = 0.7000000000000001\n",
            "Exact Match Radio accuracy on the test set: 52.05% - with k = 6 and threshold = 0.8\n"
          ]
        }
      ]
    },
    {
      "cell_type": "code",
      "source": [
        "y_pred = get_y_pred(y_pred_prob, k=2, threshold=0.5)\n",
        "from sklearn.metrics import multilabel_confusion_matrix\n",
        "m = multilabel_confusion_matrix(y_test, y_pred)\n",
        "\n",
        "for i in range(0,len(m)):\n",
        "    print(\"multilabel_confusion_matrix_of: \"+vocab[i])\n",
        "    print(m[i])\n",
        "    print()"
      ],
      "metadata": {
        "colab": {
          "base_uri": "https://localhost:8080/"
        },
        "id": "2wZxE5n3JH9x",
        "outputId": "943e1458-ffd3-47dc-e4a2-bdfeec56b7eb"
      },
      "execution_count": null,
      "outputs": [
        {
          "output_type": "stream",
          "name": "stdout",
          "text": [
            "multilabel_confusion_matrix_of: astro-ph.CO\n",
            "[[5233  451]\n",
            " [ 154  775]]\n",
            "\n",
            "multilabel_confusion_matrix_of: astro-ph.EP\n",
            "[[4676  190]\n",
            " [ 121 1626]]\n",
            "\n",
            "multilabel_confusion_matrix_of: astro-ph.GA\n",
            "[[4110  365]\n",
            " [ 426 1712]]\n",
            "\n",
            "multilabel_confusion_matrix_of: astro-ph.HE\n",
            "[[4864  340]\n",
            " [ 169 1240]]\n",
            "\n",
            "multilabel_confusion_matrix_of: astro-ph.IM\n",
            "[[4792  469]\n",
            " [ 204 1148]]\n",
            "\n",
            "multilabel_confusion_matrix_of: astro-ph.SR\n",
            "[[3939  734]\n",
            " [ 330 1610]]\n",
            "\n"
          ]
        }
      ]
    },
    {
      "cell_type": "code",
      "source": [
        "from sklearn.metrics import classification_report\n",
        "\n",
        "print(classification_report(y_test, y_pred,target_names=vocab))"
      ],
      "metadata": {
        "colab": {
          "base_uri": "https://localhost:8080/"
        },
        "id": "eDW6gY6pJKAu",
        "outputId": "caf7106a-1821-4408-a202-6ba65fb43532"
      },
      "execution_count": null,
      "outputs": [
        {
          "output_type": "stream",
          "name": "stdout",
          "text": [
            "              precision    recall  f1-score   support\n",
            "\n",
            " astro-ph.CO       0.63      0.83      0.72       929\n",
            " astro-ph.EP       0.90      0.93      0.91      1747\n",
            " astro-ph.GA       0.82      0.80      0.81      2138\n",
            " astro-ph.HE       0.78      0.88      0.83      1409\n",
            " astro-ph.IM       0.71      0.85      0.77      1352\n",
            " astro-ph.SR       0.69      0.83      0.75      1940\n",
            "\n",
            "   micro avg       0.76      0.85      0.80      9515\n",
            "   macro avg       0.76      0.85      0.80      9515\n",
            "weighted avg       0.77      0.85      0.81      9515\n",
            " samples avg       0.80      0.90      0.81      9515\n",
            "\n"
          ]
        },
        {
          "output_type": "stream",
          "name": "stderr",
          "text": [
            "/usr/local/lib/python3.7/dist-packages/sklearn/metrics/_classification.py:1308: UndefinedMetricWarning: Precision and F-score are ill-defined and being set to 0.0 in samples with no predicted labels. Use `zero_division` parameter to control this behavior.\n",
            "  _warn_prf(average, modifier, msg_start, len(result))\n"
          ]
        }
      ]
    }
  ],
  "metadata": {
    "colab": {
      "collapsed_sections": [],
      "name": "Naive Bayes with BinaryRelevance.ipynb",
      "provenance": [],
      "include_colab_link": true
    },
    "kernelspec": {
      "display_name": "Python 3",
      "name": "python3"
    },
    "language_info": {
      "name": "python"
    }
  },
  "nbformat": 4,
  "nbformat_minor": 0
}