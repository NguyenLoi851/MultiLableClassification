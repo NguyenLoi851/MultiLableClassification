{
  "cells": [
    {
      "cell_type": "markdown",
      "metadata": {
        "id": "view-in-github",
        "colab_type": "text"
      },
      "source": [
        "<a href=\"https://colab.research.google.com/github/NguyenLoi851/MultiLableClassificationByANN/blob/main/Multi_label_classification_ANN_5.ipynb\" target=\"_parent\"><img src=\"https://colab.research.google.com/assets/colab-badge.svg\" alt=\"Open In Colab\"/></a>"
      ]
    },
    {
      "cell_type": "markdown",
      "metadata": {
        "id": "g3ZzNXbACMKx"
      },
      "source": [
        "## Imports"
      ]
    },
    {
      "cell_type": "code",
      "execution_count": null,
      "metadata": {
        "id": "UsHuXXoICMKx"
      },
      "outputs": [],
      "source": [
        "from tensorflow.keras import layers\n",
        "from tensorflow import keras\n",
        "import tensorflow as tf\n",
        "\n",
        "from sklearn.model_selection import train_test_split\n",
        "from ast import literal_eval\n",
        "\n",
        "import matplotlib.pyplot as plt\n",
        "import pandas as pd\n",
        "import numpy as np"
      ]
    },
    {
      "cell_type": "code",
      "source": [
        "# import and read csv\n",
        "import pandas as pd\n",
        "from tensorflow.keras import layers\n",
        "from tensorflow import keras\n",
        "import tensorflow as tf\n",
        "from sklearn.model_selection import train_test_split\n",
        "from ast import literal_eval\n",
        "import numpy as np\n",
        "import string\n",
        "import re\n",
        "\n",
        "import matplotlib.pyplot as plt \n",
        "import seaborn as sns\n",
        "from sklearn.feature_extraction.text import TfidfVectorizer\n",
        "\n",
        "from sklearn.preprocessing import MultiLabelBinarizer\n",
        "\n",
        "import nltk\n",
        "from nltk.stem import WordNetLemmatizer\n",
        "from nltk.corpus import stopwords\n",
        "from nltk import pos_tag, word_tokenize\n",
        "\n",
        "nltk.download('wordnet')\n",
        "nltk.download('averaged_perceptron_tagger')\n",
        "nltk.download('punkt')\n",
        "nltk.download('stopwords')\n",
        "%matplotlib inline\n",
        "pd.set_option('display.max_colwidth', 300)"
      ],
      "metadata": {
        "id": "ck6EX0_8FK5V",
        "outputId": "81b3622c-420c-448a-9457-f44956896685",
        "colab": {
          "base_uri": "https://localhost:8080/"
        }
      },
      "execution_count": null,
      "outputs": [
        {
          "output_type": "stream",
          "name": "stdout",
          "text": [
            "[nltk_data] Downloading package wordnet to /root/nltk_data...\n",
            "[nltk_data]   Unzipping corpora/wordnet.zip.\n",
            "[nltk_data] Downloading package averaged_perceptron_tagger to\n",
            "[nltk_data]     /root/nltk_data...\n",
            "[nltk_data]   Unzipping taggers/averaged_perceptron_tagger.zip.\n",
            "[nltk_data] Downloading package punkt to /root/nltk_data...\n",
            "[nltk_data]   Unzipping tokenizers/punkt.zip.\n",
            "[nltk_data] Downloading package stopwords to /root/nltk_data...\n",
            "[nltk_data]   Unzipping corpora/stopwords.zip.\n"
          ]
        }
      ]
    },
    {
      "cell_type": "markdown",
      "metadata": {
        "id": "QyKOOe1mCMKz"
      },
      "source": [
        "## Perform exploratory data analysis"
      ]
    },
    {
      "cell_type": "code",
      "source": [
        "!pip install -U -q PyDrive\n",
        "from pydrive.auth import GoogleAuth\n",
        "from pydrive.drive import GoogleDrive\n",
        "from google.colab import auth\n",
        "from oauth2client.client import GoogleCredentials\n",
        "  \n",
        "# Authenticate and create the PyDrive client.\n",
        "auth.authenticate_user()\n",
        "gauth = GoogleAuth()\n",
        "gauth.credentials = GoogleCredentials.get_application_default()\n",
        "drive = GoogleDrive(gauth)\n",
        "\n",
        "\n",
        "link = \"https://drive.google.com/file/d/18ZGW-c3oDNIEmBFUfzXl2v0v04mkSlJc/view\"\n",
        "  \n",
        "# to get the id part of the file\n",
        "id = link.split(\"/\")[-2]\n",
        "  \n",
        "downloaded = drive.CreateFile({'id':id}) \n",
        "downloaded.GetContentFile('arxiv.csv')  \n",
        "  \n",
        "arxiv_data = pd.read_csv('arxiv.csv')\n",
        "arxiv_data.head()"
      ],
      "metadata": {
        "colab": {
          "base_uri": "https://localhost:8080/",
          "height": 337
        },
        "id": "l51KfIIyRdJa",
        "outputId": "8393e26d-421b-4519-97fd-5d3842b444c5"
      },
      "execution_count": null,
      "outputs": [
        {
          "output_type": "execute_result",
          "data": {
            "text/html": [
              "\n",
              "  <div id=\"df-12c8cd56-ffe2-4a73-9575-e4d3939b9449\">\n",
              "    <div class=\"colab-df-container\">\n",
              "      <div>\n",
              "<style scoped>\n",
              "    .dataframe tbody tr th:only-of-type {\n",
              "        vertical-align: middle;\n",
              "    }\n",
              "\n",
              "    .dataframe tbody tr th {\n",
              "        vertical-align: top;\n",
              "    }\n",
              "\n",
              "    .dataframe thead th {\n",
              "        text-align: right;\n",
              "    }\n",
              "</style>\n",
              "<table border=\"1\" class=\"dataframe\">\n",
              "  <thead>\n",
              "    <tr style=\"text-align: right;\">\n",
              "      <th></th>\n",
              "      <th>titles</th>\n",
              "      <th>summaries</th>\n",
              "      <th>terms</th>\n",
              "    </tr>\n",
              "  </thead>\n",
              "  <tbody>\n",
              "    <tr>\n",
              "      <th>0</th>\n",
              "      <td>Revealing the Field Sub-subgiant Population Using a Catalog of Active Giant Stars and Gaia EDR3</td>\n",
              "      <td>Sub-subgiant stars (SSGs) fall below the subgiant branch and/or red of the\\ngiant branch in open and globular clusters, an area of the color-magnitude\\ndiagram (CMD) not populated by standard stellar evolution tracks. One\\nhypothesis is that SSGs result from rapid rotation in subgiants or giants...</td>\n",
              "      <td>['astro-ph.SR', 'astro-ph.GA']</td>\n",
              "    </tr>\n",
              "    <tr>\n",
              "      <th>1</th>\n",
              "      <td>ALMA detection of ethyl cyanide and methyl formate in the hot molecular core IRAS 18566+0408</td>\n",
              "      <td>In millimeter/submillimeter wavelength, the studies of the complex molecular\\nemission lines towards the hot molecular cores demonstrate valuable details\\nabout the chemical composition and massive star formation processes. We present\\nthe interferometric detection of rotational molecular emissi...</td>\n",
              "      <td>['astro-ph.GA']</td>\n",
              "    </tr>\n",
              "    <tr>\n",
              "      <th>2</th>\n",
              "      <td>Accretion processes in the galaxy cluster Hydra A/Abell 780</td>\n",
              "      <td>Clusters of galaxies evolve and accrete mass, mostly from small galaxy\\nsystems. Our aim is to study the velocity field of the galaxy cluster Abell\\n780, which is known for the powerful radio source Hydra A at its center and\\nwhere a spectacular X-ray tail associated with the galaxy LEDA 87445 h...</td>\n",
              "      <td>['astro-ph.CO', 'astro-ph.GA']</td>\n",
              "    </tr>\n",
              "    <tr>\n",
              "      <th>3</th>\n",
              "      <td>Radio astronomy locates the neutrino origin in bright blazars</td>\n",
              "      <td>High-energy astrophysical neutrinos have been observed by several telescopes\\nin the last decade, but their sources still remained unknown. We address the\\nproblem of locating astrophysical neutrinos' sources in a statistical manner.\\nWe show that blazars positionally associated with IceCube neu...</td>\n",
              "      <td>['astro-ph.HE', 'astro-ph.GA']</td>\n",
              "    </tr>\n",
              "    <tr>\n",
              "      <th>4</th>\n",
              "      <td>The extragalactic $γ$-ray background: imprints from the physical properties and evolution of star-forming galaxy populations</td>\n",
              "      <td>Star-forming galaxies (SFGs) are expected to harbour an abundant reservoir of\\ncosmic rays (CRs). At GeV energies, these CRs can undergo hadronic interactions\\nwith interstellar gases to produce $\\gamma$-rays, and the unresolved\\n$\\gamma$-ray emission from populations of SFGs form a component of...</td>\n",
              "      <td>['astro-ph.GA', 'astro-ph.HE']</td>\n",
              "    </tr>\n",
              "  </tbody>\n",
              "</table>\n",
              "</div>\n",
              "      <button class=\"colab-df-convert\" onclick=\"convertToInteractive('df-12c8cd56-ffe2-4a73-9575-e4d3939b9449')\"\n",
              "              title=\"Convert this dataframe to an interactive table.\"\n",
              "              style=\"display:none;\">\n",
              "        \n",
              "  <svg xmlns=\"http://www.w3.org/2000/svg\" height=\"24px\"viewBox=\"0 0 24 24\"\n",
              "       width=\"24px\">\n",
              "    <path d=\"M0 0h24v24H0V0z\" fill=\"none\"/>\n",
              "    <path d=\"M18.56 5.44l.94 2.06.94-2.06 2.06-.94-2.06-.94-.94-2.06-.94 2.06-2.06.94zm-11 1L8.5 8.5l.94-2.06 2.06-.94-2.06-.94L8.5 2.5l-.94 2.06-2.06.94zm10 10l.94 2.06.94-2.06 2.06-.94-2.06-.94-.94-2.06-.94 2.06-2.06.94z\"/><path d=\"M17.41 7.96l-1.37-1.37c-.4-.4-.92-.59-1.43-.59-.52 0-1.04.2-1.43.59L10.3 9.45l-7.72 7.72c-.78.78-.78 2.05 0 2.83L4 21.41c.39.39.9.59 1.41.59.51 0 1.02-.2 1.41-.59l7.78-7.78 2.81-2.81c.8-.78.8-2.07 0-2.86zM5.41 20L4 18.59l7.72-7.72 1.47 1.35L5.41 20z\"/>\n",
              "  </svg>\n",
              "      </button>\n",
              "      \n",
              "  <style>\n",
              "    .colab-df-container {\n",
              "      display:flex;\n",
              "      flex-wrap:wrap;\n",
              "      gap: 12px;\n",
              "    }\n",
              "\n",
              "    .colab-df-convert {\n",
              "      background-color: #E8F0FE;\n",
              "      border: none;\n",
              "      border-radius: 50%;\n",
              "      cursor: pointer;\n",
              "      display: none;\n",
              "      fill: #1967D2;\n",
              "      height: 32px;\n",
              "      padding: 0 0 0 0;\n",
              "      width: 32px;\n",
              "    }\n",
              "\n",
              "    .colab-df-convert:hover {\n",
              "      background-color: #E2EBFA;\n",
              "      box-shadow: 0px 1px 2px rgba(60, 64, 67, 0.3), 0px 1px 3px 1px rgba(60, 64, 67, 0.15);\n",
              "      fill: #174EA6;\n",
              "    }\n",
              "\n",
              "    [theme=dark] .colab-df-convert {\n",
              "      background-color: #3B4455;\n",
              "      fill: #D2E3FC;\n",
              "    }\n",
              "\n",
              "    [theme=dark] .colab-df-convert:hover {\n",
              "      background-color: #434B5C;\n",
              "      box-shadow: 0px 1px 3px 1px rgba(0, 0, 0, 0.15);\n",
              "      filter: drop-shadow(0px 1px 2px rgba(0, 0, 0, 0.3));\n",
              "      fill: #FFFFFF;\n",
              "    }\n",
              "  </style>\n",
              "\n",
              "      <script>\n",
              "        const buttonEl =\n",
              "          document.querySelector('#df-12c8cd56-ffe2-4a73-9575-e4d3939b9449 button.colab-df-convert');\n",
              "        buttonEl.style.display =\n",
              "          google.colab.kernel.accessAllowed ? 'block' : 'none';\n",
              "\n",
              "        async function convertToInteractive(key) {\n",
              "          const element = document.querySelector('#df-12c8cd56-ffe2-4a73-9575-e4d3939b9449');\n",
              "          const dataTable =\n",
              "            await google.colab.kernel.invokeFunction('convertToInteractive',\n",
              "                                                     [key], {});\n",
              "          if (!dataTable) return;\n",
              "\n",
              "          const docLinkHtml = 'Like what you see? Visit the ' +\n",
              "            '<a target=\"_blank\" href=https://colab.research.google.com/notebooks/data_table.ipynb>data table notebook</a>'\n",
              "            + ' to learn more about interactive tables.';\n",
              "          element.innerHTML = '';\n",
              "          dataTable['output_type'] = 'display_data';\n",
              "          await google.colab.output.renderOutput(dataTable, element);\n",
              "          const docLink = document.createElement('div');\n",
              "          docLink.innerHTML = docLinkHtml;\n",
              "          element.appendChild(docLink);\n",
              "        }\n",
              "      </script>\n",
              "    </div>\n",
              "  </div>\n",
              "  "
            ],
            "text/plain": [
              "                                                                                                                         titles  ...                           terms\n",
              "0                               Revealing the Field Sub-subgiant Population Using a Catalog of Active Giant Stars and Gaia EDR3  ...  ['astro-ph.SR', 'astro-ph.GA']\n",
              "1                                  ALMA detection of ethyl cyanide and methyl formate in the hot molecular core IRAS 18566+0408  ...                 ['astro-ph.GA']\n",
              "2                                                                   Accretion processes in the galaxy cluster Hydra A/Abell 780  ...  ['astro-ph.CO', 'astro-ph.GA']\n",
              "3                                                                 Radio astronomy locates the neutrino origin in bright blazars  ...  ['astro-ph.HE', 'astro-ph.GA']\n",
              "4  The extragalactic $γ$-ray background: imprints from the physical properties and evolution of star-forming galaxy populations  ...  ['astro-ph.GA', 'astro-ph.HE']\n",
              "\n",
              "[5 rows x 3 columns]"
            ]
          },
          "metadata": {},
          "execution_count": 3
        }
      ]
    },
    {
      "cell_type": "code",
      "execution_count": null,
      "metadata": {
        "id": "Oy0UhJb2CMK0",
        "outputId": "299e2e59-0657-4f6e-8f1b-902cdaa7236c",
        "colab": {
          "base_uri": "https://localhost:8080/"
        }
      },
      "outputs": [
        {
          "output_type": "stream",
          "name": "stdout",
          "text": [
            "There are 89336 rows in the dataset.\n"
          ]
        }
      ],
      "source": [
        "print(f\"There are {len(arxiv_data)} rows in the dataset.\")"
      ]
    },
    {
      "cell_type": "code",
      "execution_count": null,
      "metadata": {
        "id": "ZATqY_S1CMK1",
        "outputId": "0a0da660-5738-4257-bd21-22ad64bbbfcc",
        "colab": {
          "base_uri": "https://localhost:8080/"
        }
      },
      "outputs": [
        {
          "output_type": "stream",
          "name": "stdout",
          "text": [
            "There are 19134 duplicate titles.\n"
          ]
        }
      ],
      "source": [
        "total_duplicate_titles = sum(arxiv_data[\"titles\"].duplicated())\n",
        "print(f\"There are {total_duplicate_titles} duplicate titles.\")"
      ]
    },
    {
      "cell_type": "code",
      "execution_count": null,
      "metadata": {
        "id": "RfyPWpszCMK2",
        "outputId": "90402de7-28a8-41cb-facd-4327d9721974",
        "colab": {
          "base_uri": "https://localhost:8080/"
        }
      },
      "outputs": [
        {
          "output_type": "stream",
          "name": "stdout",
          "text": [
            "There are 70202 rows in the deduplicated dataset.\n",
            "22\n",
            "152\n"
          ]
        }
      ],
      "source": [
        "arxiv_data = arxiv_data[~arxiv_data[\"titles\"].duplicated()]\n",
        "print(f\"There are {len(arxiv_data)} rows in the deduplicated dataset.\")\n",
        "\n",
        "# There are some terms with occurrence as low as 1.\n",
        "print(sum(arxiv_data[\"terms\"].value_counts() == 1))\n",
        "\n",
        "# How many unique terms?\n",
        "print(arxiv_data[\"terms\"].nunique())"
      ]
    },
    {
      "cell_type": "code",
      "source": [
        "arxiv_data_filtered = arxiv_data"
      ],
      "metadata": {
        "id": "r92ASCTw_5o9"
      },
      "execution_count": null,
      "outputs": []
    },
    {
      "cell_type": "markdown",
      "metadata": {
        "id": "f5IUK2W3CMK3"
      },
      "source": [
        "## Convert the string labels to lists of strings"
      ]
    },
    {
      "cell_type": "code",
      "execution_count": null,
      "metadata": {
        "id": "C4aipxf5CMK3",
        "outputId": "22840b7b-89e6-4868-e70d-c934cc8de773",
        "colab": {
          "base_uri": "https://localhost:8080/"
        }
      },
      "outputs": [
        {
          "output_type": "execute_result",
          "data": {
            "text/plain": [
              "array([list(['astro-ph.SR', 'astro-ph.GA']), list(['astro-ph.GA']),\n",
              "       list(['astro-ph.CO', 'astro-ph.GA']),\n",
              "       list(['astro-ph.HE', 'astro-ph.GA']),\n",
              "       list(['astro-ph.GA', 'astro-ph.HE'])], dtype=object)"
            ]
          },
          "metadata": {},
          "execution_count": 8
        }
      ],
      "source": [
        "arxiv_data_filtered[\"terms\"] = arxiv_data_filtered[\"terms\"].apply(\n",
        "    lambda x: literal_eval(x)\n",
        ")\n",
        "arxiv_data_filtered[\"terms\"].values[:5]"
      ]
    },
    {
      "cell_type": "code",
      "source": [
        "dict_len = {}\n",
        "for i in range(arxiv_data_filtered.shape[0]):\n",
        "    if(len(arxiv_data_filtered.iloc[i][\"terms\"]) not in dict_len):\n",
        "        dict_len[len(arxiv_data_filtered.iloc[i][\"terms\"])] = 1\n",
        "    else:\n",
        "        dict_len[len(arxiv_data_filtered.iloc[i][\"terms\"])] += 1\n",
        "print(\"Occurancy of number of labels in a term: \")\n",
        "dict_len = dict(sorted(dict_len.items(), key=lambda item: item[1], reverse=True))\n",
        "for k, v in dict_len.items():\n",
        "    print(f\" - The number of paper have {k} labels in it's term: {v}\")"
      ],
      "metadata": {
        "id": "Cp8gMzSZ9dih",
        "colab": {
          "base_uri": "https://localhost:8080/"
        },
        "outputId": "08b58944-4d8a-4d0a-fddc-9464813addb3"
      },
      "execution_count": null,
      "outputs": [
        {
          "output_type": "stream",
          "name": "stdout",
          "text": [
            "Occurancy of number of labels in a term: \n",
            " - The number of paper have 1 labels in it's term: 46399\n",
            " - The number of paper have 2 labels in it's term: 20635\n",
            " - The number of paper have 3 labels in it's term: 2904\n",
            " - The number of paper have 4 labels in it's term: 209\n",
            " - The number of paper have 5 labels in it's term: 54\n",
            " - The number of paper have 6 labels in it's term: 1\n"
          ]
        }
      ]
    },
    {
      "cell_type": "markdown",
      "source": [
        "##Pre-processing dataset\n"
      ],
      "metadata": {
        "id": "964YEOux8c4p"
      }
    },
    {
      "cell_type": "code",
      "source": [
        "all_terms = sum(arxiv_data_filtered[\"terms\"],[])\n",
        "all_terms = nltk.FreqDist(all_terms) \n",
        "# create dataframe\n",
        "all_terms_df = pd.DataFrame({'Term': list(all_terms.keys()), \n",
        "                              'Count': list(all_terms.values())})"
      ],
      "metadata": {
        "id": "GyccOZXLFbqx"
      },
      "execution_count": null,
      "outputs": []
    },
    {
      "cell_type": "code",
      "source": [
        "def clean_text(text):\n",
        "  # remove new line characters\n",
        "  text = re.sub(r\"\\n\", \" \", text)\n",
        "  # remove email\n",
        "  text = re.sub(r\"([A-Za-z0-9_.+-]+@[A-Za-z0-9-]+\\.?[A-Za-z0-9-.]+)\", \"\", text)\n",
        "  # remove url\n",
        "  text = re.sub(r\"((http|https)\\:\\/\\/)?[a-zA-Z0-9\\.\\/\\?\\:@\\-_=#]+\\.([a-zA-Z]){2,6}([a-zA-Z0-9\\.\\&\\/\\?\\:@\\-_=#])*\", \"\", text)\n",
        "  # remove punctuation\n",
        "  text = re.sub(f'[{re.escape(string.punctuation)}]', ' ', text)\n",
        "  # remove words including numbers\n",
        "  text = re.sub(r\"\\w*\\d\\w*\", \"\", text)\n",
        "  # remove single character and duplicated words\n",
        "  text = ' '.join(word for word in list(set(text.split())) if len(word) > 1)\n",
        "  # replace multiple whitespace by one whitespace\n",
        "  text = re.sub(r\"\\s+\", \" \", text)\n",
        "  # lower all text\n",
        "  text = text.lower()\n",
        "  # strip all text\n",
        "  text = text.strip()\n",
        "  return text"
      ],
      "metadata": {
        "id": "idNVPB3jFjwt"
      },
      "execution_count": null,
      "outputs": []
    },
    {
      "cell_type": "code",
      "source": [
        "def remove_stopwords(text):\n",
        "  stop_words = stopwords.words('english')\n",
        "  cleaned_text = []\n",
        "  # turn text to a list of words\n",
        "  word_list = text.split()\n",
        "  for word in word_list:\n",
        "    if word not in stop_words:\n",
        "      cleaned_text.append(word)\n",
        "  return ' '.join(cleaned_text)"
      ],
      "metadata": {
        "id": "MZwth4c9Fngt"
      },
      "execution_count": null,
      "outputs": []
    },
    {
      "cell_type": "code",
      "source": [
        "def lemmatize_text(text):\n",
        "  wnl = WordNetLemmatizer()\n",
        "  pos_text = pos_tag(word_tokenize(text))\n",
        "  cleaned_text = []\n",
        "  for word, tag in pos_text:\n",
        "    wntag = tag[0].lower()\n",
        "    wntag = wntag if wntag in ['a', 'r', 'n', 'v'] else None\n",
        "    if not wntag:\n",
        "      lem_word = word\n",
        "    else:\n",
        "      lem_word = wnl.lemmatize(word, wntag)\n",
        "    cleaned_text.append(lem_word)\n",
        "  return ' '.join(cleaned_text)"
      ],
      "metadata": {
        "id": "_24dH6LUFsev"
      },
      "execution_count": null,
      "outputs": []
    },
    {
      "cell_type": "code",
      "source": [
        "arxiv_data_filtered['summaries'] = arxiv_data_filtered['summaries'].apply(clean_text)\n",
        "arxiv_data_filtered['summaries'] = arxiv_data_filtered['summaries'].apply(remove_stopwords)\n",
        "arxiv_data_filtered['summaries'] = arxiv_data_filtered['summaries'].apply(lemmatize_text)\n",
        "arxiv_data_filtered['summaries']"
      ],
      "metadata": {
        "id": "9ew2D4zLFxri",
        "colab": {
          "base_uri": "https://localhost:8080/"
        },
        "outputId": "8cf17924-8dc0-449e-90e7-ca4ff0087199"
      },
      "execution_count": null,
      "outputs": [
        {
          "output_type": "execute_result",
          "data": {
            "text/plain": [
              "0        gaia present magnitude giant large starspots field binary rs cross metal serve find ubiquity system active fall type star include cmd reference rare stellar area strong dramatic close day turn track use impact encounter subgiant open evolve rich catalog convection highest gyr cvns sample shortes...\n",
              "1        present ch emission complex algorithm mcmc method towards apply pm formate three spectral interferometric co methyl rot time core process determine ccn array statistical parameter density cs strong fit abundance carlo millimeter use cm submillimeter atacama formation alma demonstrate also equili...\n",
              "2        infalling em substructure distance number conclude hundred italian new rest mpc contain find inner might system radio tail mostly core characterize follow sight parameter distribution telescope impact estimate frame may use project cluster collision relate mass agree abell galaxy sigmav redshift...\n",
              "3        stronger major analysis telescope coincide several address conclude within blazars rest remain suggests find list directly ray behavior coincidence explicitly radio astrophysical finding correspond majority region significance recent icecube narrow muon track nrao statistical flare photohadronic...\n",
              "4        gev emission analyse hadronic noon starburst new gas find mean reservoir ray contribute high form sensitive component capture probe stellar use interstellar gamma cent however form cosmic mass formation galaxy redshift property low also energies demonstrate dominate distribution model expect all...\n",
              "                                                                                                                                                            ...                                                                                                                                                     \n",
              "89331    gaia auriga vsini distance visible object eccentric giant large implies modulation new much weak day high single eclipse reveal type systemic far greater orbital rsun stellar aur may form lii mass report low take see also mission behind model rotational line rapidly secondary alpha discrepant ta...\n",
              "89332    present thin emission centre simulation nova towards partial roche curve fill emit inner agreement point result emanate flow volume sight lobe orbital cold optical use gravitational mass begin good rate depth model planck stationary layer average along accretion calculate hydrogen tau post take ...\n",
              "89333    galactic evolutionary initial way field remain two fossil parametric progenitor plausible momentum black progenitor star stellar impact close however mass formation massive magnetic model model consequence reduce quench global enhanced fraction magnetospheric simplify consider even hole detect i...\n",
              "89334    emission mm wide reaction spherical morphology astronomical rest polyynes length difference bottom appreciable reveal process isotropic polymerization rationalize distribution thinner linear sub radical top produce diverse map close mass formation carbon induce growth alma acetylene broad unsatu...\n",
              "89335    present instrument prevalently several number come lasting wave rotation onset utilize clarification call next high migratory variation active cycle time offset correspond reveal follow watch telescope use latitude solar longitude late low migration hemisphere iris activity magnetic start condit...\n",
              "Name: summaries, Length: 70202, dtype: object"
            ]
          },
          "metadata": {},
          "execution_count": 14
        }
      ]
    },
    {
      "cell_type": "markdown",
      "metadata": {
        "id": "JYfEJL5nCMK3"
      },
      "source": [
        "## Split training set, validation set and test set"
      ]
    },
    {
      "cell_type": "code",
      "execution_count": null,
      "metadata": {
        "id": "I6kxRsHbCMK3",
        "colab": {
          "base_uri": "https://localhost:8080/"
        },
        "outputId": "ff7af2c8-d9ac-4cbf-bb32-1fac876facd5"
      },
      "outputs": [
        {
          "output_type": "stream",
          "name": "stdout",
          "text": [
            "Number of rows in training set: 49141\n",
            "Number of rows in validation set: 10530\n",
            "Number of rows in test set: 10531\n"
          ]
        }
      ],
      "source": [
        "test_split = 0.3\n",
        "\n",
        "# Initial train and test split.\n",
        "train_df, test_df = train_test_split(\n",
        "    arxiv_data_filtered,\n",
        "    test_size=test_split,\n",
        "    # stratify=arxiv_data_filtered[\"terms\"].values,\n",
        ")\n",
        "\n",
        "# Splitting the test set further into validation\n",
        "# and new test sets.\n",
        "val_df = test_df.sample(frac=0.5)\n",
        "test_df.drop(val_df.index, inplace=True)\n",
        "\n",
        "print(f\"Number of rows in training set: {len(train_df)}\")\n",
        "print(f\"Number of rows in validation set: {len(val_df)}\")\n",
        "print(f\"Number of rows in test set: {len(test_df)}\")"
      ]
    },
    {
      "cell_type": "markdown",
      "metadata": {
        "id": "i-PAnEOTCMK4"
      },
      "source": [
        "## Multi-label binarization"
      ]
    },
    {
      "cell_type": "code",
      "execution_count": null,
      "metadata": {
        "id": "7-XwTtwvCMK4",
        "colab": {
          "base_uri": "https://localhost:8080/"
        },
        "outputId": "f3ac0155-7f13-49cc-9d55-260346783529"
      },
      "outputs": [
        {
          "output_type": "stream",
          "name": "stdout",
          "text": [
            "Vocabulary:\n",
            "\n",
            "['[UNK]', 'astro-ph.GA', 'astro-ph.SR', 'astro-ph.EP', 'astro-ph.HE', 'astro-ph.IM', 'astro-ph.CO']\n"
          ]
        }
      ],
      "source": [
        "terms = tf.ragged.constant(train_df[\"terms\"].values)\n",
        "lookup = tf.keras.layers.StringLookup(output_mode=\"multi_hot\")\n",
        "lookup.adapt(terms)\n",
        "vocab = lookup.get_vocabulary()\n",
        "\n",
        "\n",
        "def invert_multi_hot(encoded_labels):\n",
        "    \"\"\"Reverse a single multi-hot encoded label to a tuple of vocab terms.\"\"\"\n",
        "    hot_indices = np.argwhere(encoded_labels == 1.0)[..., 0]\n",
        "    return np.take(vocab, hot_indices)\n",
        "\n",
        "\n",
        "print(\"Vocabulary:\\n\")\n",
        "print(vocab)\n"
      ]
    },
    {
      "cell_type": "code",
      "execution_count": null,
      "metadata": {
        "id": "sXq1evCGCMK4",
        "colab": {
          "base_uri": "https://localhost:8080/"
        },
        "outputId": "334cf920-dc73-4007-8904-9f12966c05dc"
      },
      "outputs": [
        {
          "output_type": "stream",
          "name": "stdout",
          "text": [
            "Original label: ['astro-ph.IM']\n",
            "Label-binarized representation: [[0. 0. 0. 0. 0. 1. 0.]]\n"
          ]
        }
      ],
      "source": [
        "sample_label = train_df[\"terms\"].iloc[0]\n",
        "print(f\"Original label: {sample_label}\")\n",
        "\n",
        "label_binarized = lookup([sample_label])\n",
        "print(f\"Label-binarized representation: {label_binarized}\")"
      ]
    },
    {
      "cell_type": "markdown",
      "metadata": {
        "id": "rL9-uRHaCMK5"
      },
      "source": [
        "## Data preprocessing and `tf.data.Dataset` objects\n"
      ]
    },
    {
      "cell_type": "code",
      "execution_count": null,
      "metadata": {
        "id": "H0JpYB05CMK5"
      },
      "outputs": [],
      "source": [
        "batch_size = 256\n",
        "auto = tf.data.AUTOTUNE\n",
        "\n",
        "\n",
        "def unify_text_length(text, label):\n",
        "    return tf.expand_dims(text, -1), label\n",
        "\n",
        "\n",
        "def make_dataset(dataframe, is_train=True):\n",
        "    labels = tf.ragged.constant(dataframe[\"terms\"].values)\n",
        "    label_binarized = lookup(labels).numpy()\n",
        "    dataset = tf.data.Dataset.from_tensor_slices(\n",
        "        (dataframe[\"summaries\"].values, label_binarized)\n",
        "    )\n",
        "    dataset = dataset.shuffle(batch_size * 10) if is_train else dataset\n",
        "    dataset = dataset.map(unify_text_length, num_parallel_calls=auto).cache()\n",
        "    return dataset.batch(batch_size)\n"
      ]
    },
    {
      "cell_type": "code",
      "execution_count": null,
      "metadata": {
        "id": "-bZ8KHqCCMK5"
      },
      "outputs": [],
      "source": [
        "train_dataset = make_dataset(train_df, is_train=True)\n",
        "validation_dataset = make_dataset(val_df, is_train=False)\n",
        "test_dataset = make_dataset(test_df, is_train=False)"
      ]
    },
    {
      "cell_type": "markdown",
      "metadata": {
        "id": "vr-ohRLSCMK6"
      },
      "source": [
        "## Dataset preview"
      ]
    },
    {
      "cell_type": "code",
      "execution_count": null,
      "metadata": {
        "id": "rGS0JbgtCMK6",
        "colab": {
          "base_uri": "https://localhost:8080/"
        },
        "outputId": "4d7dc3d0-bd36-445e-da35-9b165ab18c95"
      },
      "outputs": [
        {
          "output_type": "stream",
          "name": "stdout",
          "text": [
            "Abstract: b'gws infrared outflow telescope complex wide method neutral large apply descriptor second new dust explosion wind old flow direct number relationships high point history persist drive modest flow proliferate stellar optical diverse scale galactic feature excite form cosmic formation galaxy half property newly multiphase technique model advance ionize image phenomenon rapidly regulation probe continue review molecular common galaxy near simple current least measurement pivotal energy application period join robust low instrumentation observation star scale development observation since nearby disk velocity biconical portfolio evolution reveal mature mechanism perpendicular sample spectroscopy gas structure outflow suggest galaxy throughout'\n",
            "Label(s): ['astro-ph.GA']\n",
            " \n",
            "Abstract: b'presentation handicap daedalus show matter campaign adaption completeness weather project implementation study thesis observatory thesis idea na summary phd optical proceeding cameras interplanetary repository text design tropospheric ground material oca imc practical sake extinction balloon stratospheric pezinok observation orison flux test geminids overcome first near author detail data find zenodo borne characterisation give instrumentation technique detection mission maximum line meteoroid like determine video base meteor investigate balloon modra multimedia earth work refer analyse'\n",
            "Label(s): ['astro-ph.EP' 'astro-ph.IM']\n",
            " \n",
            "Abstract: b'two large power simulation wave help vice find agreement simple cascade versa result body described transition one constrain property material belt asteroid result strength small kbo collisional asteroid simple law separate kuiper extend describe give body relevant state population case observation expression interpret steady object analytical unaffected result expression index size law evolution describe depends varies describe larger numerical superimpose yield excellent'\n",
            "Label(s): ['astro-ph.EP']\n",
            " \n",
            "Abstract: b'icm emission investigate simulation entail agn cdot conclude archival correct crucial combining erg spectral plasma muse role paper play high point approx emit component ionisation compton process onto ionise showed distribution chandra optical reproduce cube produce additionally prove galactic interstellar one text focus formation provide galaxy closely correlation property follow whereas ism thermal expect alpha trigger kev understand hot show accretion diffuse fraction intrinsic oi similar extend energy spatial sim fuel observe find jellyfish whose kt ray spectrum observation analysis surface star cool originate thick result map excess warm consistent absorption medium study interaction cloudy interplay reveal could able emergence higher gas luminosity emission intracluster would galaxy'\n",
            "Label(s): ['astro-ph.GA']\n",
            " \n",
            "Abstract: b'infrared mm occult publicly face three structure midplane outer suggests vortex inner call point region process star additional transition epic resolve far optical sub reveals propose nearly dim form formation notably geometry aperiodic dip disk model orbit warps extinction confirm planet produce transit periodic event exhibit light quasi curve available data planetesimal know range dipper relevant observation analysis circumstellar explore define inclination assume characteristic dipper consistent disk however explain host edge dusty view regularly mechanism would'\n",
            "Label(s): ['astro-ph.EP']\n",
            " \n"
          ]
        }
      ],
      "source": [
        "text_batch, label_batch = next(iter(train_dataset))\n",
        "\n",
        "for i, text in enumerate(text_batch[:5]):\n",
        "    label = label_batch[i].numpy()[None, ...]\n",
        "    print(f\"Abstract: {text[0]}\")\n",
        "    print(f\"Label(s): {invert_multi_hot(label[0])}\")\n",
        "    print(\" \")"
      ]
    },
    {
      "cell_type": "markdown",
      "metadata": {
        "id": "RYJCqBUkCMK6"
      },
      "source": [
        "## Vectorization"
      ]
    },
    {
      "cell_type": "code",
      "execution_count": null,
      "metadata": {
        "id": "6j1yh35BCMK6",
        "colab": {
          "base_uri": "https://localhost:8080/"
        },
        "outputId": "73fbe420-2b35-43f9-8eae-8f25ba1feff4"
      },
      "outputs": [
        {
          "output_type": "stream",
          "name": "stdout",
          "text": [
            "Vocabulary size: 179\n"
          ]
        }
      ],
      "source": [
        "train_df[\"total_words\"] = train_df[\"summaries\"].str.split().str.len()\n",
        "vocabulary_size = train_df[\"total_words\"].max()\n",
        "print(f\"Vocabulary size: {vocabulary_size}\")"
      ]
    },
    {
      "cell_type": "code",
      "execution_count": null,
      "metadata": {
        "id": "h3odTI_lCMK6"
      },
      "outputs": [],
      "source": [
        "text_vectorizer = layers.TextVectorization(\n",
        "    max_tokens=vocabulary_size, ngrams=2, output_mode=\"tf_idf\"\n",
        ")\n",
        "\n",
        "# `TextVectorization` layer needs to be adapted as per the vocabulary from our\n",
        "# training set.\n",
        "with tf.device(\"/CPU:0\"):\n",
        "    text_vectorizer.adapt(train_dataset.map(lambda text, label: text))\n",
        "\n",
        "train_dataset = train_dataset.map(\n",
        "    lambda text, label: (text_vectorizer(text), label), num_parallel_calls=auto\n",
        ").prefetch(auto)\n",
        "validation_dataset = validation_dataset.map(\n",
        "    lambda text, label: (text_vectorizer(text), label), num_parallel_calls=auto\n",
        ").prefetch(auto)\n",
        "test_dataset = test_dataset.map(\n",
        "    lambda text, label: (text_vectorizer(text), label), num_parallel_calls=auto\n",
        ").prefetch(auto)\n"
      ]
    },
    {
      "cell_type": "markdown",
      "metadata": {
        "id": "t9fDpf5YCMK7"
      },
      "source": [
        "## Create a text classification model\n"
      ]
    },
    {
      "cell_type": "code",
      "execution_count": null,
      "metadata": {
        "id": "LqayRS4ZCMK7"
      },
      "outputs": [],
      "source": [
        "\n",
        "def make_model():\n",
        "    shallow_mlp_model = keras.Sequential(\n",
        "        [\n",
        "            layers.Dense(256, activation=\"relu\"),\n",
        "            layers.Dropout(0.1),\n",
        "            layers.Dense(512, activation=\"elu\"),\n",
        "            layers.Dropout(0.2),\n",
        "            layers.Dense(1024, activation=\"selu\"),\n",
        "            layers.Dropout(0.1),\n",
        "            layers.Dense(2048, activation=\"relu\"),\n",
        "            layers.Dropout(0.1),\n",
        "            layers.Dense(1024, activation=\"elu\"),\n",
        "            layers.Dropout(0.1),\n",
        "            layers.Dense(512, activation=\"selu\"),\n",
        "            layers.Dropout(0.2),\n",
        "            layers.Dense(256, activation=\"relu\"),\n",
        "            layers.Dense(lookup.vocabulary_size(), activation=\"sigmoid\"),\n",
        "        ]\n",
        "    )\n",
        "    return shallow_mlp_model\n"
      ]
    },
    {
      "cell_type": "markdown",
      "metadata": {
        "id": "hJNr3ifJCMK7"
      },
      "source": [
        "## Train the model"
      ]
    },
    {
      "cell_type": "code",
      "execution_count": null,
      "metadata": {
        "id": "kdj8wf0FCMK7",
        "outputId": "08db7018-e0ba-4a8b-f61e-44d8171dfd2d",
        "colab": {
          "base_uri": "https://localhost:8080/",
          "height": 1000
        }
      },
      "outputs": [
        {
          "output_type": "stream",
          "name": "stdout",
          "text": [
            "Epoch 1/18\n",
            "192/192 [==============================] - 8s 26ms/step - loss: 0.5130 - precision: 0.4901 - recall: 0.1069 - val_loss: 0.3338 - val_precision: 0.6942 - val_recall: 0.4303\n",
            "Epoch 2/18\n",
            "192/192 [==============================] - 4s 21ms/step - loss: 0.3198 - precision: 0.7028 - recall: 0.4897 - val_loss: 0.2713 - val_precision: 0.7745 - val_recall: 0.5970\n",
            "Epoch 3/18\n",
            "192/192 [==============================] - 4s 21ms/step - loss: 0.2759 - precision: 0.7676 - recall: 0.5966 - val_loss: 0.2513 - val_precision: 0.8045 - val_recall: 0.6296\n",
            "Epoch 4/18\n",
            "192/192 [==============================] - 4s 23ms/step - loss: 0.2552 - precision: 0.7908 - recall: 0.6372 - val_loss: 0.2472 - val_precision: 0.8055 - val_recall: 0.6452\n",
            "Epoch 5/18\n",
            "192/192 [==============================] - 4s 21ms/step - loss: 0.2458 - precision: 0.7997 - recall: 0.6559 - val_loss: 0.2415 - val_precision: 0.8079 - val_recall: 0.6547\n",
            "Epoch 6/18\n",
            "192/192 [==============================] - 4s 21ms/step - loss: 0.2405 - precision: 0.8027 - recall: 0.6675 - val_loss: 0.2370 - val_precision: 0.8065 - val_recall: 0.6717\n",
            "Epoch 7/18\n",
            "192/192 [==============================] - 4s 21ms/step - loss: 0.2355 - precision: 0.8054 - recall: 0.6766 - val_loss: 0.2381 - val_precision: 0.8093 - val_recall: 0.6632\n",
            "Epoch 8/18\n",
            "192/192 [==============================] - 4s 21ms/step - loss: 0.2312 - precision: 0.8086 - recall: 0.6839 - val_loss: 0.2345 - val_precision: 0.8088 - val_recall: 0.6700\n",
            "Epoch 9/18\n",
            "192/192 [==============================] - 4s 21ms/step - loss: 0.2283 - precision: 0.8094 - recall: 0.6873 - val_loss: 0.2355 - val_precision: 0.8032 - val_recall: 0.6753\n",
            "Epoch 10/18\n",
            "192/192 [==============================] - 4s 21ms/step - loss: 0.2246 - precision: 0.8131 - recall: 0.6935 - val_loss: 0.2333 - val_precision: 0.8024 - val_recall: 0.6832\n",
            "Epoch 11/18\n",
            "192/192 [==============================] - 4s 22ms/step - loss: 0.2219 - precision: 0.8149 - recall: 0.6981 - val_loss: 0.2363 - val_precision: 0.8006 - val_recall: 0.6835\n",
            "Epoch 12/18\n",
            "192/192 [==============================] - 4s 21ms/step - loss: 0.2180 - precision: 0.8171 - recall: 0.7037 - val_loss: 0.2336 - val_precision: 0.7982 - val_recall: 0.6887\n",
            "Epoch 13/18\n",
            "192/192 [==============================] - 4s 23ms/step - loss: 0.2157 - precision: 0.8209 - recall: 0.7078 - val_loss: 0.2339 - val_precision: 0.7977 - val_recall: 0.6919\n",
            "Epoch 14/18\n",
            "192/192 [==============================] - 4s 22ms/step - loss: 0.2137 - precision: 0.8234 - recall: 0.7101 - val_loss: 0.2329 - val_precision: 0.8023 - val_recall: 0.6886\n",
            "Epoch 15/18\n",
            "192/192 [==============================] - 4s 22ms/step - loss: 0.2106 - precision: 0.8266 - recall: 0.7158 - val_loss: 0.2340 - val_precision: 0.7977 - val_recall: 0.6927\n",
            "Epoch 16/18\n",
            "192/192 [==============================] - 4s 23ms/step - loss: 0.2092 - precision: 0.8267 - recall: 0.7179 - val_loss: 0.2369 - val_precision: 0.7937 - val_recall: 0.6816\n",
            "Epoch 17/18\n",
            "192/192 [==============================] - 4s 22ms/step - loss: 0.2062 - precision: 0.8308 - recall: 0.7227 - val_loss: 0.2359 - val_precision: 0.7995 - val_recall: 0.6853\n",
            "Epoch 18/18\n",
            "192/192 [==============================] - 4s 22ms/step - loss: 0.2047 - precision: 0.8317 - recall: 0.7251 - val_loss: 0.2366 - val_precision: 0.7986 - val_recall: 0.6932\n"
          ]
        },
        {
          "output_type": "display_data",
          "data": {
            "image/png": "[encoded data removed]",
            "text/plain": [
              "<Figure size 432x288 with 1 Axes>"
            ]
          },
          "metadata": {
            "needs_background": "light"
          }
        },
        {
          "output_type": "display_data",
          "data": {
            "image/png": "[encoded data removed]",
            "text/plain": [
              "<Figure size 432x288 with 1 Axes>"
            ]
          },
          "metadata": {
            "needs_background": "light"
          }
        },
        {
          "output_type": "display_data",
          "data": {
            "image/png": "[encoded data removed]",
            "text/plain": [
              "<Figure size 432x288 with 1 Axes>"
            ]
          },
          "metadata": {
            "needs_background": "light"
          }
        }
      ],
      "source": [
        "epochs = 18\n",
        "\n",
        "shallow_mlp_model = make_model()\n",
        "shallow_mlp_model.compile(\n",
        "    loss=\"binary_crossentropy\", optimizer=\"adam\", metrics=[tf.keras.metrics.Precision(), tf.keras.metrics.Recall()]\n",
        ")\n",
        "\n",
        "history = shallow_mlp_model.fit(\n",
        "    train_dataset, validation_data=validation_dataset, epochs=epochs,\n",
        ")\n",
        "\n",
        "\n",
        "def plot_result(item):\n",
        "    plt.plot(history.history[item], label=item)\n",
        "    plt.plot(history.history[\"val_\" + item], label=\"val_\" + item)\n",
        "    plt.xlabel(\"Epochs\")\n",
        "    plt.ylabel(item)\n",
        "    plt.title(\"Train and Validation {} Over Epochs\".format(item), fontsize=14)\n",
        "    plt.legend()\n",
        "    plt.grid()\n",
        "    plt.show()\n",
        "\n",
        "\n",
        "plot_result(\"loss\")\n",
        "plot_result(\"precision\")\n",
        "plot_result(\"recall\")"
      ]
    },
    {
      "cell_type": "markdown",
      "metadata": {
        "id": "9SGJuIC_CMK7"
      },
      "source": [
        "## Evaluate the model"
      ]
    },
    {
      "cell_type": "markdown",
      "source": [
        "###Exact Match Radio"
      ],
      "metadata": {
        "id": "uWx9WJkfFCoj"
      }
    },
    {
      "cell_type": "code",
      "source": [
        "def get_y_true_and_y_pred_prob_value():\n",
        "    model_for_evaluate = keras.Sequential([text_vectorizer, shallow_mlp_model])\n",
        "    evaluate_dataset = make_dataset(test_df, is_train=False)\n",
        "\n",
        "    y_true = []\n",
        "    y_pred_prob = []\n",
        "\n",
        "    for text_batch, label_batch in evaluate_dataset:\n",
        "        predicted_probabilities = model_for_evaluate.predict(text_batch)\n",
        "        for i, text in enumerate(text_batch):\n",
        "            label = label_batch[i].numpy()[None, ...]\n",
        "            y_true.append(label[0])\n",
        "            y_pred_prob.append(predicted_probabilities[i])\n",
        "    y_true = np.array(y_true)\n",
        "    y_pred_prob = np.array(y_pred_prob)\n",
        "    return y_true, y_pred_prob\n"
      ],
      "metadata": {
        "id": "q2WLE755ewF1"
      },
      "execution_count": null,
      "outputs": []
    },
    {
      "cell_type": "code",
      "source": [
        "def get_y_pred(y_pred_prob, k=3, threshold=0.5):\n",
        "    y_pred = []\n",
        "    for pred in y_pred_prob:\n",
        "        top_k_labels = [\n",
        "            x\n",
        "            for _, x in sorted(\n",
        "                zip(pred, lookup.get_vocabulary()),\n",
        "                key=lambda pair: pair[0],\n",
        "                reverse=True,\n",
        "            )\n",
        "        ][:k]\n",
        "        y_top_k_labels = np.zeros(y_pred_prob[0].shape[0])\n",
        "        for j in range(len(vocab)):\n",
        "            if(vocab[j] in top_k_labels):\n",
        "                if(pred[j] > threshold):\n",
        "                    y_top_k_labels[j] = 1\n",
        "                else:\n",
        "                    top_k_labels.remove(vocab[j])\n",
        "        y_pred.append(y_top_k_labels)\n",
        "    y_pred = np.array(y_pred)   \n",
        "    return y_pred\n"
      ],
      "metadata": {
        "id": "gstTHRPug2WC"
      },
      "execution_count": null,
      "outputs": []
    },
    {
      "cell_type": "code",
      "source": [
        "y_true, y_pred_prob = get_y_true_and_y_pred_prob_value()\n",
        "for k in range(1,7,1):\n",
        "    for threshold in np.arange(0.3,0.8,0.1):\n",
        "        y_pred = get_y_pred(y_pred_prob, k, threshold)\n",
        "        number_of_test = test_df.shape[0]\n",
        "        from sklearn.metrics import accuracy_score\n",
        "        acc = accuracy_score(y_true, y_pred)\n",
        "        print(f\"With k = {k} and threshold = {round(threshold,1)} - Exact Match Radio accuracy on the test set: {round(acc * 100, 2)}%\")"
      ],
      "metadata": {
        "colab": {
          "base_uri": "https://localhost:8080/"
        },
        "id": "1hD9Rzb2UQ6S",
        "outputId": "8f1988e4-b358-483d-de37-69af646b4f2c"
      },
      "execution_count": null,
      "outputs": [
        {
          "output_type": "stream",
          "name": "stdout",
          "text": [
            "With k = 1 and threshold = 0.3 - Exact Match Radio accuracy on the test set: 54.46%\n",
            "With k = 1 and threshold = 0.4 - Exact Match Radio accuracy on the test set: 54.42%\n",
            "With k = 1 and threshold = 0.5 - Exact Match Radio accuracy on the test set: 54.0%\n",
            "With k = 1 and threshold = 0.6 - Exact Match Radio accuracy on the test set: 53.08%\n",
            "With k = 1 and threshold = 0.7 - Exact Match Radio accuracy on the test set: 51.25%\n",
            "With k = 2 and threshold = 0.3 - Exact Match Radio accuracy on the test set: 49.96%\n",
            "With k = 2 and threshold = 0.4 - Exact Match Radio accuracy on the test set: 53.4%\n",
            "With k = 2 and threshold = 0.5 - Exact Match Radio accuracy on the test set: 54.71%\n",
            "With k = 2 and threshold = 0.6 - Exact Match Radio accuracy on the test set: 54.28%\n",
            "With k = 2 and threshold = 0.7 - Exact Match Radio accuracy on the test set: 52.46%\n",
            "With k = 3 and threshold = 0.3 - Exact Match Radio accuracy on the test set: 49.63%\n",
            "With k = 3 and threshold = 0.4 - Exact Match Radio accuracy on the test set: 53.37%\n",
            "With k = 3 and threshold = 0.5 - Exact Match Radio accuracy on the test set: 54.72%\n",
            "With k = 3 and threshold = 0.6 - Exact Match Radio accuracy on the test set: 54.28%\n",
            "With k = 3 and threshold = 0.7 - Exact Match Radio accuracy on the test set: 52.46%\n",
            "With k = 4 and threshold = 0.3 - Exact Match Radio accuracy on the test set: 49.63%\n",
            "With k = 4 and threshold = 0.4 - Exact Match Radio accuracy on the test set: 53.37%\n",
            "With k = 4 and threshold = 0.5 - Exact Match Radio accuracy on the test set: 54.72%\n",
            "With k = 4 and threshold = 0.6 - Exact Match Radio accuracy on the test set: 54.28%\n",
            "With k = 4 and threshold = 0.7 - Exact Match Radio accuracy on the test set: 52.46%\n",
            "With k = 5 and threshold = 0.3 - Exact Match Radio accuracy on the test set: 49.63%\n",
            "With k = 5 and threshold = 0.4 - Exact Match Radio accuracy on the test set: 53.37%\n",
            "With k = 5 and threshold = 0.5 - Exact Match Radio accuracy on the test set: 54.72%\n",
            "With k = 5 and threshold = 0.6 - Exact Match Radio accuracy on the test set: 54.28%\n",
            "With k = 5 and threshold = 0.7 - Exact Match Radio accuracy on the test set: 52.46%\n",
            "With k = 6 and threshold = 0.3 - Exact Match Radio accuracy on the test set: 49.63%\n",
            "With k = 6 and threshold = 0.4 - Exact Match Radio accuracy on the test set: 53.37%\n",
            "With k = 6 and threshold = 0.5 - Exact Match Radio accuracy on the test set: 54.72%\n",
            "With k = 6 and threshold = 0.6 - Exact Match Radio accuracy on the test set: 54.28%\n",
            "With k = 6 and threshold = 0.7 - Exact Match Radio accuracy on the test set: 52.46%\n"
          ]
        }
      ]
    },
    {
      "cell_type": "markdown",
      "source": [
        "### Hamming Loss"
      ],
      "metadata": {
        "id": "rnKcTga8Y7xd"
      }
    },
    {
      "cell_type": "code",
      "source": [
        "from sklearn.metrics import hamming_loss\n",
        "y_true, y_pred_prob = get_y_true_and_y_pred_prob_value()\n",
        "y_pred = get_y_pred(y_pred_prob, k=3, threshold=0.5)\n",
        "hml = hamming_loss(y_true, y_pred)\n",
        "print(f\"Hamming Loss = {hml}\")"
      ],
      "metadata": {
        "id": "iyadKXNWY6-X",
        "colab": {
          "base_uri": "https://localhost:8080/"
        },
        "outputId": "0e17e32f-2216-4cc5-be58-27ab40cd20b8"
      },
      "execution_count": null,
      "outputs": [
        {
          "output_type": "stream",
          "name": "stdout",
          "text": [
            "Hamming Loss = 0.09308571971187107\n"
          ]
        }
      ]
    },
    {
      "cell_type": "markdown",
      "source": [
        "### Confusion Matrix Metrics"
      ],
      "metadata": {
        "id": "AIN3f9n6vayG"
      }
    },
    {
      "cell_type": "code",
      "source": [
        "from sklearn.metrics import multilabel_confusion_matrix\n",
        "\n",
        "y_true, y_pred_prob = get_y_true_and_y_pred_prob_value()\n",
        "y_pred = get_y_pred(y_pred_prob, k=3, threshold=0.5)\n",
        "\n",
        "m = multilabel_confusion_matrix(y_true, y_pred)\n",
        "\n",
        "for i in range(1,len(m)):\n",
        "    print(\"Multilabel_confusion_matrix_of: \"+vocab[i])\n",
        "    print(m[i])\n",
        "    print()\n",
        "    # print(vocab[i])"
      ],
      "metadata": {
        "colab": {
          "base_uri": "https://localhost:8080/"
        },
        "id": "7Mb8VGVOuHKQ",
        "outputId": "d41f2c60-9df1-4662-c396-86481244ac6e"
      },
      "execution_count": null,
      "outputs": [
        {
          "output_type": "stream",
          "name": "stdout",
          "text": [
            "Multilabel_confusion_matrix_of: astro-ph.GA\n",
            "[[6680  530]\n",
            " [ 886 2435]]\n",
            "\n",
            "Multilabel_confusion_matrix_of: astro-ph.SR\n",
            "[[6843  796]\n",
            " [ 822 2070]]\n",
            "\n",
            "Multilabel_confusion_matrix_of: astro-ph.EP\n",
            "[[7706  285]\n",
            " [ 459 2081]]\n",
            "\n",
            "Multilabel_confusion_matrix_of: astro-ph.HE\n",
            "[[8063  290]\n",
            " [ 808 1370]]\n",
            "\n",
            "Multilabel_confusion_matrix_of: astro-ph.IM\n",
            "[[8247  196]\n",
            " [ 901 1187]]\n",
            "\n",
            "Multilabel_confusion_matrix_of: astro-ph.CO\n",
            "[[8573  368]\n",
            " [ 521 1069]]\n",
            "\n"
          ]
        }
      ]
    },
    {
      "cell_type": "markdown",
      "source": [
        "### Precision, Recall, F1_score, micro-average, macro-average metrics"
      ],
      "metadata": {
        "id": "do3etJAedqfD"
      }
    },
    {
      "cell_type": "code",
      "source": [
        "from sklearn.metrics import classification_report\n",
        "\n",
        "y_pred = get_y_pred(y_pred_prob, k=3, threshold=0.5)\n",
        "\n",
        "print(classification_report(y_true, y_pred,target_names=vocab, zero_division = 0))"
      ],
      "metadata": {
        "colab": {
          "base_uri": "https://localhost:8080/"
        },
        "id": "VQMRBIQdvkAL",
        "outputId": "a806a298-8339-4bb5-84ab-b6669c461cc5"
      },
      "execution_count": null,
      "outputs": [
        {
          "output_type": "stream",
          "name": "stdout",
          "text": [
            "              precision    recall  f1-score   support\n",
            "\n",
            "       [UNK]       0.00      0.00      0.00         0\n",
            " astro-ph.GA       0.82      0.73      0.77      3321\n",
            " astro-ph.SR       0.72      0.72      0.72      2892\n",
            " astro-ph.EP       0.88      0.82      0.85      2540\n",
            " astro-ph.HE       0.83      0.63      0.71      2178\n",
            " astro-ph.IM       0.86      0.57      0.68      2088\n",
            " astro-ph.CO       0.74      0.67      0.71      1590\n",
            "\n",
            "   micro avg       0.81      0.70      0.75     14609\n",
            "   macro avg       0.69      0.59      0.64     14609\n",
            "weighted avg       0.81      0.70      0.75     14609\n",
            " samples avg       0.82      0.76      0.76     14609\n",
            "\n"
          ]
        }
      ]
    },
    {
      "cell_type": "markdown",
      "source": [
        "### Exist 1 in Top k predicts is true Accuracy"
      ],
      "metadata": {
        "id": "M4vCoFXeyACW"
      }
    },
    {
      "cell_type": "code",
      "source": [
        "def top_k_predict_is_true_accuracy(y_true, y_pred_prob, k=3, threshold = 0.5):\n",
        "    score = 0\n",
        "    for i in range(len(y_pred_prob)):\n",
        "            top_k_labels = [\n",
        "                x\n",
        "                for _, x in sorted(\n",
        "                    zip(y_pred_prob[i], lookup.get_vocabulary()),\n",
        "                    key=lambda pair: pair[0],\n",
        "                    reverse=True,\n",
        "                )\n",
        "            ][:k]\n",
        "            y_top_k_labels = np.zeros(y_pred_prob[0].shape[0])\n",
        "            for label in top_k_labels:\n",
        "                if(y_true[i][vocab.index(label)] == 1):\n",
        "                    score += 1\n",
        "                    break\n",
        "    return score/len(y_pred_prob)\n",
        "\n",
        "acc = top_k_predict_is_true_accuracy(y_true, y_pred_prob, 3, 0.5)\n",
        "print(f\"Accuracy: {acc}\")"
      ],
      "metadata": {
        "colab": {
          "base_uri": "https://localhost:8080/"
        },
        "id": "-8bPEVxXyJv8",
        "outputId": "e669c7d8-fce6-4a9e-c2b6-4637ac61e505"
      },
      "execution_count": null,
      "outputs": [
        {
          "output_type": "stream",
          "name": "stdout",
          "text": [
            "Accuracy: 0.9777798879498623\n"
          ]
        }
      ]
    },
    {
      "cell_type": "markdown",
      "metadata": {
        "id": "dMBkcIVJCMK8"
      },
      "source": [
        "## Inference"
      ]
    },
    {
      "cell_type": "code",
      "source": [
        "# Create a model for inference.\n",
        "model_for_inference = keras.Sequential([text_vectorizer, shallow_mlp_model])\n",
        "\n",
        "# Create a small dataset just for demoing inference.\n",
        "inference_dataset = make_dataset(test_df.sample(100), is_train=False)\n",
        "text_batch, label_batch = next(iter(inference_dataset))\n",
        "predicted_probabilities = model_for_inference.predict(text_batch)\n",
        "\n",
        "k=6\n",
        "\n",
        "# Perform inference.\n",
        "for i, text in enumerate(text_batch[:50]):\n",
        "    label = label_batch[i].numpy()[None, ...]\n",
        "    print(f\"Abstract: {text[0]}\")\n",
        "    print(f\"Label(s): {invert_multi_hot(label[0])}\")\n",
        "    predicted_proba = [proba for proba in predicted_probabilities[i]]\n",
        "    top_k_labels = [\n",
        "        x\n",
        "        for _, x in sorted(\n",
        "            zip(predicted_probabilities[i], lookup.get_vocabulary()),\n",
        "            key=lambda pair: pair[0],\n",
        "            reverse=True,\n",
        "        )\n",
        "    ][:k]\n",
        "    predicted_proba.sort(reverse = True)\n",
        "    for i in reversed(range(len(predicted_proba)-1)):\n",
        "        if(predicted_proba[i] < 0.3 and len(top_k_labels) > 0):\n",
        "            top_k_labels.pop(i)\n",
        "    print(f\"Predicted Label(s): ({', '.join([label for label in top_k_labels])})\")\n",
        "    print(\" \")"
      ],
      "metadata": {
        "colab": {
          "base_uri": "https://localhost:8080/"
        },
        "id": "J9Eqxq-rdqlc",
        "outputId": "b1ec76e1-d8f3-4ed6-97e9-56daa2e7e5a8"
      },
      "execution_count": null,
      "outputs": [
        {
          "output_type": "stream",
          "name": "stdout",
          "text": [
            "Abstract: b'pile combine sfd method best find interior look particle osiris correspond exploration determine statistical density distribution rubble cm provide inversion void whereas depth mission model model fit rex largest constitutes bulk indicate porosity asteroid near shape frequency approximately compatible observe detailed field surface measure macro cumulative index consistent size bennu center particular gravity earth heterogeneity structure significant lower'\n",
            "Label(s): ['astro-ph.EP']\n",
            "Predicted Label(s): (astro-ph.EP)\n",
            " \n",
            "Abstract: b'present faddeyeva run complex algorithm et wide return grid new previous optional efficient partial exploit laplace iy argument humlicek result hui computation fine output technique carefully addition asymptotic along calculated imaginary relative simple relatively continued function fraction approximation derivative approximation easily time maximum real less calculation expression shorter show error accurate competitive part al numerical execution'\n",
            "Label(s): ['astro-ph.IM']\n",
            "Predicted Label(s): (astro-ph.IM, astro-ph.EP)\n",
            " \n",
            "Abstract: b'faint eccentric second curve best old ruprecht dwarf agreement day detach velocity active follow star one epic avoid stellar estimate may comparison analyzed infer related mass sun report open low good see absolute seem gyr mission activity subtle model earlier unlikely monitoring line secondary sum spectroscopic spot combine calculated suspect problem level eclipse light ratio similar current study presence oversized graze know often slightly primary radius mass binary instead double radius effort analysis star system point bypass nearby photometry rather radial metallicity bias evolution age indicate despite yield possible cluster'\n",
            "Label(s): ['astro-ph.SR']\n",
            "Predicted Label(s): (astro-ph.SR)\n",
            " \n",
            "Abstract: b'theseus counterpart guest solve cornerstone aim two agn within large facility domain wave second question future investigate transient grb opportunity great next high concept study vision burst observe star one synergies gravitational gamma gravitational substantial cosmic mass galaxy billion redshift open late low mission advancement neutrinos generation shed interferometer become across messenger observer identification space early localisation kind first exploit esa comsic light detect candidate study year class return universe fully modern sfr neutrino third expand body time population ray observation target detector main comprise science grbs solar system include astrophysics primordial dawn case ionization well key minor source exoplanets programme metallicity routinely ray evolution accurate iii enable gamma gw cosmology electromagnetic pop multi issue luminosity wave provide'\n",
            "Label(s): ['astro-ph.IM']\n",
            "Predicted Label(s): (astro-ph.HE, astro-ph.SR)\n",
            " \n",
            "Abstract: b'present ch set infrared two jup unique finally power best old dwarf find compute cool tail result emerge composed broader camera eff center telescope peak use feature improvement use ground log property gyr atmospheric model jean carrier space overall hubble flux band uncontaminated chemical rayleigh light near wide fail lambda band unknown tentatively space range account observe significantly binary intensity longward spectrum nh star background equilibrium compare bol detect photometry dwarf brown resolve base absorption prediction equal unit identify match sun subsolar field publish delta previously wisep ratio luminosity contrast bolometric wavelength cover archetype significant um lower'\n",
            "Label(s): ['astro-ph.SR']\n",
            "Predicted Label(s): (astro-ph.SR)\n",
            " \n",
            "Abstract: b'flat galactic evolutionary whilst code outer ogle find difference compute picture photosphere depend iv single type star status idea probe pcac thus stellar extend interaction change front use day art classical also broad model across mesa rr hydrodynamics colour slop hydrogen exhibit relative light pulsation similar hif use test data bl short radiation diagram smc amplitude relation theory find shallow period state spectrum variable minimum hr maximum location analysis star involve pc lyraes vir position explain incorporate ionization generally consistent lmc base cepheids envelope bulge radial explain period evolution long ii able hydrodynamic work structure theoretically relation type unify'\n",
            "Label(s): ['astro-ph.SR']\n",
            "Predicted Label(s): (astro-ph.SR, astro-ph.GA)\n",
            " \n",
            "Abstract: b'infrared method two night calibrators calibrate identify examine combine spectral meet velocity nm alone status requirement order impact stellar solution etalon combination sufficiently obtain allows dependence spirou erot overall use rv calibration near hollow current band make calibrate correspondence lead spectra sim mathrm pixel cfht develop describe different cavity intra line lamp yjhk improvement development design internal nir stability width precise fabry cathode radial however error une accurate precision cover inter wavelength significant provide rv spectropolarimeter'\n",
            "Label(s): ['astro-ph.EP' 'astro-ph.IM']\n",
            "Predicted Label(s): (astro-ph.SR, astro-ph.IM, astro-ph.EP)\n",
            " \n",
            "Abstract: b'present reaction thermonuclear information rise unique environment extensive remains uncertainty complementary neutron pulsation high black astrophysical recent compact type power star include stellar provide burst related mass good see distinct burst model last understanding review event error experiment variability exploit phenomena exhibit microseconds prospect hole many measurement class year many avenue energy range radius observe found contribution interest although describe timescales ray give effort observational observation decade surface accrete star neutron object systematic contentious case well source resolve span effect chain thermonuclear match particular nuclear briefly view measure widest'\n",
            "Label(s): ['astro-ph.HE']\n",
            "Predicted Label(s): (astro-ph.HE, astro-ph.SR)\n",
            " \n",
            "Abstract: b'present subaru emission analysis revise complex cosmological initial simulation two within new matter survey improve heavier lens inner ein support iv plane result reveal type star apertures confirm telescope pure strong focas use project cent inferred mass galaxy redshift distant dominate imf arc earlier smaller cusp identification oiii arcsec combine early hint imf configuration similar dynamical data multiple lead function radius mass find contribution unseen einstein evident lens observation line source discover claim sd system milky elliptical image manga consistent ifu lensing dark way study originally spectrograph different theta per configuration counter previously contrast lower'\n",
            "Label(s): ['astro-ph.GA']\n",
            "Predicted Label(s): (astro-ph.GA)\n",
            " \n",
            "Abstract: b'evolutionary mm framework differ can not number agn object hii large show ir dust magorrian seyfert torus structure role onset respect term next lead active single type idea include one sight interferometry optical may galactic nucleus form unification formation galaxy property also broad activity possible technique model model rightarrow discovery monitoring result delay last increase permit dichotomy path example suggest obscure physical zoo simple need frequency polarize important reason year many manifestation spectrum observe transition whose spectrum vs observational observation maximum line need main star orientation explain unified surround consider line effect explain different however interrelation evolution host moreover dusty multi higher nuclei motivation structure relation occurrence would suggest galaxy mid'\n",
            "Label(s): ['astro-ph.GA']\n",
            "Predicted Label(s): (astro-ph.GA, astro-ph.HE)\n",
            " \n",
            "Abstract: b'counterpart photometric magnitude ephemeris two publicly method large unique numerous new binary future help dwarf total false pulsation aim catalogue term arrive high automate system result correspond selection process compile type determine conclusion star one target goal strong asteroseismic use mass low model sample positive model compose approximate rotational apply allow aim stringent sequence hot pulsational variability min without develop eclipse physical start relative light curve eclipse intermediate presence available result candidate least tess oba reduction check band data homogeneously context aim input magnitude binary detect signal understood detection catalog subsequent main less part cut model well internal criterion intermediate photometry well depths search understand regime colour cadence manual improve pipeline type method'\n",
            "Label(s): ['astro-ph.SR' 'astro-ph.IM']\n",
            "Predicted Label(s): (astro-ph.SR)\n",
            " \n",
            "Abstract: b'blue outflow simulation two especially implies operate wind gas frequently magnetohydrodynamic directly inner mhd meet helpful pressure high condition negligible velocity active ultrafast driven middle broader density order shift produce change galactic cause latitudes formation angle property low luminous spread absorption initially dominate disk magnetic highly model ionized agns become rotational opening shield expose force common filament study shield band sense weaker radiation function column spectrum find enhances around time photon ray set average field line location surface dense region uv like drive prevents compare line perform velocity effective corona axis higher drive gas rm ultraviolet nucleus ufos dimensional becomes higher hydrodynamic'\n",
            "Label(s): ['astro-ph.HE']\n",
            "Predicted Label(s): (astro-ph.GA, astro-ph.HE)\n",
            " \n",
            "Abstract: b'measure level hydrogen publication review principal use consider information rotational molecule network linelist compilation ground active energy data rotation sulfide compare electronic component ortho energy technique marvel alternative vibrational database critically base transition verify variational measured parent single assign result state marvel level isotopologue determine set theoretical determine collate para spectroscopic separately vibration include'\n",
            "Label(s): ['astro-ph.EP']\n",
            "Predicted Label(s): (astro-ph.HE, astro-ph.IM)\n",
            " \n",
            "Abstract: b'gaia et jura giant spectral skiff plane compilation individual ruwe star confirm stellar optical estimate probably us glimpse derive make msun plxerr spectroscopically sample allow highly class luminosity analyze wise red versus least measurement know temperature magnitudes mass kleinmann extract msx levesque another distance mipsgal elias consist parallax nearby mbol well supergiant plx mag list include source investigate effective candidate nomad cio infrared historical al luminosity humphreys bolometric type catalog reliable'\n",
            "Label(s): ['astro-ph.GA' 'astro-ph.SR']\n",
            "Predicted Label(s): (astro-ph.SR, astro-ph.GA)\n",
            " \n",
            "Abstract: b'virgo crowd photometric focus telescope simulation distance giant offer large field corresponds branch future european find paper inner next high central extension result aperture region simeq multi star one thus distribution telescope stellar impact extremely performance us specification derive dex galaxy half diagram ground distant optic optimal also allow generation expect moderate maory recover adopt condition allows construct synthetic showing lesssim error arcsec capability foreseen first mu light shape similar study color magnitude approximately detail resolution data assume obtain almost radius robust accuracy module population opportunity case radii micado observation exemplify analysis conjugate recover science gradient elliptical photometry adaptive giant imager mag base perform whole point spread explore degradation color metallicity different effective function accurate evaluate typical effect rm elliptical red large galaxy possible cluster'\n",
            "Label(s): ['astro-ph.GA' 'astro-ph.SR' 'astro-ph.IM']\n",
            "Predicted Label(s): (astro-ph.GA, astro-ph.SR)\n",
            " \n",
            "Abstract: b'present priori especially information method millisecond finally applied power profile n scatter pulse explorer rossi photon constrain blackbody angle component result schwarzschild polarization determine star parameter reproduce carlo use constrain analyzed pulsar mass msun credibility probability special distribution model image pulse posterior robustness obtain sax become oblate synthetic hot example seed polarimeter time trajectory fraction slab first take similar constraint comptonization shape sample law deform available test relativistic data generate radiation obtain know rxte radius encode approximation mass account range general n invariant accuracy photon empirical ray spectrum radius profile observation analysis star accrete neutron improvement markov ensemble monte req self equatorial together chain km show different correction accurate affine accurately bayesian'\n",
            "Label(s): ['astro-ph.HE']\n",
            "Predicted Label(s): (astro-ph.HE)\n",
            " \n",
            "Abstract: b'present telescope algorithm wide hand two convergence multiband find identify three structure much quasar value find system criterion result underdense dispersion external determine sight sufficient ingredient density distribution stellar tighter use close use vlt weight wgd mass galaxy des unit redshift low probability tight massive model obtain delay calibrate negative estimating impose use along flexion constraint kappa environment function lead spectra locate mathrm significantly gemini millennium dispersion time include observation field source group main shear less cosmography key determine line lensing width base velocity proximity identify count lensed next group long magellan spectroscopy simulation galaxy perturbers shift significant ext measure'\n",
            "Label(s): ['astro-ph.GA' 'astro-ph.CO']\n",
            "Predicted Label(s): (astro-ph.GA)\n",
            " \n",
            "Abstract: b'present companion planet take distance within giant large fwhm pd weak inner limit high confirm resolve stellar sub carlo furthermore mass disk put fit image sharp gap line image centaurus north band first sed dynamical presence polarize resolution tauri model data multiple proper radius account form toward unseen au around time intensity classify observation analysis circumstellar radiative star background monte existence transitional infer pre result dwarf thick companion motion minor transfer brown base center pi radial show interaction candidate optically shift combine could geometric axis clearly suggest upper'\n",
            "Label(s): ['astro-ph.SR' 'astro-ph.EP']\n",
            "Predicted Label(s): (astro-ph.EP, astro-ph.SR)\n",
            " \n",
            "Abstract: b'present origin flat galactic emission hii information large examine survey profile spectral snr contains confine find paper hi recombination plane radio corresponding region determine artifact array resolve distribution strong karl maxima us reveals use half since noise low catalog jansky index broad thermal thor evenly alpha allows continuum decline remnant thanks beam around first level distinguish extragalactic candidate portion resolution use respectively radiation spatial know spectra ghz evidence observe transition unresolved program varying carry give signal around time potential double classify steeper steep observation line source object reliable vla non provide milky distribute oh nature generally index line source way show investigate mjy able four quadrant ratio contrast bandwidth supernova spatially large significant peak recombination possible'\n",
            "Label(s): ['astro-ph.GA' 'astro-ph.SR' 'astro-ph.IM']\n",
            "Predicted Label(s): (astro-ph.GA, astro-ph.SR, astro-ph.IM)\n",
            " \n",
            "Abstract: b'present factor two publicly zone previous three spectral solution hz atmosphere system body determine distribution introduce top calculate use use sun comprehensive also demonstrate carry model interactive planet telescope interest space use flux capability problem methodology detect receive available multiple energy concept binary contribution application develop calculate around weight kepler calculation discuss star analytical like base boundary habitable study website earth detail instruction total'\n",
            "Label(s): ['astro-ph.EP']\n",
            "Predicted Label(s): (astro-ph.EP, astro-ph.SR)\n",
            " \n",
            "Abstract: b'pulsar emission simulation inclination two production large outgo make uniform plasma voltage photon find rays agreement magnetosphere significant high extraction point particle active finding energetic include density peak stellar extend strong frame produce may sheet gamma drag close cosmic pulsar efficiency regulate open rotators energy ultra dominate magnetic highly relativity increase ion interest global contain flux loading calculate cutoff foundation fraction increase light curve cell candidate current energized frequency interpretation propagation latitude relativistic radiation energy spectrum observe general extract carry dot case ray v observation field line surface radiative wind particle oblique non case fermi lay decrease equatorial discharge line perform effect show reconnection correction explain scatter synchrotron quantitative support pair ion'\n",
            "Label(s): ['astro-ph.HE']\n",
            "Predicted Label(s): (astro-ph.HE)\n",
            " \n",
            "Abstract: b'modification best code axisymmetric compute pressure high mode type confirm evolutionary hottest order space dipole make report low property pulsator adiabatic model excitation discovery mesa identification asymptotic pulsational associate problem mode indispensable range frequency seismic kic instability show range approximation observe discussed period observation model non include exhibit fit hybrid rotation traditional effect explain linear gravity pattern employ simultaneously significant'\n",
            "Label(s): ['astro-ph.SR']\n",
            "Predicted Label(s): (astro-ph.EP)\n",
            " \n",
            "Abstract: b'define factor sb et initial two within diversity pm leroy suggest sfe inner isophotal project helium co central result time individual opposite multi stellar probably yr nearly mass formation efficiency galaxy unit morphological seem rate compare sample cover also disk arm image earlier select bar conversion average dependence sorai momose global molecular arcsec along nearby band partly representative spiral trend assume galactocentric function slightly radius found contribution difference radius typically star mainly part examine explained region activity consider consistent line mag base galaxy study show radial among different metallicity however constant per sab ellipse variation ngc sa higher gas evaluation al relate type suggest lower'\n",
            "Label(s): ['astro-ph.GA']\n",
            "Predicted Label(s): (astro-ph.GA)\n",
            " \n",
            "Abstract: b'present define galactic photometric categorize blue magnitude astronomical crucial model kinematics best parametric paper agreement osc identify component core star statistical parameter true cmd distribution stellar enhancement fit use relate furthermore mass open good seem also solution segregation identification sequence understand bcs incompleteness colour various continuous red rdp phenomenon give estimation representative study etc important literature densityprofile data diagram function show radius evidence task find king v due tracer star object incremental cluster examine slope consider nature arcmin approach radial effective linear evolution group value ngc colour estimate effect influence appear member possible cluster'\n",
            "Label(s): ['astro-ph.SR']\n",
            "Predicted Label(s): (astro-ph.GA, astro-ph.SR)\n",
            " \n",
            "Abstract: b'present bao power matter three solution de cosmic acoustic form treat supernova include density backround track mass type latest equation model solution couple combination approximate neglecting obtain stringent sigma strength microwave ia sitter give level constraint applicable kappa attractor law marginalize lambda radiation function energy baryon confront range spinor theory cmb confidence potential sn observation term field oscillation couple assume system parameter consider dark autonomous understand effective evolution constant omega database give conclusion'\n",
            "Label(s): ['astro-ph.CO']\n",
            "Predicted Label(s): (astro-ph.CO)\n",
            " \n",
            "Abstract: b'correlators nonlinear prescription cosmological simulation survey statistic field matter previous unequal typically role geometry compare play validate negligible body thus density suppress extend gravitational evaluate redshift alignment also wavenumbers model correlation introduces restrict intrinsic consider dependent redshift zeldovich model application exception make universe function approximation approximation observables give time potential case necessary calculation typically discuss analytical scale scale well base prediction suppression velocity provide show equal different however accurate normally cosmology regime exponential could depend work numerical yield galaxy lightcone'\n",
            "Label(s): ['astro-ph.CO']\n",
            "Predicted Label(s): (astro-ph.CO)\n",
            " \n",
            "Abstract: b'pulsar galactic disfavor distance two calibrators position resultant useful field archival new campaign peculiar xte snr correspond astrometric remnant plausible annual direct high identify velocity study radio central result sky refined confirm array reference wavelength physic ago improvement substantial long late perform compare burst bright upon magnetar magnetic magnetars pulse vector sample kyr calibration colinear first level quasi extragalactic relatively year proper back phase compatible mathrm emit association extensively population average observation prototype unremarkable resume measure kpc position point nearby fast region measurement motion velocity provide baseline km among parallax precision ma age combine enable geometric estimate brighten transverse supernova connection probable'\n",
            "Label(s): ['astro-ph.HE' 'astro-ph.IM']\n",
            "Predicted Label(s): (astro-ph.GA, astro-ph.SR)\n",
            " \n",
            "Abstract: b'bluewards emission outflow agn aim two wissh finally power previous erg feature efficient wind find difference respect project manifest pressure identify radio result characterize onto update sufficient density study feedback optical estimate civ furthermore incidence property luminous also compare sample highest ultra broad ionize nuclear luminosity aim dependence show molecular geq associate kinetic fraction favour hyperluminous acceleration collect bi release data likely quasar radiation trough column spectra sim observe average maximum line peak fastest object discover sdss bal fast intermediate bol region uv upon line regime absorption whole study velocity km investigate siiv mechanism host sample nuclear moreover larger higher catalogue drive rm ufos luminosity outflow bolometric suggest galaxy provide possible lower'\n",
            "Label(s): ['astro-ph.GA']\n",
            "Predicted Label(s): (astro-ph.GA)\n",
            " \n",
            "Abstract: b'analysis combine photometric place cosmological equation survey pi method making griz best uncertainty future complementary find difference call single sky process determine follow change star place statistical one offset reference optical change type half redshift low hst propose sample bright allow csp correcting recover largest secondary calibrate ia overall various use flux snls standard small beyond calibration increase constraint estimation relative current strongly measurement energy range expand observe take state sn average observation inhomogeneous pan past systematic measure sd system well compare parameter passbands ideal mmag consistent mag size dark recalibrate discrepancy tie different error roughly supercal sample value depends effect supernova currently current'\n",
            "Label(s): ['astro-ph.IM']\n",
            "Predicted Label(s): (astro-ph.CO)\n",
            " \n",
            "Abstract: b'shortcoming framework magnitude algorithm survey convergence mcmc large everywhere previous make principled save uncertainty weak find gaussianity credible iv extension mala lsst benchmarked px map hierarchical statistical address strong carlo use proximal critical gravitational mass art efficiency via correlation sparse demonstrate technique highly mathcal recover euclid coefficient geq without increase local approach similar interval correlate reconstruction concept recently application present chain detailed state conservative stage typically markov scale pearson assumption monte quantification formalism upon cf lensing error lack uncertainty draw moreover previously work quantify computational bayesian bar'\n",
            "Label(s): ['astro-ph.CO']\n",
            "Predicted Label(s): (astro-ph.CO, astro-ph.IM)\n",
            " \n",
            "Abstract: b'present gev emission galactic focus hadronic emitter spectral lat atmospheric photon list ray high cascade approx t gamma cosmic redshift induce property catalog ultra expect eight image sigma select variability geq tev lac active modeling data year bl energy promising range signal potential ray detection observation analysis object distinguish fermi index telescope source search nuclei base follow leptonic candidate lead flux electromagnetic regime cherenkov synchrotron discriminate significant peak'\n",
            "Label(s): ['astro-ph.HE']\n",
            "Predicted Label(s): (astro-ph.HE)\n",
            " \n",
            "Abstract: b'instrument require simulation initial thermodynamic mg crucial feature make electron derive solution code subject atmosphere implementation computationally efficiently helium metal demand considerable dynamic describe flare density wavelength use understanding however derive furthermore loop therefore approximates demonstrate iris model model combination sufficiently across alter filamented understanding doppler processing transport small beam hydrogen post level local alter heating multithreaded light curve current quantity drastically use model likely flare many energy population resolve require treated evidence observe treat nlte describe tune profile due observation calculation interpret intensity radiative solar scale development non equilibrium assumption explain pre thick ionization well transfer line include utility effect difficult show motivate match optically solver shift accurate long chromosphere synthesize ii value briefly hydrodynamic suggest'\n",
            "Label(s): ['astro-ph.SR']\n",
            "Predicted Label(s): (astro-ph.EP, astro-ph.SR)\n",
            " \n",
            "Abstract: b'define factor planet simulation several conclude large field diversity dm three wind observationally ram preferred role find axisymmetric complexity ray atmosphere momentum play efficiently report pressure d plane component recent spite star reconstruct analogy pressure distribution stellar orbital impact galactic cosmic mass flow suggest open percent sample thermal magnetic orbit rotational planet sum topology path flux early size along magnetospheric inversely lack magnetosphere even near shield important contribute gj angular dt find asymmetric work lead case set radii loss maximum field surface star wind scale solar non equilibrium vir away incorporate dwarf possibly equatorial result like map modulate carry thick perform leo component among period different evolution explain protective flux variation colatitude tot earth rm dimensional numerical planetary colatitudes significant total'\n",
            "Label(s): ['astro-ph.SR' 'astro-ph.EP']\n",
            "Predicted Label(s): (astro-ph.EP, astro-ph.SR)\n",
            " \n",
            "Abstract: b'clouds element uves several abundance increase change abundance relative include us vlt intermediate deepen study rest literature include expect traditional sample allow function metallicity magellanic spectrum obtain find scheme quality cl eight temperature however slight constant observe behavior twozone high ii ratio ar region structure understanding ion observation therefore use temperature gather'\n",
            "Label(s): ['astro-ph.GA']\n",
            "Predicted Label(s): (astro-ph.SR)\n",
            " \n",
            "Abstract: b'photoevaporation place planet require hd complex trace calibrate euv paper atmosphere ray aim unobserved high mostly purpose determine type star idea density distribution stellar extend estimate intense produce may calculate use us close integrated mass scenario suggest account late atmosphere loss rate also sample irradiation thermal model mj coronal planet allows calibrate synthetic incident dominate flux indicate first take aa determination lose current available conclusion result rapid data short radiation context valid accumulate proper know spectra coronal fully range mass contribution find observed period time ray spectrum v loss due observation analysis need assume real xuv calculation young since myr take well consistent whole exoplanets produce effect accessible explain evolution age larger previously support luminosity planetary relation receive total method'\n",
            "Label(s): ['astro-ph.SR' 'astro-ph.EP']\n",
            "Predicted Label(s): (astro-ph.EP, astro-ph.SR)\n",
            " \n",
            "Abstract: b'infalling decrease initial rise construct full power decline partial derive spectral faster compute momentum pressure black form result time onto density use hole inferred mass via late follow also rate dominate fallback model tdes besides alpha addition evolve event seed various form accretion light dependent curve law explicit band relativistic respectively increase obtain angular show disruption dot give time tidal loss due disc viscosity surface include parameter decrease assume propto show evolution decline depend debris gas rm luminosity bolometric height'\n",
            "Label(s): ['astro-ph.GA' 'astro-ph.HE']\n",
            "Predicted Label(s): (astro-ph.HE, astro-ph.GA)\n",
            " \n",
            "Abstract: b'ch bias set framework factor complex two tidally night large unique deliver examine new three structure curve retrieve geometry involve find joint implementation day co individual access capture intuition one tp orbital exoplanet abundance improvement geometry property atmosphere guide hst lock compare also demonstrate disk atmospheric model model obtain result apply unbiased transit hot spectroscopic molecular develop constraint representative favored abundance canonical approach curve spitzer strongly remain apply modeling must data multiple function know spectra phase require temperature retrieval base application develop context set inference profile observation assume wasp longitudinal bias truth jupiter fit phase consistent jwst orbit show however precision accurate follow appropriately typical geometric simulate appropriate integrated retrieval dimensional retrieve contrast view planetary homogeneity recommendation spectroscopic provide throughout'\n",
            "Label(s): ['astro-ph.EP']\n",
            "Predicted Label(s): (astro-ph.EP)\n",
            " \n",
            "Abstract: b'present emission complex compel two new profile position seyfert wind code angle find shape high co result spectropolarimetric fact optical outflowing change use represent model galaxy noise stokes trait across pa common shape presence polarize detail spatial range evidence observe transition signal profile blr observation balmer line radiative assume scatter object region transfer distinctive show could particular nuclear higher structure give'\n",
            "Label(s): ['astro-ph.GA']\n",
            "Predicted Label(s): (astro-ph.GA, astro-ph.CO)\n",
            " \n",
            "Abstract: b'compression telescope every survey faint visible evidence full previous ztf emit find paper black central sky lsst recent predict capture star survey fact one passage far breakout optical calculate galactic use close hole burst tidal seem also rate whereas year shock puffed expect empty sequence event hard red hole heat similar detected month use year short radiation range supermassive disruption significantly time ray case tidal detection loss cone maximum main verify favour discover real detect result uv like event asassn produce explore difficult different month per giant easier nuclei rate type'\n",
            "Label(s): ['astro-ph.HE']\n",
            "Predicted Label(s): (astro-ph.HE)\n",
            " \n",
            "Abstract: b'pulsar gev flat galactic emission soft object within millisecond power electron spectral best lat suggest six high parabola t relationship refine determine perhaps fit gamma pulsar log variety also bright allow model model addition produce hard diffuse globular first break detect mev law interpretation data year latitude relativistic generate correspondence energy know range unresolved tuc core analyse time ray population detection pas observation source cluster arise fermi fit well source traditional identify functional could ngc connection type would significant cluster'\n",
            "Label(s): ['astro-ph.HE']\n",
            "Predicted Label(s): (astro-ph.HE)\n",
            " \n",
            "Abstract: b'present stronger pr hd eu overabundance mg number object slowly new feature derive code much mild suggest difference compute chisquares high hg superficially select atomic synthesized highlight star synthesis ca transition include order may use noise atmosphere distinct compare rotators sample also model cnc similarity apparently monitor cr coolest steadily increase synthetic normal various hgmn early isotope chemical element first sirius aa peculiar abundance mn near comparison adjust nu limit resolution chemically unblended mean spectrum sophie underabundances find ba rotate signal heavy relevant spectrum hr line zr star discover conspicuous minimize sc ti line cap la actually sr hyperfine ii four pattern enhancement blend structure sm upper slow'\n",
            "Label(s): ['astro-ph.SR']\n",
            "Predicted Label(s): (astro-ph.SR, astro-ph.GA)\n",
            " \n",
            "Abstract: b'present counterpart every solve simulation morphology useful wave static previous launch grb head consistently pressure velocity depend sgrb include expand merger series collimation gravitational substantial analytic aspect angle outward also unlike dominate model model composition bns open estimate kinetic jet ambient semi propagation test short ejecta energy show sim medium radius binary find collapsars cocoon case lateral star neutron internal self burst surround consistent event width perform medium different merger ray jet whether gamma electromagnetic improve numerical clearly propagates'\n",
            "Label(s): ['astro-ph.HE']\n",
            "Predicted Label(s): (astro-ph.HE)\n",
            " \n",
            "Abstract: b'runaway decrease every several simulation wide occasionally poorly rise large nova eruption binary peak much dwarf consistently momentum high system progenitor co emerge star puzzle stoppage orbital feedback reproduce change novalike nearly mass classical report rich loss envelope demonstrate rate also converge indistinguishable irradiation model consume become resulting luminosity outbursts shell complete runaway red hydrogen novalikes kyr deep nova least cyclic short exist almost angular slightly range observed mass million period lead understood timescales white give variable multigyr virtually due identical solar though myr occurs self prenovae surround dwarf companion eruption transfer govern size accrete thermonuclear period different evolution novae long exhibit variation mechanism successive hibernation initially rate give lower'\n",
            "Label(s): ['astro-ph.SR' 'astro-ph.HE']\n",
            "Predicted Label(s): (astro-ph.SR)\n",
            " \n",
            "Abstract: b'hump truncation complex distance pm feature electron peak spectral plasma broaden achieved geometry suggest reflection inner comptonized reported cool black component compton narrow compact describe brighter statistical include center strong fe top day hole reveals mass report nustar distant material observe bright disk broad thermal model relativistically ionized combination fit alpha observation kev continuum maxi hard measure error illuminate five post modeling relativistic likely know coronal although temperature radius observe binary isco recently kt confidence around photon state spectrum adequate source moderately lamp discover phase fit indicate self well characteristic assumes mjd consistent line spin detailed candidate corona rm clear height significant currently outburst'\n",
            "Label(s): ['astro-ph.HE']\n",
            "Predicted Label(s): (astro-ph.SR)\n",
            " \n",
            "Abstract: b'present infalling emission simultaneous several within object large numerous pump innermost shock code effelsberg water inner respect pressure single enough core predict spite star one probe point order abundance entity use feature constrain form make mass formation thz derive newly perform accumulate propose massive thermal highly model model excitation maser still condition layer detectable image trace hifi hot ever use protostellar first physical abundance near detect environment map observatory likely radiation energy despite ghz space toward sofia another understood maser present around detection due observation source ratran circumstellar radiative want star object radiotelescope excited part herschel region well nature upgrade consistent transfer line source base velocity molecular km among merlin release host amount able water estimate outflow assume closest possible'\n",
            "Label(s): ['astro-ph.GA' 'astro-ph.SR']\n",
            "Predicted Label(s): (astro-ph.GA, astro-ph.SR)\n",
            " \n",
            "Abstract: b'simulation wide number emitter two offer large statistic show find poissonian best vice suggest find directly term computationally place point versa deviation volume hierarchical probe density order sub calculate scale use cluster galaxy redshift nbm correlation underestimate low catalog naturally probability void also binomial jackknife zero model measure approximate across examine alpha average negative sigma strength understand quantify normal error measure use function limit small simple similar devoid cell test laes function range describe accuracy guideline radii average observation vpf source count systematic lyman fit probe scale volume size independent explore show error uncertainty specify simulate appropriate describes higher connects catalog galaxy provide derive measure'\n",
            "Label(s): ['astro-ph.GA']\n",
            "Predicted Label(s): (astro-ph.CO)\n",
            " \n",
            "Abstract: b'present instrument extra emission shower two emitter information yield enhance occur simulation ice complementary ray agreement technology noise radio result purpose geomagnetic icecube reach transition predict array one study optical performance additionally radio physic galactic use propose cosmic design pev ground noise south good also exploratory dominated aspect modules highly montecarlo largest telescope observation suitability understand antennas world band motivate first air consist prospect sample frequency mhz specifically station measurement data many absence permit season test neutrino deploy observe significantly find augment eev take installation detail discus location air array development background pole sensor anthropogenic well rasta source response study setups show striking icetop observatory regime competitive consecutive improve shower excellent currently triple'\n",
            "Label(s): ['astro-ph.IM']\n",
            "Predicted Label(s): (astro-ph.IM, astro-ph.HE)\n",
            " \n",
            "Abstract: b'present origin photometric planet publicly large pipeline binary injection curve code conditioning future preserve false ascii fit specific run astrophysical result compute systematics correct process star recovery test user impact use gaussian automatically process mission model obtain apply planet ability periodic show pdc variability use small methodology tailor eclipse distinguish applicable light curve dependent similar available rstar te download rp use data many systematics approach amplitude remove radius file significantly detection period search pulsate time kepler average mission use star object particularly provide improves position python compare well timescale campaign regardless transit manually search original study show period estimate variable evolution precision correction evaluate enable data plato ratio simultaneously pipeline planetary instruction pre regression instrumental'\n",
            "Label(s): ['astro-ph.SR' 'astro-ph.EP' 'astro-ph.IM']\n",
            "Predicted Label(s): (astro-ph.EP, astro-ph.SR)\n",
            " \n",
            "Abstract: b'analysis photometric infrared clerical date number two object spherical within method pipeline show useful previous overestimate derive asteroid uncertainty paper mean neowise difference direct datasets result characterize change planetary update include albedo dataset paper reproduce make low percent thermal model consistency asteroid beam addition analyze sigma processing wise error various conclusion harris employ albedo software regard assess diameter asteroid model comparison substantially available use modeling release data make hereafter quality slightly properly table increase misconception issue present near due minimum drawn quantity system object measure diameter claim systematic incorrect case unphysically fit parameter compare myhrvold measurement quote minor provide show effective among accurate uncertainty unable publish appropriately data particular moreover issue team previously appropriate earth work thermal output'\n",
            "Label(s): ['astro-ph.EP']\n",
            "Predicted Label(s): (astro-ph.EP, astro-ph.IM)\n",
            " \n",
            "Abstract: b'present hd magnitude simulation night treatment field meridional previous equatorward three wind structure much lorentz value inclusion anelastic geometry magnetohydrodynamic find atmosphere flow mhd consistently ohmic day reasonable inflated discrepancy strong may close atmosphere see demonstrate magnetic faster model become gap slows planet order bar hot impose overall inadequate small highlighting force jet first increase heat poloidal near similar need reduction poleward likely slow radius strength somewhat induce present due necessary calculation field speed side wind include jupiter range achievable self equatorial consistent explain evolution dissipation lead able larger dimensional rate'\n",
            "Label(s): ['astro-ph.EP']\n",
            "Predicted Label(s): (astro-ph.EP)\n",
            " \n"
          ]
        }
      ]
    }
  ],
  "metadata": {
    "colab": {
      "collapsed_sections": [],
      "name": "Multi_label_classification_ANN_5",
      "provenance": [],
      "include_colab_link": true
    },
    "kernelspec": {
      "display_name": "Python 3",
      "language": "python",
      "name": "python3"
    },
    "language_info": {
      "codemirror_mode": {
        "name": "ipython",
        "version": 3
      },
      "file_extension": ".py",
      "mimetype": "text/x-python",
      "name": "python",
      "nbconvert_exporter": "python",
      "pygments_lexer": "ipython3",
      "version": "3.7.0"
    },
    "accelerator": "GPU"
  },
  "nbformat": 4,
  "nbformat_minor": 0
}